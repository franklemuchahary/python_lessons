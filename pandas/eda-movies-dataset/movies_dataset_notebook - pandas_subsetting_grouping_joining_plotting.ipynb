{
 "cells": [
  {
   "cell_type": "code",
   "execution_count": 14,
   "metadata": {
    "colab": {},
    "colab_type": "code",
    "id": "9ri14cgqH9za",
    "outputId": "eea54ed3-4a89-431b-8e65-dbed0414aa90"
   },
   "outputs": [
    {
     "data": {
      "text/html": [
       "<style> h3 {color: white; background-color: black;} h1 {color: white; background-color: darkblue}</style>"
      ],
      "text/plain": [
       "<IPython.core.display.HTML object>"
      ]
     },
     "execution_count": 14,
     "metadata": {},
     "output_type": "execute_result"
    }
   ],
   "source": [
    "from IPython.core.display import HTML\n",
    "css = '<style> h3 {color: white; background-color: black;} h1 {color: white; background-color: darkblue}</style>'\n",
    "HTML(css)"
   ]
  },
  {
   "cell_type": "code",
   "execution_count": 1,
   "metadata": {
    "colab": {},
    "colab_type": "code",
    "id": "YxTMY1gLH9zh"
   },
   "outputs": [],
   "source": [
    "import pandas as pd\n",
    "import numpy as np\n",
    "import os\n",
    "import warnings\n",
    "from datetime import datetime\n",
    "import matplotlib.pyplot as plt\n",
    "%matplotlib inline \n",
    "import seaborn as sns\n",
    "\n",
    "warnings.filterwarnings('ignore')\n",
    "pd.set_option('max.columns', 100)"
   ]
  },
  {
   "cell_type": "markdown",
   "metadata": {
    "colab_type": "text",
    "id": "8DzhP34mH9zk"
   },
   "source": [
    "# Loading data into dataframes & basic exploration\n",
    "<a href='http://datacamp-community-prod.s3.amazonaws.com/dbed353d-2757-4617-8206-8767ab379ab3'>Pandas Cheat Sheet for Reference</a>"
   ]
  },
  {
   "cell_type": "markdown",
   "metadata": {
    "colab_type": "text",
    "id": "wWilcIFGH9zm"
   },
   "source": [
    "###  Load all the csv files in the <b>'the-movies-datset'</b> folder as dataframes"
   ]
  },
  {
   "cell_type": "code",
   "execution_count": 9,
   "metadata": {
    "colab": {},
    "colab_type": "code",
    "id": "q8VsDgh5H9zn"
   },
   "outputs": [
    {
     "name": "stdout",
     "output_type": "stream",
     "text": [
      "Archive:  the-movies-dataset.zip\n",
      "   creating: the-movies-dataset/\n",
      "  inflating: the-movies-dataset/credits.csv  \n",
      "  inflating: the-movies-dataset/.DS_Store  \n",
      "   creating: __MACOSX/\n",
      "   creating: __MACOSX/the-movies-dataset/\n",
      "  inflating: __MACOSX/the-movies-dataset/._.DS_Store  \n",
      "  inflating: the-movies-dataset/movies_metadata.csv  \n",
      "  inflating: the-movies-dataset/ratings_small.csv  \n"
     ]
    }
   ],
   "source": [
    "! unzip the-movies-dataset.zip\n",
    "\n",
    "credits = pd.read_csv('the-movies-dataset/credits.csv')\n",
    "movies_metadata = pd.read_csv('the-movies-dataset/movies_metadata.csv')\n",
    "ratings = pd.read_csv('the-movies-dataset/ratings_small.csv')\n",
    "\n",
    "! rm -rf the-movies-dataset"
   ]
  },
  {
   "cell_type": "markdown",
   "metadata": {
    "colab_type": "text",
    "id": "XY9lWh51H9zq"
   },
   "source": [
    "### Print the shapes of all the loaded dataframes"
   ]
  },
  {
   "cell_type": "code",
   "execution_count": 10,
   "metadata": {
    "colab": {},
    "colab_type": "code",
    "id": "LvZ76Sv-H9zr",
    "outputId": "82bea43f-91b1-479a-9843-094ec0bf317d"
   },
   "outputs": [
    {
     "name": "stdout",
     "output_type": "stream",
     "text": [
      "credits:  (45476, 2)\n",
      "movies_metadata:  (45466, 25)\n",
      "ratings:  (26024289, 4)\n"
     ]
    }
   ],
   "source": [
    "print(\"credits: \", credits.shape)\n",
    "print(\"movies_metadata: \", movies_metadata.shape)\n",
    "print(\"ratings: \", ratings.shape)"
   ]
  },
  {
   "cell_type": "markdown",
   "metadata": {
    "colab_type": "text",
    "id": "J-1Du9RaH9zv"
   },
   "source": [
    "### Print the columns names with their corresponding data types for each of the dataframes"
   ]
  },
  {
   "cell_type": "code",
   "execution_count": 11,
   "metadata": {
    "colab": {},
    "colab_type": "code",
    "id": "dqjsoiysH9zw",
    "outputId": "b2b3f3f7-3551-47a7-ac09-8b4870fec1d5"
   },
   "outputs": [
    {
     "name": "stdout",
     "output_type": "stream",
     "text": [
      "credits: \n",
      "id            int64\n",
      "lead_cast    object\n",
      "dtype: object\n",
      "\n",
      "movies_metadata: \n",
      "id                             object\n",
      "imdb_id                        object\n",
      "adult                          object\n",
      "budget                         object\n",
      "original_language              object\n",
      "original_title                 object\n",
      "overview                       object\n",
      "popularity                     object\n",
      "release_date                   object\n",
      "revenue                       float64\n",
      "runtime                       float64\n",
      "status                         object\n",
      "tagline                        object\n",
      "title                          object\n",
      "vote_average                  float64\n",
      "vote_count                    float64\n",
      "genres_all                     object\n",
      "genres_major                   object\n",
      "production_companies_major     object\n",
      "production_companies_all       object\n",
      "production_countries_major     object\n",
      "production_countries_all       object\n",
      "spoken_languages_major         object\n",
      "spoken_languages_all           object\n",
      "belongs_to_collection          object\n",
      "dtype: object\n",
      "\n",
      "ratings: \n",
      "userId         int64\n",
      "movieId        int64\n",
      "rating       float64\n",
      "timestamp      int64\n",
      "dtype: object\n",
      "\n"
     ]
    }
   ],
   "source": [
    "print(\"credits: \", credits.dtypes, end=\"\\n\\n\", sep=\"\\n\")\n",
    "print(\"movies_metadata: \", movies_metadata.dtypes, end=\"\\n\\n\", sep=\"\\n\")\n",
    "print(\"ratings: \", ratings.dtypes, end=\"\\n\\n\", sep=\"\\n\")"
   ]
  },
  {
   "cell_type": "markdown",
   "metadata": {
    "colab_type": "text",
    "id": "Z2DZvpd6H9z1"
   },
   "source": [
    "###  Show the first 7 rows of each of the dataframes"
   ]
  },
  {
   "cell_type": "code",
   "execution_count": 12,
   "metadata": {
    "colab": {},
    "colab_type": "code",
    "id": "X25Fmhs0H9z2",
    "outputId": "be157b8f-c157-4890-a071-762565d0f0d3"
   },
   "outputs": [
    {
     "data": {
      "text/html": [
       "<div>\n",
       "<style scoped>\n",
       "    .dataframe tbody tr th:only-of-type {\n",
       "        vertical-align: middle;\n",
       "    }\n",
       "\n",
       "    .dataframe tbody tr th {\n",
       "        vertical-align: top;\n",
       "    }\n",
       "\n",
       "    .dataframe thead th {\n",
       "        text-align: right;\n",
       "    }\n",
       "</style>\n",
       "<table border=\"1\" class=\"dataframe\">\n",
       "  <thead>\n",
       "    <tr style=\"text-align: right;\">\n",
       "      <th></th>\n",
       "      <th>id</th>\n",
       "      <th>lead_cast</th>\n",
       "    </tr>\n",
       "  </thead>\n",
       "  <tbody>\n",
       "    <tr>\n",
       "      <th>0</th>\n",
       "      <td>862</td>\n",
       "      <td>Tom Hanks</td>\n",
       "    </tr>\n",
       "    <tr>\n",
       "      <th>1</th>\n",
       "      <td>8844</td>\n",
       "      <td>Robin Williams</td>\n",
       "    </tr>\n",
       "    <tr>\n",
       "      <th>2</th>\n",
       "      <td>15602</td>\n",
       "      <td>Walter Matthau</td>\n",
       "    </tr>\n",
       "    <tr>\n",
       "      <th>3</th>\n",
       "      <td>31357</td>\n",
       "      <td>Whitney Houston</td>\n",
       "    </tr>\n",
       "    <tr>\n",
       "      <th>4</th>\n",
       "      <td>11862</td>\n",
       "      <td>Steve Martin</td>\n",
       "    </tr>\n",
       "    <tr>\n",
       "      <th>5</th>\n",
       "      <td>949</td>\n",
       "      <td>Al Pacino</td>\n",
       "    </tr>\n",
       "    <tr>\n",
       "      <th>6</th>\n",
       "      <td>11860</td>\n",
       "      <td>Harrison Ford</td>\n",
       "    </tr>\n",
       "  </tbody>\n",
       "</table>\n",
       "</div>"
      ],
      "text/plain": [
       "      id        lead_cast\n",
       "0    862        Tom Hanks\n",
       "1   8844   Robin Williams\n",
       "2  15602   Walter Matthau\n",
       "3  31357  Whitney Houston\n",
       "4  11862     Steve Martin\n",
       "5    949        Al Pacino\n",
       "6  11860    Harrison Ford"
      ]
     },
     "execution_count": 12,
     "metadata": {},
     "output_type": "execute_result"
    }
   ],
   "source": [
    "credits.head(7)"
   ]
  },
  {
   "cell_type": "code",
   "execution_count": 13,
   "metadata": {
    "colab": {},
    "colab_type": "code",
    "id": "xDfCfahAH9z6",
    "outputId": "5888a37f-3b91-4e93-8616-e0ad1acc4113"
   },
   "outputs": [
    {
     "data": {
      "text/html": [
       "<div>\n",
       "<style scoped>\n",
       "    .dataframe tbody tr th:only-of-type {\n",
       "        vertical-align: middle;\n",
       "    }\n",
       "\n",
       "    .dataframe tbody tr th {\n",
       "        vertical-align: top;\n",
       "    }\n",
       "\n",
       "    .dataframe thead th {\n",
       "        text-align: right;\n",
       "    }\n",
       "</style>\n",
       "<table border=\"1\" class=\"dataframe\">\n",
       "  <thead>\n",
       "    <tr style=\"text-align: right;\">\n",
       "      <th></th>\n",
       "      <th>id</th>\n",
       "      <th>imdb_id</th>\n",
       "      <th>adult</th>\n",
       "      <th>budget</th>\n",
       "      <th>original_language</th>\n",
       "      <th>original_title</th>\n",
       "      <th>overview</th>\n",
       "      <th>popularity</th>\n",
       "      <th>release_date</th>\n",
       "      <th>revenue</th>\n",
       "      <th>runtime</th>\n",
       "      <th>status</th>\n",
       "      <th>tagline</th>\n",
       "      <th>title</th>\n",
       "      <th>vote_average</th>\n",
       "      <th>vote_count</th>\n",
       "      <th>genres_all</th>\n",
       "      <th>genres_major</th>\n",
       "      <th>production_companies_major</th>\n",
       "      <th>production_companies_all</th>\n",
       "      <th>production_countries_major</th>\n",
       "      <th>production_countries_all</th>\n",
       "      <th>spoken_languages_major</th>\n",
       "      <th>spoken_languages_all</th>\n",
       "      <th>belongs_to_collection</th>\n",
       "    </tr>\n",
       "  </thead>\n",
       "  <tbody>\n",
       "    <tr>\n",
       "      <th>0</th>\n",
       "      <td>862</td>\n",
       "      <td>tt0114709</td>\n",
       "      <td>False</td>\n",
       "      <td>30000000</td>\n",
       "      <td>en</td>\n",
       "      <td>Toy Story</td>\n",
       "      <td>Led by Woody, Andy's toys live happily in his ...</td>\n",
       "      <td>21.946943</td>\n",
       "      <td>1995-10-30</td>\n",
       "      <td>373554033.0</td>\n",
       "      <td>81.0</td>\n",
       "      <td>Released</td>\n",
       "      <td>NaN</td>\n",
       "      <td>Toy Story</td>\n",
       "      <td>7.7</td>\n",
       "      <td>5415.0</td>\n",
       "      <td>Animation; Comedy; Family</td>\n",
       "      <td>Animation</td>\n",
       "      <td>Pixar Animation Studios</td>\n",
       "      <td>Pixar Animation Studios</td>\n",
       "      <td>United States of America</td>\n",
       "      <td>United States of America</td>\n",
       "      <td>English</td>\n",
       "      <td>English</td>\n",
       "      <td>Toy Story Collection</td>\n",
       "    </tr>\n",
       "    <tr>\n",
       "      <th>1</th>\n",
       "      <td>8844</td>\n",
       "      <td>tt0113497</td>\n",
       "      <td>False</td>\n",
       "      <td>65000000</td>\n",
       "      <td>en</td>\n",
       "      <td>Jumanji</td>\n",
       "      <td>When siblings Judy and Peter discover an encha...</td>\n",
       "      <td>17.015539</td>\n",
       "      <td>1995-12-15</td>\n",
       "      <td>262797249.0</td>\n",
       "      <td>104.0</td>\n",
       "      <td>Released</td>\n",
       "      <td>Roll the dice and unleash the excitement!</td>\n",
       "      <td>Jumanji</td>\n",
       "      <td>6.9</td>\n",
       "      <td>2413.0</td>\n",
       "      <td>Adventure; Fantasy; Family</td>\n",
       "      <td>Adventure</td>\n",
       "      <td>TriStar Pictures</td>\n",
       "      <td>TriStar Pictures; Teitler Film; Interscope Com...</td>\n",
       "      <td>United States of America</td>\n",
       "      <td>United States of America</td>\n",
       "      <td>English</td>\n",
       "      <td>English; Français</td>\n",
       "      <td>NaN</td>\n",
       "    </tr>\n",
       "    <tr>\n",
       "      <th>2</th>\n",
       "      <td>15602</td>\n",
       "      <td>tt0113228</td>\n",
       "      <td>False</td>\n",
       "      <td>0</td>\n",
       "      <td>en</td>\n",
       "      <td>Grumpier Old Men</td>\n",
       "      <td>A family wedding reignites the ancient feud be...</td>\n",
       "      <td>11.7129</td>\n",
       "      <td>1995-12-22</td>\n",
       "      <td>0.0</td>\n",
       "      <td>101.0</td>\n",
       "      <td>Released</td>\n",
       "      <td>Still Yelling. Still Fighting. Still Ready for...</td>\n",
       "      <td>Grumpier Old Men</td>\n",
       "      <td>6.5</td>\n",
       "      <td>92.0</td>\n",
       "      <td>Romance; Comedy</td>\n",
       "      <td>Romance</td>\n",
       "      <td>Warner Bros.</td>\n",
       "      <td>Warner Bros.; Lancaster Gate</td>\n",
       "      <td>United States of America</td>\n",
       "      <td>United States of America</td>\n",
       "      <td>English</td>\n",
       "      <td>English</td>\n",
       "      <td>Grumpy Old Men Collection</td>\n",
       "    </tr>\n",
       "  </tbody>\n",
       "</table>\n",
       "</div>"
      ],
      "text/plain": [
       "      id    imdb_id  adult    budget original_language    original_title  \\\n",
       "0    862  tt0114709  False  30000000                en         Toy Story   \n",
       "1   8844  tt0113497  False  65000000                en           Jumanji   \n",
       "2  15602  tt0113228  False         0                en  Grumpier Old Men   \n",
       "\n",
       "                                            overview popularity release_date  \\\n",
       "0  Led by Woody, Andy's toys live happily in his ...  21.946943   1995-10-30   \n",
       "1  When siblings Judy and Peter discover an encha...  17.015539   1995-12-15   \n",
       "2  A family wedding reignites the ancient feud be...    11.7129   1995-12-22   \n",
       "\n",
       "       revenue  runtime    status  \\\n",
       "0  373554033.0     81.0  Released   \n",
       "1  262797249.0    104.0  Released   \n",
       "2          0.0    101.0  Released   \n",
       "\n",
       "                                             tagline             title  \\\n",
       "0                                                NaN         Toy Story   \n",
       "1          Roll the dice and unleash the excitement!           Jumanji   \n",
       "2  Still Yelling. Still Fighting. Still Ready for...  Grumpier Old Men   \n",
       "\n",
       "   vote_average  vote_count                  genres_all genres_major  \\\n",
       "0           7.7      5415.0   Animation; Comedy; Family    Animation   \n",
       "1           6.9      2413.0  Adventure; Fantasy; Family    Adventure   \n",
       "2           6.5        92.0             Romance; Comedy      Romance   \n",
       "\n",
       "  production_companies_major  \\\n",
       "0    Pixar Animation Studios   \n",
       "1           TriStar Pictures   \n",
       "2               Warner Bros.   \n",
       "\n",
       "                            production_companies_all  \\\n",
       "0                            Pixar Animation Studios   \n",
       "1  TriStar Pictures; Teitler Film; Interscope Com...   \n",
       "2                       Warner Bros.; Lancaster Gate   \n",
       "\n",
       "  production_countries_major  production_countries_all spoken_languages_major  \\\n",
       "0   United States of America  United States of America                English   \n",
       "1   United States of America  United States of America                English   \n",
       "2   United States of America  United States of America                English   \n",
       "\n",
       "  spoken_languages_all      belongs_to_collection  \n",
       "0              English       Toy Story Collection  \n",
       "1    English; Français                        NaN  \n",
       "2              English  Grumpy Old Men Collection  "
      ]
     },
     "execution_count": 13,
     "metadata": {},
     "output_type": "execute_result"
    }
   ],
   "source": [
    "movies_metadata.head(3)"
   ]
  },
  {
   "cell_type": "code",
   "execution_count": 12,
   "metadata": {
    "colab": {},
    "colab_type": "code",
    "id": "pq0ly5wjH9z-",
    "outputId": "0cb963ff-6c11-4a38-cd5a-495dcdae0c1f"
   },
   "outputs": [
    {
     "data": {
      "text/html": [
       "<div>\n",
       "<style scoped>\n",
       "    .dataframe tbody tr th:only-of-type {\n",
       "        vertical-align: middle;\n",
       "    }\n",
       "\n",
       "    .dataframe tbody tr th {\n",
       "        vertical-align: top;\n",
       "    }\n",
       "\n",
       "    .dataframe thead th {\n",
       "        text-align: right;\n",
       "    }\n",
       "</style>\n",
       "<table border=\"1\" class=\"dataframe\">\n",
       "  <thead>\n",
       "    <tr style=\"text-align: right;\">\n",
       "      <th></th>\n",
       "      <th>userId</th>\n",
       "      <th>movieId</th>\n",
       "      <th>rating</th>\n",
       "      <th>timestamp</th>\n",
       "    </tr>\n",
       "  </thead>\n",
       "  <tbody>\n",
       "    <tr>\n",
       "      <td>0</td>\n",
       "      <td>1</td>\n",
       "      <td>110</td>\n",
       "      <td>1.0</td>\n",
       "      <td>1425941529</td>\n",
       "    </tr>\n",
       "    <tr>\n",
       "      <td>1</td>\n",
       "      <td>1</td>\n",
       "      <td>147</td>\n",
       "      <td>4.5</td>\n",
       "      <td>1425942435</td>\n",
       "    </tr>\n",
       "    <tr>\n",
       "      <td>2</td>\n",
       "      <td>1</td>\n",
       "      <td>858</td>\n",
       "      <td>5.0</td>\n",
       "      <td>1425941523</td>\n",
       "    </tr>\n",
       "    <tr>\n",
       "      <td>3</td>\n",
       "      <td>1</td>\n",
       "      <td>1221</td>\n",
       "      <td>5.0</td>\n",
       "      <td>1425941546</td>\n",
       "    </tr>\n",
       "    <tr>\n",
       "      <td>4</td>\n",
       "      <td>1</td>\n",
       "      <td>1246</td>\n",
       "      <td>5.0</td>\n",
       "      <td>1425941556</td>\n",
       "    </tr>\n",
       "    <tr>\n",
       "      <td>5</td>\n",
       "      <td>1</td>\n",
       "      <td>1968</td>\n",
       "      <td>4.0</td>\n",
       "      <td>1425942148</td>\n",
       "    </tr>\n",
       "    <tr>\n",
       "      <td>6</td>\n",
       "      <td>1</td>\n",
       "      <td>2762</td>\n",
       "      <td>4.5</td>\n",
       "      <td>1425941300</td>\n",
       "    </tr>\n",
       "  </tbody>\n",
       "</table>\n",
       "</div>"
      ],
      "text/plain": [
       "   userId  movieId  rating   timestamp\n",
       "0       1      110     1.0  1425941529\n",
       "1       1      147     4.5  1425942435\n",
       "2       1      858     5.0  1425941523\n",
       "3       1     1221     5.0  1425941546\n",
       "4       1     1246     5.0  1425941556\n",
       "5       1     1968     4.0  1425942148\n",
       "6       1     2762     4.5  1425941300"
      ]
     },
     "execution_count": 12,
     "metadata": {},
     "output_type": "execute_result"
    }
   ],
   "source": [
    "ratings.head(7)"
   ]
  },
  {
   "cell_type": "markdown",
   "metadata": {
    "colab_type": "text",
    "id": "kjHFxvVjH90C"
   },
   "source": [
    "### List the number of rows with Nulls in each column of all three dataframes"
   ]
  },
  {
   "cell_type": "code",
   "execution_count": 13,
   "metadata": {
    "colab": {},
    "colab_type": "code",
    "id": "1nWYc2ALH90D",
    "outputId": "2001349d-bfaa-4ced-eead-ecf73094d7d9"
   },
   "outputs": [
    {
     "data": {
      "text/plain": [
       "id                                0\n",
       "imdb_id                          17\n",
       "adult                             0\n",
       "budget                            0\n",
       "original_language                11\n",
       "original_title                    0\n",
       "overview                        954\n",
       "popularity                        5\n",
       "release_date                     87\n",
       "revenue                           6\n",
       "runtime                         263\n",
       "status                           87\n",
       "tagline                       25054\n",
       "title                             6\n",
       "vote_average                      6\n",
       "vote_count                        6\n",
       "genres_all                     2442\n",
       "genres_major                   2442\n",
       "production_companies_major    11881\n",
       "production_companies_all      11881\n",
       "production_countries_major     6288\n",
       "production_countries_all       6288\n",
       "spoken_languages_major         4056\n",
       "spoken_languages_all           3958\n",
       "belongs_to_collection         40975\n",
       "dtype: int64"
      ]
     },
     "execution_count": 13,
     "metadata": {},
     "output_type": "execute_result"
    }
   ],
   "source": [
    "movies_metadata.isnull().sum()"
   ]
  },
  {
   "cell_type": "code",
   "execution_count": 14,
   "metadata": {
    "colab": {},
    "colab_type": "code",
    "id": "6T6PKUQtH90H",
    "outputId": "15dc19c0-7088-4ac1-fbdd-df1c1e2a93a6"
   },
   "outputs": [
    {
     "data": {
      "text/plain": [
       "userId       0\n",
       "movieId      0\n",
       "rating       0\n",
       "timestamp    0\n",
       "dtype: int64"
      ]
     },
     "execution_count": 14,
     "metadata": {},
     "output_type": "execute_result"
    }
   ],
   "source": [
    "ratings.isnull().sum()"
   ]
  },
  {
   "cell_type": "code",
   "execution_count": 15,
   "metadata": {
    "colab": {},
    "colab_type": "code",
    "id": "zg4SSvIRH90L",
    "outputId": "5ea1ea6f-edb8-4ce9-a72b-db7373f6e2ab"
   },
   "outputs": [
    {
     "data": {
      "text/plain": [
       "id              0\n",
       "lead_cast    8737\n",
       "dtype: int64"
      ]
     },
     "execution_count": 15,
     "metadata": {},
     "output_type": "execute_result"
    }
   ],
   "source": [
    "credits.isnull().sum()"
   ]
  },
  {
   "cell_type": "markdown",
   "metadata": {
    "colab_type": "text",
    "id": "rX-0EWACH90P"
   },
   "source": [
    "### Check the data types of each of the columns in all the dataframes"
   ]
  },
  {
   "cell_type": "code",
   "execution_count": 16,
   "metadata": {
    "colab": {},
    "colab_type": "code",
    "id": "aYhZQj2QH90Q",
    "outputId": "f836ca9e-e209-4414-8431-85a760cd92df"
   },
   "outputs": [
    {
     "data": {
      "text/plain": [
       "id                             object\n",
       "imdb_id                        object\n",
       "adult                          object\n",
       "budget                         object\n",
       "original_language              object\n",
       "original_title                 object\n",
       "overview                       object\n",
       "popularity                     object\n",
       "release_date                   object\n",
       "revenue                       float64\n",
       "runtime                       float64\n",
       "status                         object\n",
       "tagline                        object\n",
       "title                          object\n",
       "vote_average                  float64\n",
       "vote_count                    float64\n",
       "genres_all                     object\n",
       "genres_major                   object\n",
       "production_companies_major     object\n",
       "production_companies_all       object\n",
       "production_countries_major     object\n",
       "production_countries_all       object\n",
       "spoken_languages_major         object\n",
       "spoken_languages_all           object\n",
       "belongs_to_collection          object\n",
       "dtype: object"
      ]
     },
     "execution_count": 16,
     "metadata": {},
     "output_type": "execute_result"
    }
   ],
   "source": [
    "movies_metadata.dtypes"
   ]
  },
  {
   "cell_type": "code",
   "execution_count": 17,
   "metadata": {
    "colab": {},
    "colab_type": "code",
    "id": "X0fk4G42H90U",
    "outputId": "07a3d370-a180-438a-b3f8-c5c62d9e7227"
   },
   "outputs": [
    {
     "data": {
      "text/plain": [
       "id            int64\n",
       "lead_cast    object\n",
       "dtype: object"
      ]
     },
     "execution_count": 17,
     "metadata": {},
     "output_type": "execute_result"
    }
   ],
   "source": [
    "credits.dtypes"
   ]
  },
  {
   "cell_type": "code",
   "execution_count": 18,
   "metadata": {
    "colab": {},
    "colab_type": "code",
    "id": "Sh4ouFZPH90a",
    "outputId": "9306cc09-ceed-4a3b-e739-07f1288cb453"
   },
   "outputs": [
    {
     "data": {
      "text/plain": [
       "userId         int64\n",
       "movieId        int64\n",
       "rating       float64\n",
       "timestamp      int64\n",
       "dtype: object"
      ]
     },
     "execution_count": 18,
     "metadata": {},
     "output_type": "execute_result"
    }
   ],
   "source": [
    "ratings.dtypes"
   ]
  },
  {
   "cell_type": "markdown",
   "metadata": {
    "colab_type": "text",
    "id": "8YjsB3lFH90g"
   },
   "source": [
    "  "
   ]
  },
  {
   "cell_type": "markdown",
   "metadata": {
    "colab_type": "text",
    "id": "i5nXU1miH90i"
   },
   "source": [
    "   "
   ]
  },
  {
   "cell_type": "markdown",
   "metadata": {
    "colab_type": "text",
    "id": "-MRPPh5pH90j"
   },
   "source": [
    "# Data Types and Dealing with NULLS"
   ]
  },
  {
   "cell_type": "markdown",
   "metadata": {
    "colab_type": "text",
    "id": "BeiXwMWyH90k"
   },
   "source": [
    "### Convert the numeric columns like popularity, budget etc into float data types from the current string data type format\n",
    "**Coerce as NA if some invalid value like string is stored in some rows and fill the NAs with 0**"
   ]
  },
  {
   "cell_type": "code",
   "execution_count": 19,
   "metadata": {
    "colab": {},
    "colab_type": "code",
    "id": "RID7A6eGH90l"
   },
   "outputs": [],
   "source": [
    "movies_metadata['budget'] = pd.to_numeric(movies_metadata['budget'], 'coerce', 'float').fillna(0)\n",
    "movies_metadata['popularity'] = pd.to_numeric(movies_metadata['popularity'], 'coerce', 'float').fillna(0)\n",
    "movies_metadata['id'] = pd.to_numeric(movies_metadata['id'], 'coerce', 'integer').fillna(0).values.astype(np.int64)"
   ]
  },
  {
   "cell_type": "markdown",
   "metadata": {
    "colab_type": "text",
    "id": "SsW3a23lH90o"
   },
   "source": [
    "### Convert the 'adult' column that currently has True/False stored as Strings to Boolean data types"
   ]
  },
  {
   "cell_type": "code",
   "execution_count": 20,
   "metadata": {
    "colab": {},
    "colab_type": "code",
    "id": "lG3mVMxUH90q"
   },
   "outputs": [],
   "source": [
    "movies_metadata['adult'] = movies_metadata['adult'].apply(lambda x: True if x == \"True\" else False)"
   ]
  },
  {
   "cell_type": "markdown",
   "metadata": {
    "colab_type": "text",
    "id": "UFYF0WFlH90s"
   },
   "source": [
    "### The release_date has been loaded as a string data type, convert it to datetime object and store in a new column named release_date_dt <br>\n",
    "**Use apply and datetime library**"
   ]
  },
  {
   "cell_type": "code",
   "execution_count": 21,
   "metadata": {
    "colab": {},
    "colab_type": "code",
    "id": "7QIS5rtSH90t"
   },
   "outputs": [],
   "source": [
    "def my_function(datetime_string):\n",
    "    try:\n",
    "        date_obj = datetime.strptime(datetime_string, '%Y-%m-%d').date()\n",
    "    except:\n",
    "        date_obj = datetime.strptime('1000-01-01', '%Y-%m-%d').date()\n",
    "    \n",
    "    return date_obj\n",
    "\n",
    "movies_metadata['release_date_dt'] = movies_metadata['release_date'].apply(my_function)"
   ]
  },
  {
   "cell_type": "markdown",
   "metadata": {
    "colab_type": "text",
    "id": "A0iLPaheH90v"
   },
   "source": [
    "### Extract year and month and create two new columns from the release_date_dt column in the movies_metadata dataset.\n",
    "**Use lambda functions with apply**"
   ]
  },
  {
   "cell_type": "code",
   "execution_count": 22,
   "metadata": {
    "colab": {},
    "colab_type": "code",
    "id": "K_WJqF25H90w"
   },
   "outputs": [],
   "source": [
    "movies_metadata['release_date_year'] = movies_metadata['release_date_dt'].apply(lambda x: x.year)\n",
    "movies_metadata['release_date_month'] = movies_metadata['release_date_dt'].apply(lambda x: x.month)"
   ]
  },
  {
   "cell_type": "markdown",
   "metadata": {
    "colab_type": "text",
    "id": "fofK7iVUH90z"
   },
   "source": [
    "### Fills NAs/NULLs in all three dataframes with 0 if the column is numeric and empty string '' if the column is a string"
   ]
  },
  {
   "cell_type": "code",
   "execution_count": 43,
   "metadata": {
    "colab": {},
    "colab_type": "code",
    "id": "mWdN9CAHH900"
   },
   "outputs": [],
   "source": [
    "dtypes_temp = movies_metadata.isnull().sum()\n",
    "\n",
    "for col in dtypes_temp.index:\n",
    "    if dtypes_temp.loc[col] > 0:\n",
    "        if movies_metadata[col].dtypes == object:\n",
    "            movies_metadata[col].fillna('', inplace=True)\n",
    "        elif movies_metadata[col].dtypes == int or movies_metadata[col].dtypes == float:\n",
    "            movies_metadata[col].fillna(0, inplace=True)"
   ]
  },
  {
   "cell_type": "code",
   "execution_count": 57,
   "metadata": {
    "colab": {},
    "colab_type": "code",
    "id": "ZChxRqpPH902"
   },
   "outputs": [],
   "source": [
    "credits['lead_cast'].fillna('', inplace=True)"
   ]
  },
  {
   "cell_type": "markdown",
   "metadata": {
    "colab_type": "text",
    "id": "8KaVGtWVH904"
   },
   "source": [
    "   "
   ]
  },
  {
   "cell_type": "markdown",
   "metadata": {
    "colab_type": "text",
    "id": "_Yov9KVJH905"
   },
   "source": [
    "    "
   ]
  },
  {
   "cell_type": "markdown",
   "metadata": {
    "colab_type": "text",
    "id": "HIqH0BQ6H905"
   },
   "source": [
    "# Basic Analysis, Subsetting and Sorting"
   ]
  },
  {
   "cell_type": "markdown",
   "metadata": {
    "colab_type": "text",
    "id": "SuX-w6FyH906"
   },
   "source": [
    "### List the distinct count of movies listed in the movies_metadata dataset"
   ]
  },
  {
   "cell_type": "code",
   "execution_count": null,
   "metadata": {
    "colab": {},
    "colab_type": "code",
    "id": "3WGZsmdOH906",
    "outputId": "39a155c7-54d8-463c-a4d6-e9e4c3a1f536"
   },
   "outputs": [
    {
     "data": {
      "text/plain": [
       "45434"
      ]
     },
     "execution_count": 22,
     "metadata": {
      "tags": []
     },
     "output_type": "execute_result"
    }
   ],
   "source": [
    "len(pd.unique(movies_metadata['id']))"
   ]
  },
  {
   "cell_type": "markdown",
   "metadata": {
    "colab_type": "text",
    "id": "w02O9r33H90-"
   },
   "source": [
    "### List the top 10 different original_languages of movies present in  the movies_metadata dataset"
   ]
  },
  {
   "cell_type": "code",
   "execution_count": null,
   "metadata": {
    "colab": {},
    "colab_type": "code",
    "id": "6L7jC7IIH90_",
    "outputId": "bab46b5b-ab13-4fe1-ee36-226155ff4fa7"
   },
   "outputs": [
    {
     "data": {
      "text/plain": [
       "en    32269\n",
       "fr     2438\n",
       "it     1529\n",
       "ja     1350\n",
       "de     1080\n",
       "es      994\n",
       "ru      826\n",
       "hi      508\n",
       "ko      444\n",
       "zh      409\n",
       "Name: original_language, dtype: int64"
      ]
     },
     "execution_count": 23,
     "metadata": {
      "tags": []
     },
     "output_type": "execute_result"
    }
   ],
   "source": [
    "x = movies_metadata['original_language'].value_counts()[0:10]\n",
    "x"
   ]
  },
  {
   "cell_type": "markdown",
   "metadata": {
    "colab_type": "text",
    "id": "u60eDPyOH91D"
   },
   "source": [
    "### Plot a bar graph of number of movies in top 10 different languages"
   ]
  },
  {
   "cell_type": "code",
   "execution_count": null,
   "metadata": {
    "colab": {},
    "colab_type": "code",
    "id": "fomL_-J2H91D",
    "outputId": "6c0f83d1-930a-479b-cc17-7ad946164b85"
   },
   "outputs": [
    {
     "data": {
      "image/png": "[encoded data removed]",
      "text/plain": [
       "<Figure size 432x288 with 1 Axes>"
      ]
     },
     "metadata": {
      "needs_background": "light",
      "tags": []
     },
     "output_type": "display_data"
    }
   ],
   "source": [
    "x.plot.bar()\n",
    "plt.show()"
   ]
  },
  {
   "cell_type": "markdown",
   "metadata": {
    "colab_type": "text",
    "id": "Pe6t0CFnH91G"
   },
   "source": [
    "### Get the titile, id, language, and release_date for  top 10 most popular movies (using Popularity) in the movies_metadata dataset"
   ]
  },
  {
   "cell_type": "code",
   "execution_count": null,
   "metadata": {
    "colab": {},
    "colab_type": "code",
    "id": "OeVrL-eRH91H",
    "outputId": "3dd22888-8af4-43b1-9d23-f11996bda8d3"
   },
   "outputs": [
    {
     "data": {
      "text/html": [
       "<div>\n",
       "<style scoped>\n",
       "    .dataframe tbody tr th:only-of-type {\n",
       "        vertical-align: middle;\n",
       "    }\n",
       "\n",
       "    .dataframe tbody tr th {\n",
       "        vertical-align: top;\n",
       "    }\n",
       "\n",
       "    .dataframe thead th {\n",
       "        text-align: right;\n",
       "    }\n",
       "</style>\n",
       "<table border=\"1\" class=\"dataframe\">\n",
       "  <thead>\n",
       "    <tr style=\"text-align: right;\">\n",
       "      <th></th>\n",
       "      <th>title</th>\n",
       "      <th>id</th>\n",
       "      <th>original_language</th>\n",
       "      <th>release_date</th>\n",
       "      <th>popularity</th>\n",
       "    </tr>\n",
       "  </thead>\n",
       "  <tbody>\n",
       "    <tr>\n",
       "      <th>30700</th>\n",
       "      <td>Minions</td>\n",
       "      <td>211672</td>\n",
       "      <td>en</td>\n",
       "      <td>2015-06-17</td>\n",
       "      <td>547.488281</td>\n",
       "    </tr>\n",
       "    <tr>\n",
       "      <th>33356</th>\n",
       "      <td>Wonder Woman</td>\n",
       "      <td>297762</td>\n",
       "      <td>en</td>\n",
       "      <td>2017-05-30</td>\n",
       "      <td>294.337036</td>\n",
       "    </tr>\n",
       "    <tr>\n",
       "      <th>42222</th>\n",
       "      <td>Beauty and the Beast</td>\n",
       "      <td>321612</td>\n",
       "      <td>en</td>\n",
       "      <td>2017-03-16</td>\n",
       "      <td>287.253662</td>\n",
       "    </tr>\n",
       "    <tr>\n",
       "      <th>43644</th>\n",
       "      <td>Baby Driver</td>\n",
       "      <td>339403</td>\n",
       "      <td>en</td>\n",
       "      <td>2017-06-28</td>\n",
       "      <td>228.032745</td>\n",
       "    </tr>\n",
       "    <tr>\n",
       "      <th>24455</th>\n",
       "      <td>Big Hero 6</td>\n",
       "      <td>177572</td>\n",
       "      <td>en</td>\n",
       "      <td>2014-10-24</td>\n",
       "      <td>213.849915</td>\n",
       "    </tr>\n",
       "    <tr>\n",
       "      <th>26564</th>\n",
       "      <td>Deadpool</td>\n",
       "      <td>293660</td>\n",
       "      <td>en</td>\n",
       "      <td>2016-02-09</td>\n",
       "      <td>187.860489</td>\n",
       "    </tr>\n",
       "    <tr>\n",
       "      <th>26566</th>\n",
       "      <td>Guardians of the Galaxy Vol. 2</td>\n",
       "      <td>283995</td>\n",
       "      <td>en</td>\n",
       "      <td>2017-04-19</td>\n",
       "      <td>185.330994</td>\n",
       "    </tr>\n",
       "    <tr>\n",
       "      <th>14551</th>\n",
       "      <td>Avatar</td>\n",
       "      <td>19995</td>\n",
       "      <td>en</td>\n",
       "      <td>2009-12-10</td>\n",
       "      <td>185.070892</td>\n",
       "    </tr>\n",
       "    <tr>\n",
       "      <th>24351</th>\n",
       "      <td>John Wick</td>\n",
       "      <td>245891</td>\n",
       "      <td>en</td>\n",
       "      <td>2014-10-22</td>\n",
       "      <td>183.870377</td>\n",
       "    </tr>\n",
       "    <tr>\n",
       "      <th>23675</th>\n",
       "      <td>Gone Girl</td>\n",
       "      <td>210577</td>\n",
       "      <td>en</td>\n",
       "      <td>2014-10-01</td>\n",
       "      <td>154.801010</td>\n",
       "    </tr>\n",
       "  </tbody>\n",
       "</table>\n",
       "</div>"
      ],
      "text/plain": [
       "                                title      id original_language release_date  \\\n",
       "30700                         Minions  211672                en   2015-06-17   \n",
       "33356                    Wonder Woman  297762                en   2017-05-30   \n",
       "42222            Beauty and the Beast  321612                en   2017-03-16   \n",
       "43644                     Baby Driver  339403                en   2017-06-28   \n",
       "24455                      Big Hero 6  177572                en   2014-10-24   \n",
       "26564                        Deadpool  293660                en   2016-02-09   \n",
       "26566  Guardians of the Galaxy Vol. 2  283995                en   2017-04-19   \n",
       "14551                          Avatar   19995                en   2009-12-10   \n",
       "24351                       John Wick  245891                en   2014-10-22   \n",
       "23675                       Gone Girl  210577                en   2014-10-01   \n",
       "\n",
       "       popularity  \n",
       "30700  547.488281  \n",
       "33356  294.337036  \n",
       "42222  287.253662  \n",
       "43644  228.032745  \n",
       "24455  213.849915  \n",
       "26564  187.860489  \n",
       "26566  185.330994  \n",
       "14551  185.070892  \n",
       "24351  183.870377  \n",
       "23675  154.801010  "
      ]
     },
     "execution_count": 25,
     "metadata": {
      "tags": []
     },
     "output_type": "execute_result"
    }
   ],
   "source": [
    "movies_metadata[['title', 'id', 'original_language', \n",
    "                 'release_date', 'popularity']].sort_values('popularity', ascending=False)[0:10]"
   ]
  },
  {
   "cell_type": "markdown",
   "metadata": {
    "colab_type": "text",
    "id": "sdEajLHbH91J"
   },
   "source": [
    "### Get the max, min, mean, median and standard deviation of the following columns from the movies_metadata dataset: budget, revenue, runtime, popularity , vote_average and vote_count"
   ]
  },
  {
   "cell_type": "code",
   "execution_count": 69,
   "metadata": {
    "colab": {},
    "colab_type": "code",
    "id": "Yw8pa8YzH91K",
    "outputId": "977c7d6a-b4b1-4a56-81f5-46a599bd6f99"
   },
   "outputs": [],
   "source": [
    "a = movies_metadata[['budget', 'revenue', 'runtime', 'popularity', \n",
    "                 'vote_average', 'vote_count']].describe().loc[['max', 'min', 'mean', 'std']]"
   ]
  },
  {
   "cell_type": "code",
   "execution_count": 73,
   "metadata": {
    "colab": {},
    "colab_type": "code",
    "id": "ASAb_WaXH91M",
    "outputId": "fb301088-41c7-49d7-b8f0-e4698936c841"
   },
   "outputs": [],
   "source": [
    "b = movies_metadata[['budget', 'revenue', 'runtime', 'popularity', \n",
    "                 'vote_average', 'vote_count']].median(axis=0)"
   ]
  },
  {
   "cell_type": "code",
   "execution_count": 80,
   "metadata": {},
   "outputs": [
    {
     "data": {
      "text/html": [
       "<div>\n",
       "<style scoped>\n",
       "    .dataframe tbody tr th:only-of-type {\n",
       "        vertical-align: middle;\n",
       "    }\n",
       "\n",
       "    .dataframe tbody tr th {\n",
       "        vertical-align: top;\n",
       "    }\n",
       "\n",
       "    .dataframe thead th {\n",
       "        text-align: right;\n",
       "    }\n",
       "</style>\n",
       "<table border=\"1\" class=\"dataframe\">\n",
       "  <thead>\n",
       "    <tr style=\"text-align: right;\">\n",
       "      <th></th>\n",
       "      <th>budget</th>\n",
       "      <th>revenue</th>\n",
       "      <th>runtime</th>\n",
       "      <th>popularity</th>\n",
       "      <th>vote_average</th>\n",
       "      <th>vote_count</th>\n",
       "    </tr>\n",
       "  </thead>\n",
       "  <tbody>\n",
       "    <tr>\n",
       "      <td>0</td>\n",
       "      <td>0.0</td>\n",
       "      <td>0.000000e+00</td>\n",
       "      <td>95.000000</td>\n",
       "      <td>1.127410</td>\n",
       "      <td>6.000000</td>\n",
       "      <td>10.000000</td>\n",
       "    </tr>\n",
       "    <tr>\n",
       "      <td>max</td>\n",
       "      <td>380000000.0</td>\n",
       "      <td>2.787965e+09</td>\n",
       "      <td>1256.000000</td>\n",
       "      <td>547.488281</td>\n",
       "      <td>10.000000</td>\n",
       "      <td>14075.000000</td>\n",
       "    </tr>\n",
       "    <tr>\n",
       "      <td>min</td>\n",
       "      <td>0.0</td>\n",
       "      <td>0.000000e+00</td>\n",
       "      <td>0.000000</td>\n",
       "      <td>0.000000</td>\n",
       "      <td>0.000000</td>\n",
       "      <td>0.000000</td>\n",
       "    </tr>\n",
       "    <tr>\n",
       "      <td>mean</td>\n",
       "      <td>4224280.5</td>\n",
       "      <td>1.120787e+07</td>\n",
       "      <td>93.583711</td>\n",
       "      <td>2.921068</td>\n",
       "      <td>5.617466</td>\n",
       "      <td>109.882836</td>\n",
       "    </tr>\n",
       "    <tr>\n",
       "      <td>std</td>\n",
       "      <td>17418974.0</td>\n",
       "      <td>6.432813e+07</td>\n",
       "      <td>38.956167</td>\n",
       "      <td>6.005099</td>\n",
       "      <td>1.925171</td>\n",
       "      <td>491.279576</td>\n",
       "    </tr>\n",
       "  </tbody>\n",
       "</table>\n",
       "</div>"
      ],
      "text/plain": [
       "           budget       revenue      runtime  popularity  vote_average  \\\n",
       "0             0.0  0.000000e+00    95.000000    1.127410      6.000000   \n",
       "max   380000000.0  2.787965e+09  1256.000000  547.488281     10.000000   \n",
       "min           0.0  0.000000e+00     0.000000    0.000000      0.000000   \n",
       "mean    4224280.5  1.120787e+07    93.583711    2.921068      5.617466   \n",
       "std    17418974.0  6.432813e+07    38.956167    6.005099      1.925171   \n",
       "\n",
       "        vote_count  \n",
       "0        10.000000  \n",
       "max   14075.000000  \n",
       "min       0.000000  \n",
       "mean    109.882836  \n",
       "std     491.279576  "
      ]
     },
     "execution_count": 80,
     "metadata": {},
     "output_type": "execute_result"
    }
   ],
   "source": [
    "pd.concat([pd.DataFrame(b).T,a])"
   ]
  },
  {
   "cell_type": "markdown",
   "metadata": {
    "colab_type": "text",
    "id": "ZohUurzsH91P"
   },
   "source": [
    "### Get the count of movies released in each year and plot bar graph of the top 10 years\n",
    "**Increase the size of the plot to and make it 5x10**"
   ]
  },
  {
   "cell_type": "code",
   "execution_count": null,
   "metadata": {
    "colab": {},
    "colab_type": "code",
    "id": "qP5FBhvxH91Q",
    "outputId": "551ba332-5b12-4a7f-bbf5-88dcef9f47f8"
   },
   "outputs": [
    {
     "data": {
      "image/png": "[encoded data removed]",
      "text/plain": [
       "<Figure size 720x360 with 1 Axes>"
      ]
     },
     "metadata": {
      "needs_background": "light",
      "tags": []
     },
     "output_type": "display_data"
    }
   ],
   "source": [
    "x = movies_metadata['release_date_year'].apply(str)\n",
    "y = x.value_counts()[0:10].sort_values(ascending = False)\n",
    "plt.figure(figsize=(10,5))\n",
    "plt.bar(y.index, y.values)\n",
    "plt.show()"
   ]
  },
  {
   "cell_type": "markdown",
   "metadata": {
    "colab_type": "text",
    "id": "Y83rvknuH91T"
   },
   "source": [
    "###  Give the count of movies which were produced by 'Pixar Animation Studios' and 'Warner Bros.'\n",
    "Note: There is a full stop (.) in Warner Bros."
   ]
  },
  {
   "cell_type": "code",
   "execution_count": null,
   "metadata": {
    "colab": {},
    "colab_type": "code",
    "id": "BmeHEnH4H91T",
    "outputId": "1abdc817-1e6e-4164-c87d-552ff4e76d6d"
   },
   "outputs": [
    {
     "data": {
      "text/plain": [
       "29"
      ]
     },
     "execution_count": 29,
     "metadata": {
      "tags": []
     },
     "output_type": "execute_result"
    }
   ],
   "source": [
    "movies_metadata[movies_metadata['production_companies_major'] == 'Pixar Animation Studios']['id'].nunique()"
   ]
  },
  {
   "cell_type": "code",
   "execution_count": null,
   "metadata": {
    "colab": {},
    "colab_type": "code",
    "id": "wu_cZPZWH91W",
    "outputId": "d0016cb3-253e-4de7-eaaa-084d03e1d9c3"
   },
   "outputs": [
    {
     "data": {
      "text/plain": [
       "757"
      ]
     },
     "execution_count": 30,
     "metadata": {
      "tags": []
     },
     "output_type": "execute_result"
    }
   ],
   "source": [
    "movies_metadata[movies_metadata['production_companies_major'] == 'Warner Bros.']['id'].nunique()"
   ]
  },
  {
   "cell_type": "markdown",
   "metadata": {
    "colab_type": "text",
    "id": "OnrSI1fBH91Z"
   },
   "source": [
    "###  Give the count of movies where one of the production country is United States"
   ]
  },
  {
   "cell_type": "code",
   "execution_count": null,
   "metadata": {
    "colab": {},
    "colab_type": "code",
    "id": "V5pjSJQAH91Z",
    "outputId": "5c1faaf2-96d7-4241-a05a-cbd3935497ab"
   },
   "outputs": [
    {
     "data": {
      "text/plain": [
       "21141"
      ]
     },
     "execution_count": 31,
     "metadata": {
      "tags": []
     },
     "output_type": "execute_result"
    }
   ],
   "source": [
    "movies_metadata[movies_metadata['production_countries_all'].str.contains('United States')]['id'].nunique()"
   ]
  },
  {
   "cell_type": "markdown",
   "metadata": {
    "colab_type": "text",
    "id": "_L2zm1ndH91c"
   },
   "source": [
    "### Give the count of movies where one of the genres is 'Animation'"
   ]
  },
  {
   "cell_type": "code",
   "execution_count": null,
   "metadata": {
    "colab": {},
    "colab_type": "code",
    "id": "U1FwIy7KH91e",
    "outputId": "aaecad9f-1eee-4d67-dd67-f9c3336200c8"
   },
   "outputs": [],
   "source": [
    "movies_metadata[movies_metadata['genres_all'].str.contains('Animation')]['id'].nunique()"
   ]
  },
  {
   "cell_type": "markdown",
   "metadata": {
    "colab_type": "text",
    "id": "huyTYc8fH91i"
   },
   "source": [
    "### List all animation movies which belongs to the Car Collection"
   ]
  },
  {
   "cell_type": "code",
   "execution_count": null,
   "metadata": {
    "colab": {},
    "colab_type": "code",
    "id": "zsnZnyq4H91k",
    "outputId": "05f17cfa-a46c-422d-ca80-3ab44fb6c296"
   },
   "outputs": [
    {
     "data": {
      "text/plain": [
       "10979      Cars\n",
       "17361    Cars 2\n",
       "43294    Cars 3\n",
       "Name: original_title, dtype: object"
      ]
     },
     "execution_count": 33,
     "metadata": {
      "tags": []
     },
     "output_type": "execute_result"
    }
   ],
   "source": [
    "movies_metadata[(movies_metadata['genres_all'].str.contains('Animation')) &  \n",
    "                (movies_metadata['belongs_to_collection'].str.contains(\"Cars\"))]['original_title']"
   ]
  },
  {
   "cell_type": "markdown",
   "metadata": {
    "colab_type": "text",
    "id": "mQ-__NhvH91m"
   },
   "source": [
    "### How much money did the movies from \"The Hunger Games Collection\" movie collection make together"
   ]
  },
  {
   "cell_type": "code",
   "execution_count": null,
   "metadata": {
    "colab": {},
    "colab_type": "code",
    "id": "meTUgbCqH91n",
    "outputId": "deadb112-e1b0-49c4-9d11-9f5108c07579"
   },
   "outputs": [
    {
     "data": {
      "text/plain": [
       "2944162634.0"
      ]
     },
     "execution_count": 34,
     "metadata": {
      "tags": []
     },
     "output_type": "execute_result"
    }
   ],
   "source": [
    "movies_metadata[movies_metadata['belongs_to_collection'] == \"The Hunger Games Collection\"]['revenue'].sum()"
   ]
  },
  {
   "cell_type": "markdown",
   "metadata": {
    "colab_type": "text",
    "id": "46paTRquH91q"
   },
   "source": [
    "### List the title, release_date_year and popularity score of the top 10 most popular hindi movies in the whole movies_metadata dataset"
   ]
  },
  {
   "cell_type": "code",
   "execution_count": null,
   "metadata": {
    "colab": {},
    "colab_type": "code",
    "id": "v8tPmTIYH91r",
    "outputId": "6b1c0a81-93d6-4685-ae4f-80618e5dbd54"
   },
   "outputs": [
    {
     "data": {
      "text/html": [
       "<div>\n",
       "<style scoped>\n",
       "    .dataframe tbody tr th:only-of-type {\n",
       "        vertical-align: middle;\n",
       "    }\n",
       "\n",
       "    .dataframe tbody tr th {\n",
       "        vertical-align: top;\n",
       "    }\n",
       "\n",
       "    .dataframe thead th {\n",
       "        text-align: right;\n",
       "    }\n",
       "</style>\n",
       "<table border=\"1\" class=\"dataframe\">\n",
       "  <thead>\n",
       "    <tr style=\"text-align: right;\">\n",
       "      <th></th>\n",
       "      <th>title</th>\n",
       "      <th>release_date_year</th>\n",
       "      <th>popularity</th>\n",
       "    </tr>\n",
       "  </thead>\n",
       "  <tbody>\n",
       "    <tr>\n",
       "      <th>10309</th>\n",
       "      <td>Dilwale Dulhania Le Jayenge</td>\n",
       "      <td>1995</td>\n",
       "      <td>34.457024</td>\n",
       "    </tr>\n",
       "    <tr>\n",
       "      <th>25721</th>\n",
       "      <td>PK</td>\n",
       "      <td>2014</td>\n",
       "      <td>12.587520</td>\n",
       "    </tr>\n",
       "    <tr>\n",
       "      <th>12418</th>\n",
       "      <td>Jodhaa Akbar</td>\n",
       "      <td>2008</td>\n",
       "      <td>12.237488</td>\n",
       "    </tr>\n",
       "    <tr>\n",
       "      <th>14891</th>\n",
       "      <td>My Name Is Khan</td>\n",
       "      <td>2010</td>\n",
       "      <td>11.264586</td>\n",
       "    </tr>\n",
       "    <tr>\n",
       "      <th>22080</th>\n",
       "      <td>Krrish 3</td>\n",
       "      <td>2013</td>\n",
       "      <td>11.114030</td>\n",
       "    </tr>\n",
       "    <tr>\n",
       "      <th>22437</th>\n",
       "      <td>The Lunchbox</td>\n",
       "      <td>2013</td>\n",
       "      <td>10.766409</td>\n",
       "    </tr>\n",
       "    <tr>\n",
       "      <th>5004</th>\n",
       "      <td>Monsoon Wedding</td>\n",
       "      <td>2001</td>\n",
       "      <td>10.625504</td>\n",
       "    </tr>\n",
       "    <tr>\n",
       "      <th>19637</th>\n",
       "      <td>Gangs of Wasseypur</td>\n",
       "      <td>2012</td>\n",
       "      <td>9.777219</td>\n",
       "    </tr>\n",
       "    <tr>\n",
       "      <th>41820</th>\n",
       "      <td>Dangal</td>\n",
       "      <td>2016</td>\n",
       "      <td>8.792104</td>\n",
       "    </tr>\n",
       "    <tr>\n",
       "      <th>17771</th>\n",
       "      <td>Zindagi Na Milegi Dobara</td>\n",
       "      <td>2011</td>\n",
       "      <td>8.475505</td>\n",
       "    </tr>\n",
       "  </tbody>\n",
       "</table>\n",
       "</div>"
      ],
      "text/plain": [
       "                             title  release_date_year  popularity\n",
       "10309  Dilwale Dulhania Le Jayenge               1995   34.457024\n",
       "25721                           PK               2014   12.587520\n",
       "12418                 Jodhaa Akbar               2008   12.237488\n",
       "14891              My Name Is Khan               2010   11.264586\n",
       "22080                     Krrish 3               2013   11.114030\n",
       "22437                 The Lunchbox               2013   10.766409\n",
       "5004               Monsoon Wedding               2001   10.625504\n",
       "19637           Gangs of Wasseypur               2012    9.777219\n",
       "41820                       Dangal               2016    8.792104\n",
       "17771     Zindagi Na Milegi Dobara               2011    8.475505"
      ]
     },
     "execution_count": 35,
     "metadata": {
      "tags": []
     },
     "output_type": "execute_result"
    }
   ],
   "source": [
    "movies_metadata.loc[(movies_metadata['original_language'] == \"hi\"), \n",
    "                    ['title', 'release_date_year', 'popularity']].sort_values('popularity', ascending=False)[0:10]"
   ]
  },
  {
   "cell_type": "markdown",
   "metadata": {
    "colab_type": "text",
    "id": "240w3aUhH91u"
   },
   "source": [
    "### List names and revenue of the top 10 highest grossing french movies\n",
    "Use original_language == 'fr'"
   ]
  },
  {
   "cell_type": "code",
   "execution_count": null,
   "metadata": {
    "colab": {},
    "colab_type": "code",
    "id": "Y-tYCFO0H91v",
    "outputId": "c8ede49a-7581-436a-839d-f0b137a74dce"
   },
   "outputs": [
    {
     "data": {
      "text/html": [
       "<div>\n",
       "<style scoped>\n",
       "    .dataframe tbody tr th:only-of-type {\n",
       "        vertical-align: middle;\n",
       "    }\n",
       "\n",
       "    .dataframe tbody tr th {\n",
       "        vertical-align: top;\n",
       "    }\n",
       "\n",
       "    .dataframe thead th {\n",
       "        text-align: right;\n",
       "    }\n",
       "</style>\n",
       "<table border=\"1\" class=\"dataframe\">\n",
       "  <thead>\n",
       "    <tr style=\"text-align: right;\">\n",
       "      <th></th>\n",
       "      <th>title</th>\n",
       "      <th>revenue</th>\n",
       "    </tr>\n",
       "  </thead>\n",
       "  <tbody>\n",
       "    <tr>\n",
       "      <th>18465</th>\n",
       "      <td>The Intouchables</td>\n",
       "      <td>426480871.0</td>\n",
       "    </tr>\n",
       "    <tr>\n",
       "      <th>4843</th>\n",
       "      <td>Amélie</td>\n",
       "      <td>173921954.0</td>\n",
       "    </tr>\n",
       "    <tr>\n",
       "      <th>14710</th>\n",
       "      <td>Asterix at the Olympic Games</td>\n",
       "      <td>132900000.0</td>\n",
       "    </tr>\n",
       "    <tr>\n",
       "      <th>10182</th>\n",
       "      <td>March of the Penguins</td>\n",
       "      <td>127392239.0</td>\n",
       "    </tr>\n",
       "    <tr>\n",
       "      <th>9260</th>\n",
       "      <td>Asterix &amp; Obelix: Mission Cleopatra</td>\n",
       "      <td>111127553.0</td>\n",
       "    </tr>\n",
       "    <tr>\n",
       "      <th>2581</th>\n",
       "      <td>The Dinner Game</td>\n",
       "      <td>78599508.0</td>\n",
       "    </tr>\n",
       "    <tr>\n",
       "      <th>4896</th>\n",
       "      <td>Brotherhood of the Wolf</td>\n",
       "      <td>70752904.0</td>\n",
       "    </tr>\n",
       "    <tr>\n",
       "      <th>2936</th>\n",
       "      <td>The Messenger: The Story of Joan of Arc</td>\n",
       "      <td>66976317.0</td>\n",
       "    </tr>\n",
       "    <tr>\n",
       "      <th>7878</th>\n",
       "      <td>Taxi 3</td>\n",
       "      <td>65497208.0</td>\n",
       "    </tr>\n",
       "    <tr>\n",
       "      <th>9185</th>\n",
       "      <td>Taxi 2</td>\n",
       "      <td>60726164.0</td>\n",
       "    </tr>\n",
       "  </tbody>\n",
       "</table>\n",
       "</div>"
      ],
      "text/plain": [
       "                                         title      revenue\n",
       "18465                         The Intouchables  426480871.0\n",
       "4843                                    Amélie  173921954.0\n",
       "14710             Asterix at the Olympic Games  132900000.0\n",
       "10182                    March of the Penguins  127392239.0\n",
       "9260       Asterix & Obelix: Mission Cleopatra  111127553.0\n",
       "2581                           The Dinner Game   78599508.0\n",
       "4896                   Brotherhood of the Wolf   70752904.0\n",
       "2936   The Messenger: The Story of Joan of Arc   66976317.0\n",
       "7878                                    Taxi 3   65497208.0\n",
       "9185                                    Taxi 2   60726164.0"
      ]
     },
     "execution_count": 36,
     "metadata": {
      "tags": []
     },
     "output_type": "execute_result"
    }
   ],
   "source": [
    "movies_metadata.loc[movies_metadata['original_language'] == \"fr\", ['title', 'revenue']].sort_values('revenue', \n",
    "                                                                                                    ascending=False)[0:10]"
   ]
  },
  {
   "cell_type": "markdown",
   "metadata": {
    "colab_type": "text",
    "id": "GIZNVFAxH91x"
   },
   "source": [
    "###  List the 10 most popular movies produced by 'Warner Bros.' in the whole movies_metadata dataset\n",
    "Show id, original_title, revenue, bidget, release_date and popularity"
   ]
  },
  {
   "cell_type": "code",
   "execution_count": null,
   "metadata": {
    "colab": {},
    "colab_type": "code",
    "id": "_gg7BuxRH91y",
    "outputId": "637b0fd8-2b6b-4e6f-acd4-3b1222485db5"
   },
   "outputs": [
    {
     "data": {
      "text/html": [
       "<div>\n",
       "<style scoped>\n",
       "    .dataframe tbody tr th:only-of-type {\n",
       "        vertical-align: middle;\n",
       "    }\n",
       "\n",
       "    .dataframe tbody tr th {\n",
       "        vertical-align: top;\n",
       "    }\n",
       "\n",
       "    .dataframe thead th {\n",
       "        text-align: right;\n",
       "    }\n",
       "</style>\n",
       "<table border=\"1\" class=\"dataframe\">\n",
       "  <thead>\n",
       "    <tr style=\"text-align: right;\">\n",
       "      <th></th>\n",
       "      <th>id</th>\n",
       "      <th>original_title</th>\n",
       "      <th>revenue</th>\n",
       "      <th>budget</th>\n",
       "      <th>release_date_dt</th>\n",
       "      <th>popularity</th>\n",
       "    </tr>\n",
       "  </thead>\n",
       "  <tbody>\n",
       "    <tr>\n",
       "      <th>1184</th>\n",
       "      <td>311</td>\n",
       "      <td>Once Upon a Time in America</td>\n",
       "      <td>0.000000e+00</td>\n",
       "      <td>30000000.0</td>\n",
       "      <td>1984-02-16</td>\n",
       "      <td>32.182850</td>\n",
       "    </tr>\n",
       "    <tr>\n",
       "      <th>17437</th>\n",
       "      <td>12445</td>\n",
       "      <td>Harry Potter and the Deathly Hallows: Part 2</td>\n",
       "      <td>1.342000e+09</td>\n",
       "      <td>125000000.0</td>\n",
       "      <td>2011-07-07</td>\n",
       "      <td>24.990738</td>\n",
       "    </tr>\n",
       "    <tr>\n",
       "      <th>16128</th>\n",
       "      <td>12444</td>\n",
       "      <td>Harry Potter and the Deathly Hallows: Part 1</td>\n",
       "      <td>9.543059e+08</td>\n",
       "      <td>250000000.0</td>\n",
       "      <td>2010-10-17</td>\n",
       "      <td>23.300362</td>\n",
       "    </tr>\n",
       "    <tr>\n",
       "      <th>11927</th>\n",
       "      <td>675</td>\n",
       "      <td>Harry Potter and the Order of the Phoenix</td>\n",
       "      <td>9.382127e+08</td>\n",
       "      <td>150000000.0</td>\n",
       "      <td>2007-06-28</td>\n",
       "      <td>21.364300</td>\n",
       "    </tr>\n",
       "    <tr>\n",
       "      <th>13893</th>\n",
       "      <td>767</td>\n",
       "      <td>Harry Potter and the Half-Blood Prince</td>\n",
       "      <td>9.339592e+08</td>\n",
       "      <td>250000000.0</td>\n",
       "      <td>2009-07-07</td>\n",
       "      <td>19.083723</td>\n",
       "    </tr>\n",
       "    <tr>\n",
       "      <th>3633</th>\n",
       "      <td>2133</td>\n",
       "      <td>The Perfect Storm</td>\n",
       "      <td>3.257566e+08</td>\n",
       "      <td>120000000.0</td>\n",
       "      <td>2000-03-15</td>\n",
       "      <td>18.911961</td>\n",
       "    </tr>\n",
       "    <tr>\n",
       "      <th>21592</th>\n",
       "      <td>49047</td>\n",
       "      <td>Gravity</td>\n",
       "      <td>7.163927e+08</td>\n",
       "      <td>105000000.0</td>\n",
       "      <td>2013-09-27</td>\n",
       "      <td>18.501940</td>\n",
       "    </tr>\n",
       "    <tr>\n",
       "      <th>6865</th>\n",
       "      <td>10538</td>\n",
       "      <td>Passenger 57</td>\n",
       "      <td>4.406565e+07</td>\n",
       "      <td>15000000.0</td>\n",
       "      <td>1992-11-05</td>\n",
       "      <td>18.451321</td>\n",
       "    </tr>\n",
       "    <tr>\n",
       "      <th>11354</th>\n",
       "      <td>1124</td>\n",
       "      <td>The Prestige</td>\n",
       "      <td>1.096763e+08</td>\n",
       "      <td>40000000.0</td>\n",
       "      <td>2006-10-19</td>\n",
       "      <td>16.945560</td>\n",
       "    </tr>\n",
       "    <tr>\n",
       "      <th>2526</th>\n",
       "      <td>1924</td>\n",
       "      <td>Superman</td>\n",
       "      <td>3.002180e+08</td>\n",
       "      <td>55000000.0</td>\n",
       "      <td>1978-12-13</td>\n",
       "      <td>15.460102</td>\n",
       "    </tr>\n",
       "  </tbody>\n",
       "</table>\n",
       "</div>"
      ],
      "text/plain": [
       "          id                                original_title       revenue  \\\n",
       "1184     311                   Once Upon a Time in America  0.000000e+00   \n",
       "17437  12445  Harry Potter and the Deathly Hallows: Part 2  1.342000e+09   \n",
       "16128  12444  Harry Potter and the Deathly Hallows: Part 1  9.543059e+08   \n",
       "11927    675     Harry Potter and the Order of the Phoenix  9.382127e+08   \n",
       "13893    767        Harry Potter and the Half-Blood Prince  9.339592e+08   \n",
       "3633    2133                             The Perfect Storm  3.257566e+08   \n",
       "21592  49047                                       Gravity  7.163927e+08   \n",
       "6865   10538                                  Passenger 57  4.406565e+07   \n",
       "11354   1124                                  The Prestige  1.096763e+08   \n",
       "2526    1924                                      Superman  3.002180e+08   \n",
       "\n",
       "            budget release_date_dt  popularity  \n",
       "1184    30000000.0      1984-02-16   32.182850  \n",
       "17437  125000000.0      2011-07-07   24.990738  \n",
       "16128  250000000.0      2010-10-17   23.300362  \n",
       "11927  150000000.0      2007-06-28   21.364300  \n",
       "13893  250000000.0      2009-07-07   19.083723  \n",
       "3633   120000000.0      2000-03-15   18.911961  \n",
       "21592  105000000.0      2013-09-27   18.501940  \n",
       "6865    15000000.0      1992-11-05   18.451321  \n",
       "11354   40000000.0      2006-10-19   16.945560  \n",
       "2526    55000000.0      1978-12-13   15.460102  "
      ]
     },
     "execution_count": 37,
     "metadata": {
      "tags": []
     },
     "output_type": "execute_result"
    }
   ],
   "source": [
    "movies_metadata[movies_metadata['production_companies_major'] == 'Warner Bros.'][['id', \n",
    "    'original_title', 'revenue', 'budget', \n",
    "    'release_date_dt', 'popularity']].sort_values('popularity', ascending=False)[0:10]"
   ]
  },
  {
   "cell_type": "markdown",
   "metadata": {
    "colab_type": "text",
    "id": "YMnkc9d_H910"
   },
   "source": [
    "### List all John Wick movies from newest to oldest and also show how much it made after deducting the budget\n",
    "Show id, titile, revenue, release_date, popularity, budget"
   ]
  },
  {
   "cell_type": "code",
   "execution_count": null,
   "metadata": {
    "colab": {},
    "colab_type": "code",
    "id": "ADTDb7C0H911",
    "outputId": "5a70187c-6c07-43b4-95ec-4b1b22b5ecee"
   },
   "outputs": [
    {
     "data": {
      "text/html": [
       "<div>\n",
       "<style scoped>\n",
       "    .dataframe tbody tr th:only-of-type {\n",
       "        vertical-align: middle;\n",
       "    }\n",
       "\n",
       "    .dataframe tbody tr th {\n",
       "        vertical-align: top;\n",
       "    }\n",
       "\n",
       "    .dataframe thead th {\n",
       "        text-align: right;\n",
       "    }\n",
       "</style>\n",
       "<table border=\"1\" class=\"dataframe\">\n",
       "  <thead>\n",
       "    <tr style=\"text-align: right;\">\n",
       "      <th></th>\n",
       "      <th>id</th>\n",
       "      <th>original_title</th>\n",
       "      <th>revenue</th>\n",
       "      <th>budget</th>\n",
       "      <th>release_date_dt</th>\n",
       "      <th>net_earnings</th>\n",
       "    </tr>\n",
       "  </thead>\n",
       "  <tbody>\n",
       "    <tr>\n",
       "      <th>42168</th>\n",
       "      <td>324552</td>\n",
       "      <td>John Wick: Chapter 2</td>\n",
       "      <td>171539887.0</td>\n",
       "      <td>40000000.0</td>\n",
       "      <td>2017-02-08</td>\n",
       "      <td>131539887.0</td>\n",
       "    </tr>\n",
       "    <tr>\n",
       "      <th>24351</th>\n",
       "      <td>245891</td>\n",
       "      <td>John Wick</td>\n",
       "      <td>88761661.0</td>\n",
       "      <td>20000000.0</td>\n",
       "      <td>2014-10-22</td>\n",
       "      <td>68761661.0</td>\n",
       "    </tr>\n",
       "  </tbody>\n",
       "</table>\n",
       "</div>"
      ],
      "text/plain": [
       "           id        original_title      revenue      budget release_date_dt  \\\n",
       "42168  324552  John Wick: Chapter 2  171539887.0  40000000.0      2017-02-08   \n",
       "24351  245891             John Wick   88761661.0  20000000.0      2014-10-22   \n",
       "\n",
       "       net_earnings  \n",
       "42168   131539887.0  \n",
       "24351    68761661.0  "
      ]
     },
     "execution_count": 38,
     "metadata": {
      "tags": []
     },
     "output_type": "execute_result"
    }
   ],
   "source": [
    "temp = movies_metadata[movies_metadata['original_title'].str.contains('John Wick')][['id', 'original_title', \n",
    "                                'revenue', 'budget', 'release_date_dt']].sort_values('release_date_dt', ascending=False)\n",
    "temp['net_earnings'] = temp['revenue'] - temp['budget'] \n",
    "temp"
   ]
  },
  {
   "cell_type": "markdown",
   "metadata": {
    "colab_type": "text",
    "id": "yAhZ8wCMH915"
   },
   "source": [
    "### List all the movies from the Harry Potter Series in increasing order of release dates\n",
    "Show id, title and release_date"
   ]
  },
  {
   "cell_type": "code",
   "execution_count": null,
   "metadata": {
    "colab": {},
    "colab_type": "code",
    "id": "l7IzdgP8H915",
    "outputId": "ab2f3e8f-3786-401f-edd4-462dce847fb5"
   },
   "outputs": [
    {
     "data": {
      "text/html": [
       "<div>\n",
       "<style scoped>\n",
       "    .dataframe tbody tr th:only-of-type {\n",
       "        vertical-align: middle;\n",
       "    }\n",
       "\n",
       "    .dataframe tbody tr th {\n",
       "        vertical-align: top;\n",
       "    }\n",
       "\n",
       "    .dataframe thead th {\n",
       "        text-align: right;\n",
       "    }\n",
       "</style>\n",
       "<table border=\"1\" class=\"dataframe\">\n",
       "  <thead>\n",
       "    <tr style=\"text-align: right;\">\n",
       "      <th></th>\n",
       "      <th>id</th>\n",
       "      <th>original_title</th>\n",
       "      <th>release_date_dt</th>\n",
       "    </tr>\n",
       "  </thead>\n",
       "  <tbody>\n",
       "    <tr>\n",
       "      <th>4766</th>\n",
       "      <td>671</td>\n",
       "      <td>Harry Potter and the Philosopher's Stone</td>\n",
       "      <td>2001-11-16</td>\n",
       "    </tr>\n",
       "    <tr>\n",
       "      <th>5678</th>\n",
       "      <td>672</td>\n",
       "      <td>Harry Potter and the Chamber of Secrets</td>\n",
       "      <td>2002-11-13</td>\n",
       "    </tr>\n",
       "    <tr>\n",
       "      <th>7725</th>\n",
       "      <td>673</td>\n",
       "      <td>Harry Potter and the Prisoner of Azkaban</td>\n",
       "      <td>2004-05-31</td>\n",
       "    </tr>\n",
       "    <tr>\n",
       "      <th>10554</th>\n",
       "      <td>674</td>\n",
       "      <td>Harry Potter and the Goblet of Fire</td>\n",
       "      <td>2005-11-05</td>\n",
       "    </tr>\n",
       "    <tr>\n",
       "      <th>11927</th>\n",
       "      <td>675</td>\n",
       "      <td>Harry Potter and the Order of the Phoenix</td>\n",
       "      <td>2007-06-28</td>\n",
       "    </tr>\n",
       "    <tr>\n",
       "      <th>13893</th>\n",
       "      <td>767</td>\n",
       "      <td>Harry Potter and the Half-Blood Prince</td>\n",
       "      <td>2009-07-07</td>\n",
       "    </tr>\n",
       "    <tr>\n",
       "      <th>16128</th>\n",
       "      <td>12444</td>\n",
       "      <td>Harry Potter and the Deathly Hallows: Part 1</td>\n",
       "      <td>2010-10-17</td>\n",
       "    </tr>\n",
       "    <tr>\n",
       "      <th>17437</th>\n",
       "      <td>12445</td>\n",
       "      <td>Harry Potter and the Deathly Hallows: Part 2</td>\n",
       "      <td>2011-07-07</td>\n",
       "    </tr>\n",
       "  </tbody>\n",
       "</table>\n",
       "</div>"
      ],
      "text/plain": [
       "          id                                original_title release_date_dt\n",
       "4766     671      Harry Potter and the Philosopher's Stone      2001-11-16\n",
       "5678     672       Harry Potter and the Chamber of Secrets      2002-11-13\n",
       "7725     673      Harry Potter and the Prisoner of Azkaban      2004-05-31\n",
       "10554    674           Harry Potter and the Goblet of Fire      2005-11-05\n",
       "11927    675     Harry Potter and the Order of the Phoenix      2007-06-28\n",
       "13893    767        Harry Potter and the Half-Blood Prince      2009-07-07\n",
       "16128  12444  Harry Potter and the Deathly Hallows: Part 1      2010-10-17\n",
       "17437  12445  Harry Potter and the Deathly Hallows: Part 2      2011-07-07"
      ]
     },
     "execution_count": 39,
     "metadata": {
      "tags": []
     },
     "output_type": "execute_result"
    }
   ],
   "source": [
    "movies_metadata[movies_metadata['original_title'].str.contains('Harry Potter')][['id', 'original_title', \n",
    "                                'release_date_dt']].sort_values('release_date_dt', ascending=True)"
   ]
  },
  {
   "cell_type": "markdown",
   "metadata": {
    "colab_type": "text",
    "id": "hjV5X-pCH917"
   },
   "source": [
    "### Get the 10 most popular movies with a vote_average > 8 and vote_count > 300\n",
    "Show title, vote_average, vote_count, release_date_year and popularity"
   ]
  },
  {
   "cell_type": "code",
   "execution_count": null,
   "metadata": {
    "colab": {},
    "colab_type": "code",
    "id": "Q-Pq_ym2H918",
    "outputId": "89f50ea2-9274-4c3f-b586-b9df630e2e9e"
   },
   "outputs": [
    {
     "data": {
      "text/html": [
       "<div>\n",
       "<style scoped>\n",
       "    .dataframe tbody tr th:only-of-type {\n",
       "        vertical-align: middle;\n",
       "    }\n",
       "\n",
       "    .dataframe tbody tr th {\n",
       "        vertical-align: top;\n",
       "    }\n",
       "\n",
       "    .dataframe thead th {\n",
       "        text-align: right;\n",
       "    }\n",
       "</style>\n",
       "<table border=\"1\" class=\"dataframe\">\n",
       "  <thead>\n",
       "    <tr style=\"text-align: right;\">\n",
       "      <th></th>\n",
       "      <th>title</th>\n",
       "      <th>vote_average</th>\n",
       "      <th>vote_count</th>\n",
       "      <th>release_date_year</th>\n",
       "      <th>popularity</th>\n",
       "    </tr>\n",
       "  </thead>\n",
       "  <tbody>\n",
       "    <tr>\n",
       "      <th>292</th>\n",
       "      <td>Pulp Fiction</td>\n",
       "      <td>8.3</td>\n",
       "      <td>8670.0</td>\n",
       "      <td>1994</td>\n",
       "      <td>140.950241</td>\n",
       "    </tr>\n",
       "    <tr>\n",
       "      <th>12481</th>\n",
       "      <td>The Dark Knight</td>\n",
       "      <td>8.3</td>\n",
       "      <td>12269.0</td>\n",
       "      <td>2008</td>\n",
       "      <td>123.167259</td>\n",
       "    </tr>\n",
       "    <tr>\n",
       "      <th>23673</th>\n",
       "      <td>Whiplash</td>\n",
       "      <td>8.3</td>\n",
       "      <td>4376.0</td>\n",
       "      <td>2014</td>\n",
       "      <td>64.299988</td>\n",
       "    </tr>\n",
       "    <tr>\n",
       "      <th>2843</th>\n",
       "      <td>Fight Club</td>\n",
       "      <td>8.3</td>\n",
       "      <td>9678.0</td>\n",
       "      <td>1999</td>\n",
       "      <td>63.869598</td>\n",
       "    </tr>\n",
       "    <tr>\n",
       "      <th>314</th>\n",
       "      <td>The Shawshank Redemption</td>\n",
       "      <td>8.5</td>\n",
       "      <td>8358.0</td>\n",
       "      <td>1994</td>\n",
       "      <td>51.645405</td>\n",
       "    </tr>\n",
       "    <tr>\n",
       "      <th>351</th>\n",
       "      <td>Forrest Gump</td>\n",
       "      <td>8.2</td>\n",
       "      <td>8147.0</td>\n",
       "      <td>1994</td>\n",
       "      <td>48.307194</td>\n",
       "    </tr>\n",
       "    <tr>\n",
       "      <th>256</th>\n",
       "      <td>Star Wars</td>\n",
       "      <td>8.1</td>\n",
       "      <td>6778.0</td>\n",
       "      <td>1977</td>\n",
       "      <td>42.149696</td>\n",
       "    </tr>\n",
       "    <tr>\n",
       "      <th>522</th>\n",
       "      <td>Schindler's List</td>\n",
       "      <td>8.3</td>\n",
       "      <td>4436.0</td>\n",
       "      <td>1993</td>\n",
       "      <td>41.725124</td>\n",
       "    </tr>\n",
       "    <tr>\n",
       "      <th>834</th>\n",
       "      <td>The Godfather</td>\n",
       "      <td>8.5</td>\n",
       "      <td>6024.0</td>\n",
       "      <td>1972</td>\n",
       "      <td>41.109264</td>\n",
       "    </tr>\n",
       "    <tr>\n",
       "      <th>5481</th>\n",
       "      <td>Spirited Away</td>\n",
       "      <td>8.3</td>\n",
       "      <td>3968.0</td>\n",
       "      <td>2001</td>\n",
       "      <td>41.048866</td>\n",
       "    </tr>\n",
       "  </tbody>\n",
       "</table>\n",
       "</div>"
      ],
      "text/plain": [
       "                          title  vote_average  vote_count  release_date_year  \\\n",
       "292                Pulp Fiction           8.3      8670.0               1994   \n",
       "12481           The Dark Knight           8.3     12269.0               2008   \n",
       "23673                  Whiplash           8.3      4376.0               2014   \n",
       "2843                 Fight Club           8.3      9678.0               1999   \n",
       "314    The Shawshank Redemption           8.5      8358.0               1994   \n",
       "351                Forrest Gump           8.2      8147.0               1994   \n",
       "256                   Star Wars           8.1      6778.0               1977   \n",
       "522            Schindler's List           8.3      4436.0               1993   \n",
       "834               The Godfather           8.5      6024.0               1972   \n",
       "5481              Spirited Away           8.3      3968.0               2001   \n",
       "\n",
       "       popularity  \n",
       "292    140.950241  \n",
       "12481  123.167259  \n",
       "23673   64.299988  \n",
       "2843    63.869598  \n",
       "314     51.645405  \n",
       "351     48.307194  \n",
       "256     42.149696  \n",
       "522     41.725124  \n",
       "834     41.109264  \n",
       "5481    41.048866  "
      ]
     },
     "execution_count": 40,
     "metadata": {
      "tags": []
     },
     "output_type": "execute_result"
    }
   ],
   "source": [
    "movies_metadata[(movies_metadata['vote_average'] > 8) & (movies_metadata['vote_count'] > 300)].sort_values('popularity', \n",
    "        ascending=False).loc[:, ['title', 'vote_average', 'vote_count', 'release_date_year', 'popularity']].iloc[0:10]"
   ]
  },
  {
   "cell_type": "markdown",
   "metadata": {
    "colab_type": "text",
    "id": "UHhq55MEH91-"
   },
   "source": [
    "### Show a list of movies where \"Paramount Pictures\" is listed as a producer and which has a vote average greater than 7.5 and vote_count > 300\n",
    "Order the results in decreasing order of vote average"
   ]
  },
  {
   "cell_type": "code",
   "execution_count": null,
   "metadata": {
    "colab": {},
    "colab_type": "code",
    "id": "RxVpVo8CH91_",
    "outputId": "0374f56d-2bf9-43c9-8f73-aa3b226d5e15"
   },
   "outputs": [
    {
     "data": {
      "text/html": [
       "<div>\n",
       "<style scoped>\n",
       "    .dataframe tbody tr th:only-of-type {\n",
       "        vertical-align: middle;\n",
       "    }\n",
       "\n",
       "    .dataframe tbody tr th {\n",
       "        vertical-align: top;\n",
       "    }\n",
       "\n",
       "    .dataframe thead th {\n",
       "        text-align: right;\n",
       "    }\n",
       "</style>\n",
       "<table border=\"1\" class=\"dataframe\">\n",
       "  <thead>\n",
       "    <tr style=\"text-align: right;\">\n",
       "      <th></th>\n",
       "      <th>title</th>\n",
       "      <th>vote_average</th>\n",
       "    </tr>\n",
       "  </thead>\n",
       "  <tbody>\n",
       "    <tr>\n",
       "      <th>834</th>\n",
       "      <td>The Godfather</td>\n",
       "      <td>8.5</td>\n",
       "    </tr>\n",
       "    <tr>\n",
       "      <th>1178</th>\n",
       "      <td>The Godfather: Part II</td>\n",
       "      <td>8.3</td>\n",
       "    </tr>\n",
       "    <tr>\n",
       "      <th>1176</th>\n",
       "      <td>Psycho</td>\n",
       "      <td>8.3</td>\n",
       "    </tr>\n",
       "    <tr>\n",
       "      <th>895</th>\n",
       "      <td>Sunset Boulevard</td>\n",
       "      <td>8.2</td>\n",
       "    </tr>\n",
       "    <tr>\n",
       "      <th>351</th>\n",
       "      <td>Forrest Gump</td>\n",
       "      <td>8.2</td>\n",
       "    </tr>\n",
       "    <tr>\n",
       "      <th>877</th>\n",
       "      <td>Rear Window</td>\n",
       "      <td>8.2</td>\n",
       "    </tr>\n",
       "    <tr>\n",
       "      <th>1166</th>\n",
       "      <td>Once Upon a Time in the West</td>\n",
       "      <td>8.1</td>\n",
       "    </tr>\n",
       "    <tr>\n",
       "      <th>22879</th>\n",
       "      <td>Interstellar</td>\n",
       "      <td>8.1</td>\n",
       "    </tr>\n",
       "    <tr>\n",
       "      <th>876</th>\n",
       "      <td>Vertigo</td>\n",
       "      <td>8.0</td>\n",
       "    </tr>\n",
       "    <tr>\n",
       "      <th>1901</th>\n",
       "      <td>Metropolis</td>\n",
       "      <td>8.0</td>\n",
       "    </tr>\n",
       "    <tr>\n",
       "      <th>3315</th>\n",
       "      <td>Double Indemnity</td>\n",
       "      <td>8.0</td>\n",
       "    </tr>\n",
       "    <tr>\n",
       "      <th>1207</th>\n",
       "      <td>Chinatown</td>\n",
       "      <td>7.9</td>\n",
       "    </tr>\n",
       "    <tr>\n",
       "      <th>1919</th>\n",
       "      <td>Saving Private Ryan</td>\n",
       "      <td>7.9</td>\n",
       "    </tr>\n",
       "    <tr>\n",
       "      <th>22131</th>\n",
       "      <td>The Wolf of Wall Street</td>\n",
       "      <td>7.9</td>\n",
       "    </tr>\n",
       "    <tr>\n",
       "      <th>889</th>\n",
       "      <td>Roman Holiday</td>\n",
       "      <td>7.8</td>\n",
       "    </tr>\n",
       "    <tr>\n",
       "      <th>1604</th>\n",
       "      <td>The Truman Show</td>\n",
       "      <td>7.8</td>\n",
       "    </tr>\n",
       "    <tr>\n",
       "      <th>14825</th>\n",
       "      <td>Shutter Island</td>\n",
       "      <td>7.8</td>\n",
       "    </tr>\n",
       "    <tr>\n",
       "      <th>1156</th>\n",
       "      <td>Raiders of the Lost Ark</td>\n",
       "      <td>7.7</td>\n",
       "    </tr>\n",
       "    <tr>\n",
       "      <th>875</th>\n",
       "      <td>Breakfast at Tiffany's</td>\n",
       "      <td>7.6</td>\n",
       "    </tr>\n",
       "    <tr>\n",
       "      <th>1246</th>\n",
       "      <td>Indiana Jones and the Last Crusade</td>\n",
       "      <td>7.6</td>\n",
       "    </tr>\n",
       "    <tr>\n",
       "      <th>2085</th>\n",
       "      <td>The Untouchables</td>\n",
       "      <td>7.6</td>\n",
       "    </tr>\n",
       "  </tbody>\n",
       "</table>\n",
       "</div>"
      ],
      "text/plain": [
       "                                    title  vote_average\n",
       "834                         The Godfather           8.5\n",
       "1178               The Godfather: Part II           8.3\n",
       "1176                               Psycho           8.3\n",
       "895                      Sunset Boulevard           8.2\n",
       "351                          Forrest Gump           8.2\n",
       "877                           Rear Window           8.2\n",
       "1166         Once Upon a Time in the West           8.1\n",
       "22879                        Interstellar           8.1\n",
       "876                               Vertigo           8.0\n",
       "1901                           Metropolis           8.0\n",
       "3315                     Double Indemnity           8.0\n",
       "1207                            Chinatown           7.9\n",
       "1919                  Saving Private Ryan           7.9\n",
       "22131             The Wolf of Wall Street           7.9\n",
       "889                         Roman Holiday           7.8\n",
       "1604                      The Truman Show           7.8\n",
       "14825                      Shutter Island           7.8\n",
       "1156              Raiders of the Lost Ark           7.7\n",
       "875                Breakfast at Tiffany's           7.6\n",
       "1246   Indiana Jones and the Last Crusade           7.6\n",
       "2085                     The Untouchables           7.6"
      ]
     },
     "execution_count": 41,
     "metadata": {
      "tags": []
     },
     "output_type": "execute_result"
    }
   ],
   "source": [
    "movies_metadata.loc[(movies_metadata['production_companies_all'].str.contains('Paramount Pictures')) & \n",
    "        (movies_metadata['vote_average'] >7.5) &  \n",
    "        (movies_metadata['vote_count'] >300), ['title', 'vote_average']].sort_values('vote_average', ascending=False)"
   ]
  },
  {
   "cell_type": "markdown",
   "metadata": {
    "colab_type": "text",
    "id": "qW9PCQvQH92B"
   },
   "source": [
    "### Get the top 5 most common major spoken languages for movies with status other than Released"
   ]
  },
  {
   "cell_type": "code",
   "execution_count": null,
   "metadata": {
    "colab": {},
    "colab_type": "code",
    "id": "lTtMPEmsH92C",
    "outputId": "3a1c4d83-1028-4324-8269-684d9f021146"
   },
   "outputs": [
    {
     "data": {
      "text/plain": [
       "English     211\n",
       "             81\n",
       "Français     22\n",
       "Italiano     17\n",
       "Deutsch      13\n",
       "Name: spoken_languages_major, dtype: int64"
      ]
     },
     "execution_count": 42,
     "metadata": {
      "tags": []
     },
     "output_type": "execute_result"
    }
   ],
   "source": [
    "movies_metadata[movies_metadata['status'] != \"Released\"]['spoken_languages_major'].value_counts()[0:5]"
   ]
  },
  {
   "cell_type": "markdown",
   "metadata": {
    "colab_type": "text",
    "id": "3vTnGNZkH92F"
   },
   "source": [
    "   "
   ]
  },
  {
   "cell_type": "markdown",
   "metadata": {
    "colab_type": "text",
    "id": "Ufln7YohH92F"
   },
   "source": [
    "   "
   ]
  },
  {
   "cell_type": "markdown",
   "metadata": {
    "colab_type": "text",
    "id": "YVAGZlEHH92G"
   },
   "source": [
    "# Aggregation"
   ]
  },
  {
   "cell_type": "markdown",
   "metadata": {
    "colab_type": "text",
    "id": "DNkcz5YHH92G"
   },
   "source": [
    "### Get the maximum revenue produced by a movie in each year between 2000 and 2010 inclusive"
   ]
  },
  {
   "cell_type": "code",
   "execution_count": null,
   "metadata": {
    "colab": {},
    "colab_type": "code",
    "id": "NYO8xG3PH92G",
    "outputId": "df74bc63-30f3-4cb1-ee6a-118a6f14018f"
   },
   "outputs": [
    {
     "data": {
      "text/html": [
       "<div>\n",
       "<style scoped>\n",
       "    .dataframe tbody tr th:only-of-type {\n",
       "        vertical-align: middle;\n",
       "    }\n",
       "\n",
       "    .dataframe tbody tr th {\n",
       "        vertical-align: top;\n",
       "    }\n",
       "\n",
       "    .dataframe thead th {\n",
       "        text-align: right;\n",
       "    }\n",
       "</style>\n",
       "<table border=\"1\" class=\"dataframe\">\n",
       "  <thead>\n",
       "    <tr style=\"text-align: right;\">\n",
       "      <th></th>\n",
       "      <th>revenue</th>\n",
       "    </tr>\n",
       "    <tr>\n",
       "      <th>release_date_year</th>\n",
       "      <th></th>\n",
       "    </tr>\n",
       "  </thead>\n",
       "  <tbody>\n",
       "    <tr>\n",
       "      <th>2000</th>\n",
       "      <td>5.463881e+08</td>\n",
       "    </tr>\n",
       "    <tr>\n",
       "      <th>2001</th>\n",
       "      <td>9.764756e+08</td>\n",
       "    </tr>\n",
       "    <tr>\n",
       "      <th>2002</th>\n",
       "      <td>9.262874e+08</td>\n",
       "    </tr>\n",
       "    <tr>\n",
       "      <th>2003</th>\n",
       "      <td>1.118889e+09</td>\n",
       "    </tr>\n",
       "    <tr>\n",
       "      <th>2004</th>\n",
       "      <td>9.198388e+08</td>\n",
       "    </tr>\n",
       "    <tr>\n",
       "      <th>2005</th>\n",
       "      <td>8.959210e+08</td>\n",
       "    </tr>\n",
       "    <tr>\n",
       "      <th>2006</th>\n",
       "      <td>1.065660e+09</td>\n",
       "    </tr>\n",
       "    <tr>\n",
       "      <th>2007</th>\n",
       "      <td>9.610000e+08</td>\n",
       "    </tr>\n",
       "    <tr>\n",
       "      <th>2008</th>\n",
       "      <td>1.004558e+09</td>\n",
       "    </tr>\n",
       "    <tr>\n",
       "      <th>2009</th>\n",
       "      <td>2.787965e+09</td>\n",
       "    </tr>\n",
       "    <tr>\n",
       "      <th>2010</th>\n",
       "      <td>1.066970e+09</td>\n",
       "    </tr>\n",
       "  </tbody>\n",
       "</table>\n",
       "</div>"
      ],
      "text/plain": [
       "                        revenue\n",
       "release_date_year              \n",
       "2000               5.463881e+08\n",
       "2001               9.764756e+08\n",
       "2002               9.262874e+08\n",
       "2003               1.118889e+09\n",
       "2004               9.198388e+08\n",
       "2005               8.959210e+08\n",
       "2006               1.065660e+09\n",
       "2007               9.610000e+08\n",
       "2008               1.004558e+09\n",
       "2009               2.787965e+09\n",
       "2010               1.066970e+09"
      ]
     },
     "execution_count": 43,
     "metadata": {
      "tags": []
     },
     "output_type": "execute_result"
    }
   ],
   "source": [
    "movies_metadata[(movies_metadata['release_date_year'] >= 2000) & \n",
    "                (movies_metadata['release_date_year'] <= 2010)].groupby('release_date_year')[['revenue']].max()"
   ]
  },
  {
   "cell_type": "markdown",
   "metadata": {
    "colab_type": "text",
    "id": "l2f9ErZUH92J"
   },
   "source": [
    "### Get the minimum revenue, maximum revenue, average revenue and sum of revenue of movies released in each month in 2014 where the original_language is english"
   ]
  },
  {
   "cell_type": "code",
   "execution_count": null,
   "metadata": {
    "colab": {},
    "colab_type": "code",
    "id": "7SCeAxvJH92J",
    "outputId": "57882668-1095-4f25-c828-3b55ebfc58c5"
   },
   "outputs": [
    {
     "data": {
      "text/html": [
       "<div>\n",
       "<style scoped>\n",
       "    .dataframe tbody tr th:only-of-type {\n",
       "        vertical-align: middle;\n",
       "    }\n",
       "\n",
       "    .dataframe tbody tr th {\n",
       "        vertical-align: top;\n",
       "    }\n",
       "\n",
       "    .dataframe thead th {\n",
       "        text-align: right;\n",
       "    }\n",
       "</style>\n",
       "<table border=\"1\" class=\"dataframe\">\n",
       "  <thead>\n",
       "    <tr style=\"text-align: right;\">\n",
       "      <th></th>\n",
       "      <th>min</th>\n",
       "      <th>max</th>\n",
       "      <th>mean</th>\n",
       "      <th>sum</th>\n",
       "    </tr>\n",
       "    <tr>\n",
       "      <th>release_date_month</th>\n",
       "      <th></th>\n",
       "      <th></th>\n",
       "      <th></th>\n",
       "      <th></th>\n",
       "    </tr>\n",
       "  </thead>\n",
       "  <tbody>\n",
       "    <tr>\n",
       "      <th>1</th>\n",
       "      <td>0.0</td>\n",
       "      <td>2.426890e+08</td>\n",
       "      <td>9.909963e+06</td>\n",
       "      <td>1.119826e+09</td>\n",
       "    </tr>\n",
       "    <tr>\n",
       "      <th>2</th>\n",
       "      <td>0.0</td>\n",
       "      <td>4.691607e+08</td>\n",
       "      <td>1.685493e+07</td>\n",
       "      <td>1.297830e+09</td>\n",
       "    </tr>\n",
       "    <tr>\n",
       "      <th>3</th>\n",
       "      <td>0.0</td>\n",
       "      <td>7.147666e+08</td>\n",
       "      <td>2.149666e+07</td>\n",
       "      <td>2.601096e+09</td>\n",
       "    </tr>\n",
       "    <tr>\n",
       "      <th>4</th>\n",
       "      <td>0.0</td>\n",
       "      <td>7.057174e+08</td>\n",
       "      <td>8.283025e+06</td>\n",
       "      <td>1.308718e+09</td>\n",
       "    </tr>\n",
       "    <tr>\n",
       "      <th>5</th>\n",
       "      <td>0.0</td>\n",
       "      <td>7.585398e+08</td>\n",
       "      <td>3.439250e+07</td>\n",
       "      <td>3.232895e+09</td>\n",
       "    </tr>\n",
       "    <tr>\n",
       "      <th>6</th>\n",
       "      <td>0.0</td>\n",
       "      <td>1.091405e+09</td>\n",
       "      <td>3.157970e+07</td>\n",
       "      <td>2.968492e+09</td>\n",
       "    </tr>\n",
       "    <tr>\n",
       "      <th>7</th>\n",
       "      <td>0.0</td>\n",
       "      <td>7.733286e+08</td>\n",
       "      <td>2.121183e+07</td>\n",
       "      <td>1.824218e+09</td>\n",
       "    </tr>\n",
       "    <tr>\n",
       "      <th>8</th>\n",
       "      <td>0.0</td>\n",
       "      <td>4.772000e+08</td>\n",
       "      <td>1.517565e+07</td>\n",
       "      <td>1.775551e+09</td>\n",
       "    </tr>\n",
       "    <tr>\n",
       "      <th>9</th>\n",
       "      <td>0.0</td>\n",
       "      <td>3.483199e+08</td>\n",
       "      <td>6.072638e+06</td>\n",
       "      <td>9.716220e+08</td>\n",
       "    </tr>\n",
       "    <tr>\n",
       "      <th>10</th>\n",
       "      <td>0.0</td>\n",
       "      <td>6.521054e+08</td>\n",
       "      <td>1.314444e+07</td>\n",
       "      <td>2.379144e+09</td>\n",
       "    </tr>\n",
       "    <tr>\n",
       "      <th>11</th>\n",
       "      <td>0.0</td>\n",
       "      <td>7.521002e+08</td>\n",
       "      <td>2.601870e+07</td>\n",
       "      <td>2.705944e+09</td>\n",
       "    </tr>\n",
       "    <tr>\n",
       "      <th>12</th>\n",
       "      <td>0.0</td>\n",
       "      <td>9.560198e+08</td>\n",
       "      <td>4.268863e+07</td>\n",
       "      <td>3.415091e+09</td>\n",
       "    </tr>\n",
       "  </tbody>\n",
       "</table>\n",
       "</div>"
      ],
      "text/plain": [
       "                    min           max          mean           sum\n",
       "release_date_month                                               \n",
       "1                   0.0  2.426890e+08  9.909963e+06  1.119826e+09\n",
       "2                   0.0  4.691607e+08  1.685493e+07  1.297830e+09\n",
       "3                   0.0  7.147666e+08  2.149666e+07  2.601096e+09\n",
       "4                   0.0  7.057174e+08  8.283025e+06  1.308718e+09\n",
       "5                   0.0  7.585398e+08  3.439250e+07  3.232895e+09\n",
       "6                   0.0  1.091405e+09  3.157970e+07  2.968492e+09\n",
       "7                   0.0  7.733286e+08  2.121183e+07  1.824218e+09\n",
       "8                   0.0  4.772000e+08  1.517565e+07  1.775551e+09\n",
       "9                   0.0  3.483199e+08  6.072638e+06  9.716220e+08\n",
       "10                  0.0  6.521054e+08  1.314444e+07  2.379144e+09\n",
       "11                  0.0  7.521002e+08  2.601870e+07  2.705944e+09\n",
       "12                  0.0  9.560198e+08  4.268863e+07  3.415091e+09"
      ]
     },
     "execution_count": 44,
     "metadata": {
      "tags": []
     },
     "output_type": "execute_result"
    }
   ],
   "source": [
    "movies_metadata[(movies_metadata['release_date_year'] == 2014) &\n",
    "               (movies_metadata['original_language'] == \"en\")].groupby('release_date_month')['revenue'].agg(['min', \n",
    "                                                                'max', 'mean', 'sum'])"
   ]
  },
  {
   "cell_type": "markdown",
   "metadata": {
    "colab_type": "text",
    "id": "2qk07wYmH92L"
   },
   "source": [
    "### Modify the solution to the above question to show the same metrics for budget too along with revenue"
   ]
  },
  {
   "cell_type": "code",
   "execution_count": null,
   "metadata": {
    "colab": {},
    "colab_type": "code",
    "id": "fEq5RX4MH92M",
    "outputId": "02830f64-654e-46c2-fe59-64aadc3caf2a"
   },
   "outputs": [
    {
     "data": {
      "text/html": [
       "<div>\n",
       "<style scoped>\n",
       "    .dataframe tbody tr th:only-of-type {\n",
       "        vertical-align: middle;\n",
       "    }\n",
       "\n",
       "    .dataframe tbody tr th {\n",
       "        vertical-align: top;\n",
       "    }\n",
       "\n",
       "    .dataframe thead tr th {\n",
       "        text-align: left;\n",
       "    }\n",
       "\n",
       "    .dataframe thead tr:last-of-type th {\n",
       "        text-align: right;\n",
       "    }\n",
       "</style>\n",
       "<table border=\"1\" class=\"dataframe\">\n",
       "  <thead>\n",
       "    <tr>\n",
       "      <th></th>\n",
       "      <th colspan=\"4\" halign=\"left\">revenue</th>\n",
       "      <th colspan=\"4\" halign=\"left\">budget</th>\n",
       "    </tr>\n",
       "    <tr>\n",
       "      <th></th>\n",
       "      <th>min</th>\n",
       "      <th>max</th>\n",
       "      <th>mean</th>\n",
       "      <th>sum</th>\n",
       "      <th>min</th>\n",
       "      <th>max</th>\n",
       "      <th>mean</th>\n",
       "      <th>sum</th>\n",
       "    </tr>\n",
       "    <tr>\n",
       "      <th>release_date_month</th>\n",
       "      <th></th>\n",
       "      <th></th>\n",
       "      <th></th>\n",
       "      <th></th>\n",
       "      <th></th>\n",
       "      <th></th>\n",
       "      <th></th>\n",
       "      <th></th>\n",
       "    </tr>\n",
       "  </thead>\n",
       "  <tbody>\n",
       "    <tr>\n",
       "      <th>1</th>\n",
       "      <td>0.0</td>\n",
       "      <td>2.426890e+08</td>\n",
       "      <td>9.909963e+06</td>\n",
       "      <td>1.119826e+09</td>\n",
       "      <td>0.0</td>\n",
       "      <td>120000000.0</td>\n",
       "      <td>4624026.50</td>\n",
       "      <td>5.225150e+08</td>\n",
       "    </tr>\n",
       "    <tr>\n",
       "      <th>2</th>\n",
       "      <td>0.0</td>\n",
       "      <td>4.691607e+08</td>\n",
       "      <td>1.685493e+07</td>\n",
       "      <td>1.297830e+09</td>\n",
       "      <td>0.0</td>\n",
       "      <td>145000000.0</td>\n",
       "      <td>6951948.50</td>\n",
       "      <td>5.353001e+08</td>\n",
       "    </tr>\n",
       "    <tr>\n",
       "      <th>3</th>\n",
       "      <td>0.0</td>\n",
       "      <td>7.147666e+08</td>\n",
       "      <td>2.149666e+07</td>\n",
       "      <td>2.601096e+09</td>\n",
       "      <td>0.0</td>\n",
       "      <td>170000000.0</td>\n",
       "      <td>7057603.50</td>\n",
       "      <td>8.539700e+08</td>\n",
       "    </tr>\n",
       "    <tr>\n",
       "      <th>4</th>\n",
       "      <td>0.0</td>\n",
       "      <td>7.057174e+08</td>\n",
       "      <td>8.283025e+06</td>\n",
       "      <td>1.308718e+09</td>\n",
       "      <td>0.0</td>\n",
       "      <td>200000000.0</td>\n",
       "      <td>2895430.50</td>\n",
       "      <td>4.574780e+08</td>\n",
       "    </tr>\n",
       "    <tr>\n",
       "      <th>5</th>\n",
       "      <td>0.0</td>\n",
       "      <td>7.585398e+08</td>\n",
       "      <td>3.439250e+07</td>\n",
       "      <td>3.232895e+09</td>\n",
       "      <td>0.0</td>\n",
       "      <td>250000000.0</td>\n",
       "      <td>10951597.00</td>\n",
       "      <td>1.029450e+09</td>\n",
       "    </tr>\n",
       "    <tr>\n",
       "      <th>6</th>\n",
       "      <td>0.0</td>\n",
       "      <td>1.091405e+09</td>\n",
       "      <td>3.157970e+07</td>\n",
       "      <td>2.968492e+09</td>\n",
       "      <td>0.0</td>\n",
       "      <td>210000000.0</td>\n",
       "      <td>7350799.00</td>\n",
       "      <td>6.909751e+08</td>\n",
       "    </tr>\n",
       "    <tr>\n",
       "      <th>7</th>\n",
       "      <td>0.0</td>\n",
       "      <td>7.733286e+08</td>\n",
       "      <td>2.121183e+07</td>\n",
       "      <td>1.824218e+09</td>\n",
       "      <td>0.0</td>\n",
       "      <td>170000000.0</td>\n",
       "      <td>6517628.50</td>\n",
       "      <td>5.605160e+08</td>\n",
       "    </tr>\n",
       "    <tr>\n",
       "      <th>8</th>\n",
       "      <td>0.0</td>\n",
       "      <td>4.772000e+08</td>\n",
       "      <td>1.517565e+07</td>\n",
       "      <td>1.775551e+09</td>\n",
       "      <td>0.0</td>\n",
       "      <td>125000000.0</td>\n",
       "      <td>4674769.00</td>\n",
       "      <td>5.469480e+08</td>\n",
       "    </tr>\n",
       "    <tr>\n",
       "      <th>9</th>\n",
       "      <td>0.0</td>\n",
       "      <td>3.483199e+08</td>\n",
       "      <td>6.072638e+06</td>\n",
       "      <td>9.716220e+08</td>\n",
       "      <td>0.0</td>\n",
       "      <td>60000000.0</td>\n",
       "      <td>2651538.00</td>\n",
       "      <td>4.242460e+08</td>\n",
       "    </tr>\n",
       "    <tr>\n",
       "      <th>10</th>\n",
       "      <td>0.0</td>\n",
       "      <td>6.521054e+08</td>\n",
       "      <td>1.314444e+07</td>\n",
       "      <td>2.379144e+09</td>\n",
       "      <td>0.0</td>\n",
       "      <td>165000000.0</td>\n",
       "      <td>3901187.75</td>\n",
       "      <td>7.061150e+08</td>\n",
       "    </tr>\n",
       "    <tr>\n",
       "      <th>11</th>\n",
       "      <td>0.0</td>\n",
       "      <td>7.521002e+08</td>\n",
       "      <td>2.601870e+07</td>\n",
       "      <td>2.705944e+09</td>\n",
       "      <td>0.0</td>\n",
       "      <td>165000000.0</td>\n",
       "      <td>5985816.00</td>\n",
       "      <td>6.225249e+08</td>\n",
       "    </tr>\n",
       "    <tr>\n",
       "      <th>12</th>\n",
       "      <td>0.0</td>\n",
       "      <td>9.560198e+08</td>\n",
       "      <td>4.268863e+07</td>\n",
       "      <td>3.415091e+09</td>\n",
       "      <td>0.0</td>\n",
       "      <td>250000000.0</td>\n",
       "      <td>14105463.00</td>\n",
       "      <td>1.128437e+09</td>\n",
       "    </tr>\n",
       "  </tbody>\n",
       "</table>\n",
       "</div>"
      ],
      "text/plain": [
       "                   revenue                                           budget  \\\n",
       "                       min           max          mean           sum    min   \n",
       "release_date_month                                                            \n",
       "1                      0.0  2.426890e+08  9.909963e+06  1.119826e+09    0.0   \n",
       "2                      0.0  4.691607e+08  1.685493e+07  1.297830e+09    0.0   \n",
       "3                      0.0  7.147666e+08  2.149666e+07  2.601096e+09    0.0   \n",
       "4                      0.0  7.057174e+08  8.283025e+06  1.308718e+09    0.0   \n",
       "5                      0.0  7.585398e+08  3.439250e+07  3.232895e+09    0.0   \n",
       "6                      0.0  1.091405e+09  3.157970e+07  2.968492e+09    0.0   \n",
       "7                      0.0  7.733286e+08  2.121183e+07  1.824218e+09    0.0   \n",
       "8                      0.0  4.772000e+08  1.517565e+07  1.775551e+09    0.0   \n",
       "9                      0.0  3.483199e+08  6.072638e+06  9.716220e+08    0.0   \n",
       "10                     0.0  6.521054e+08  1.314444e+07  2.379144e+09    0.0   \n",
       "11                     0.0  7.521002e+08  2.601870e+07  2.705944e+09    0.0   \n",
       "12                     0.0  9.560198e+08  4.268863e+07  3.415091e+09    0.0   \n",
       "\n",
       "                                                            \n",
       "                            max         mean           sum  \n",
       "release_date_month                                          \n",
       "1                   120000000.0   4624026.50  5.225150e+08  \n",
       "2                   145000000.0   6951948.50  5.353001e+08  \n",
       "3                   170000000.0   7057603.50  8.539700e+08  \n",
       "4                   200000000.0   2895430.50  4.574780e+08  \n",
       "5                   250000000.0  10951597.00  1.029450e+09  \n",
       "6                   210000000.0   7350799.00  6.909751e+08  \n",
       "7                   170000000.0   6517628.50  5.605160e+08  \n",
       "8                   125000000.0   4674769.00  5.469480e+08  \n",
       "9                    60000000.0   2651538.00  4.242460e+08  \n",
       "10                  165000000.0   3901187.75  7.061150e+08  \n",
       "11                  165000000.0   5985816.00  6.225249e+08  \n",
       "12                  250000000.0  14105463.00  1.128437e+09  "
      ]
     },
     "execution_count": 45,
     "metadata": {
      "tags": []
     },
     "output_type": "execute_result"
    }
   ],
   "source": [
    "movies_metadata[(movies_metadata['release_date_year'] == 2014) &\n",
    "               (movies_metadata['original_language'] == \"en\")].groupby('release_date_month')[['revenue', \n",
    "                                                                'budget']].agg(['min', 'max', 'mean', 'sum'])"
   ]
  },
  {
   "cell_type": "markdown",
   "metadata": {
    "colab_type": "text",
    "id": "mtfK6AlBH92O"
   },
   "source": [
    "### Get the count of the movies in each collection where Pixar Animation Studios is a producer  along with the sum of revenue and budget each collection made"
   ]
  },
  {
   "cell_type": "code",
   "execution_count": null,
   "metadata": {
    "colab": {},
    "colab_type": "code",
    "id": "2Kks-ZSbH92P",
    "outputId": "ef08070b-9882-4980-f14e-abfd5feae85a"
   },
   "outputs": [
    {
     "data": {
      "text/html": [
       "<div>\n",
       "<style scoped>\n",
       "    .dataframe tbody tr th:only-of-type {\n",
       "        vertical-align: middle;\n",
       "    }\n",
       "\n",
       "    .dataframe tbody tr th {\n",
       "        vertical-align: top;\n",
       "    }\n",
       "\n",
       "    .dataframe thead th {\n",
       "        text-align: right;\n",
       "    }\n",
       "</style>\n",
       "<table border=\"1\" class=\"dataframe\">\n",
       "  <thead>\n",
       "    <tr style=\"text-align: right;\">\n",
       "      <th></th>\n",
       "      <th>id</th>\n",
       "      <th>budget</th>\n",
       "      <th>revenue</th>\n",
       "    </tr>\n",
       "    <tr>\n",
       "      <th>belongs_to_collection</th>\n",
       "      <th></th>\n",
       "      <th></th>\n",
       "      <th></th>\n",
       "    </tr>\n",
       "  </thead>\n",
       "  <tbody>\n",
       "    <tr>\n",
       "      <th></th>\n",
       "      <td>40</td>\n",
       "      <td>1.160000e+09</td>\n",
       "      <td>3.971913e+09</td>\n",
       "    </tr>\n",
       "    <tr>\n",
       "      <th>Cars Collection</th>\n",
       "      <td>3</td>\n",
       "      <td>4.950000e+08</td>\n",
       "      <td>1.372006e+09</td>\n",
       "    </tr>\n",
       "    <tr>\n",
       "      <th>Finding Nemo Collection</th>\n",
       "      <td>2</td>\n",
       "      <td>2.940000e+08</td>\n",
       "      <td>1.968906e+09</td>\n",
       "    </tr>\n",
       "    <tr>\n",
       "      <th>Monsters, Inc. Collection</th>\n",
       "      <td>3</td>\n",
       "      <td>3.150000e+08</td>\n",
       "      <td>1.306376e+09</td>\n",
       "    </tr>\n",
       "    <tr>\n",
       "      <th>The Incredibles Collection</th>\n",
       "      <td>1</td>\n",
       "      <td>9.200000e+07</td>\n",
       "      <td>6.314421e+08</td>\n",
       "    </tr>\n",
       "    <tr>\n",
       "      <th>Toy Story Collection</th>\n",
       "      <td>3</td>\n",
       "      <td>3.200000e+08</td>\n",
       "      <td>1.937891e+09</td>\n",
       "    </tr>\n",
       "  </tbody>\n",
       "</table>\n",
       "</div>"
      ],
      "text/plain": [
       "                            id        budget       revenue\n",
       "belongs_to_collection                                     \n",
       "                            40  1.160000e+09  3.971913e+09\n",
       "Cars Collection              3  4.950000e+08  1.372006e+09\n",
       "Finding Nemo Collection      2  2.940000e+08  1.968906e+09\n",
       "Monsters, Inc. Collection    3  3.150000e+08  1.306376e+09\n",
       "The Incredibles Collection   1  9.200000e+07  6.314421e+08\n",
       "Toy Story Collection         3  3.200000e+08  1.937891e+09"
      ]
     },
     "execution_count": 46,
     "metadata": {
      "tags": []
     },
     "output_type": "execute_result"
    }
   ],
   "source": [
    "x = movies_metadata[movies_metadata['production_companies_all'].str.contains('Pixar Animation Studios')]\n",
    "x.groupby(['belongs_to_collection'])[['id', 'budget', 'revenue']].agg(\n",
    "    {'id': 'nunique', 'budget':'sum', 'revenue': 'sum'})"
   ]
  },
  {
   "cell_type": "markdown",
   "metadata": {
    "colab_type": "text",
    "id": "zkBquJX8H92R"
   },
   "source": [
    "### Get the maximum budget and maximum revenue in each month between 1990 and 1992 along with the movie count of movies released"
   ]
  },
  {
   "cell_type": "code",
   "execution_count": null,
   "metadata": {
    "colab": {},
    "colab_type": "code",
    "id": "ciXngvC_H92S",
    "outputId": "27490994-0a20-4f0b-dcc1-da8adc20dc8f"
   },
   "outputs": [
    {
     "data": {
      "text/html": [
       "<div>\n",
       "<style scoped>\n",
       "    .dataframe tbody tr th:only-of-type {\n",
       "        vertical-align: middle;\n",
       "    }\n",
       "\n",
       "    .dataframe tbody tr th {\n",
       "        vertical-align: top;\n",
       "    }\n",
       "\n",
       "    .dataframe thead th {\n",
       "        text-align: right;\n",
       "    }\n",
       "</style>\n",
       "<table border=\"1\" class=\"dataframe\">\n",
       "  <thead>\n",
       "    <tr style=\"text-align: right;\">\n",
       "      <th></th>\n",
       "      <th></th>\n",
       "      <th>budget</th>\n",
       "      <th>revenue</th>\n",
       "      <th>id</th>\n",
       "    </tr>\n",
       "    <tr>\n",
       "      <th>release_date_year</th>\n",
       "      <th>release_date_month</th>\n",
       "      <th></th>\n",
       "      <th></th>\n",
       "      <th></th>\n",
       "    </tr>\n",
       "  </thead>\n",
       "  <tbody>\n",
       "    <tr>\n",
       "      <th rowspan=\"12\" valign=\"top\">1990</th>\n",
       "      <th>1</th>\n",
       "      <td>11000000.0</td>\n",
       "      <td>48572000.0</td>\n",
       "      <td>62</td>\n",
       "    </tr>\n",
       "    <tr>\n",
       "      <th>2</th>\n",
       "      <td>23000000.0</td>\n",
       "      <td>47410000.0</td>\n",
       "      <td>39</td>\n",
       "    </tr>\n",
       "    <tr>\n",
       "      <th>3</th>\n",
       "      <td>30000000.0</td>\n",
       "      <td>463000000.0</td>\n",
       "      <td>34</td>\n",
       "    </tr>\n",
       "    <tr>\n",
       "      <th>4</th>\n",
       "      <td>11000000.0</td>\n",
       "      <td>22424195.0</td>\n",
       "      <td>26</td>\n",
       "    </tr>\n",
       "    <tr>\n",
       "      <th>5</th>\n",
       "      <td>40000000.0</td>\n",
       "      <td>244527583.0</td>\n",
       "      <td>33</td>\n",
       "    </tr>\n",
       "    <tr>\n",
       "      <th>6</th>\n",
       "      <td>65000000.0</td>\n",
       "      <td>261317921.0</td>\n",
       "      <td>22</td>\n",
       "    </tr>\n",
       "    <tr>\n",
       "      <th>7</th>\n",
       "      <td>70000000.0</td>\n",
       "      <td>505000000.0</td>\n",
       "      <td>21</td>\n",
       "    </tr>\n",
       "    <tr>\n",
       "      <th>8</th>\n",
       "      <td>31000000.0</td>\n",
       "      <td>61489265.0</td>\n",
       "      <td>38</td>\n",
       "    </tr>\n",
       "    <tr>\n",
       "      <th>9</th>\n",
       "      <td>25000000.0</td>\n",
       "      <td>46836394.0</td>\n",
       "      <td>49</td>\n",
       "    </tr>\n",
       "    <tr>\n",
       "      <th>10</th>\n",
       "      <td>42000000.0</td>\n",
       "      <td>119946358.0</td>\n",
       "      <td>34</td>\n",
       "    </tr>\n",
       "    <tr>\n",
       "      <th>11</th>\n",
       "      <td>37931000.0</td>\n",
       "      <td>476684675.0</td>\n",
       "      <td>34</td>\n",
       "    </tr>\n",
       "    <tr>\n",
       "      <th>12</th>\n",
       "      <td>54000000.0</td>\n",
       "      <td>201957688.0</td>\n",
       "      <td>34</td>\n",
       "    </tr>\n",
       "    <tr>\n",
       "      <th rowspan=\"12\" valign=\"top\">1991</th>\n",
       "      <th>1</th>\n",
       "      <td>35000000.0</td>\n",
       "      <td>34793160.0</td>\n",
       "      <td>60</td>\n",
       "    </tr>\n",
       "    <tr>\n",
       "      <th>2</th>\n",
       "      <td>40000000.0</td>\n",
       "      <td>272742922.0</td>\n",
       "      <td>25</td>\n",
       "    </tr>\n",
       "    <tr>\n",
       "      <th>3</th>\n",
       "      <td>38000000.0</td>\n",
       "      <td>78000000.0</td>\n",
       "      <td>34</td>\n",
       "    </tr>\n",
       "    <tr>\n",
       "      <th>4</th>\n",
       "      <td>35000000.0</td>\n",
       "      <td>39673161.0</td>\n",
       "      <td>21</td>\n",
       "    </tr>\n",
       "    <tr>\n",
       "      <th>5</th>\n",
       "      <td>75000000.0</td>\n",
       "      <td>152368585.0</td>\n",
       "      <td>45</td>\n",
       "    </tr>\n",
       "    <tr>\n",
       "      <th>6</th>\n",
       "      <td>48000000.0</td>\n",
       "      <td>390493908.0</td>\n",
       "      <td>20</td>\n",
       "    </tr>\n",
       "    <tr>\n",
       "      <th>7</th>\n",
       "      <td>100000000.0</td>\n",
       "      <td>520000000.0</td>\n",
       "      <td>30</td>\n",
       "    </tr>\n",
       "    <tr>\n",
       "      <th>8</th>\n",
       "      <td>23000000.0</td>\n",
       "      <td>38016380.0</td>\n",
       "      <td>31</td>\n",
       "    </tr>\n",
       "    <tr>\n",
       "      <th>9</th>\n",
       "      <td>34000000.0</td>\n",
       "      <td>41895491.0</td>\n",
       "      <td>46</td>\n",
       "    </tr>\n",
       "    <tr>\n",
       "      <th>10</th>\n",
       "      <td>28000000.0</td>\n",
       "      <td>22773535.0</td>\n",
       "      <td>41</td>\n",
       "    </tr>\n",
       "    <tr>\n",
       "      <th>11</th>\n",
       "      <td>48000000.0</td>\n",
       "      <td>377350553.0</td>\n",
       "      <td>38</td>\n",
       "    </tr>\n",
       "    <tr>\n",
       "      <th>12</th>\n",
       "      <td>70000000.0</td>\n",
       "      <td>300854823.0</td>\n",
       "      <td>35</td>\n",
       "    </tr>\n",
       "    <tr>\n",
       "      <th rowspan=\"12\" valign=\"top\">1992</th>\n",
       "      <th>1</th>\n",
       "      <td>11700000.0</td>\n",
       "      <td>88036683.0</td>\n",
       "      <td>68</td>\n",
       "    </tr>\n",
       "    <tr>\n",
       "      <th>2</th>\n",
       "      <td>40000000.0</td>\n",
       "      <td>121697323.0</td>\n",
       "      <td>25</td>\n",
       "    </tr>\n",
       "    <tr>\n",
       "      <th>3</th>\n",
       "      <td>49000000.0</td>\n",
       "      <td>352927224.0</td>\n",
       "      <td>33</td>\n",
       "    </tr>\n",
       "    <tr>\n",
       "      <th>4</th>\n",
       "      <td>27000000.0</td>\n",
       "      <td>147214049.0</td>\n",
       "      <td>38</td>\n",
       "    </tr>\n",
       "    <tr>\n",
       "      <th>5</th>\n",
       "      <td>60000000.0</td>\n",
       "      <td>321731527.0</td>\n",
       "      <td>36</td>\n",
       "    </tr>\n",
       "    <tr>\n",
       "      <th>6</th>\n",
       "      <td>80000000.0</td>\n",
       "      <td>280000000.0</td>\n",
       "      <td>18</td>\n",
       "    </tr>\n",
       "    <tr>\n",
       "      <th>7</th>\n",
       "      <td>55000000.0</td>\n",
       "      <td>149022650.0</td>\n",
       "      <td>27</td>\n",
       "    </tr>\n",
       "    <tr>\n",
       "      <th>8</th>\n",
       "      <td>40000000.0</td>\n",
       "      <td>159157447.0</td>\n",
       "      <td>33</td>\n",
       "    </tr>\n",
       "    <tr>\n",
       "      <th>9</th>\n",
       "      <td>43000000.0</td>\n",
       "      <td>105232691.0</td>\n",
       "      <td>66</td>\n",
       "    </tr>\n",
       "    <tr>\n",
       "      <th>10</th>\n",
       "      <td>47000000.0</td>\n",
       "      <td>156563139.0</td>\n",
       "      <td>43</td>\n",
       "    </tr>\n",
       "    <tr>\n",
       "      <th>11</th>\n",
       "      <td>40000000.0</td>\n",
       "      <td>504050219.0</td>\n",
       "      <td>22</td>\n",
       "    </tr>\n",
       "    <tr>\n",
       "      <th>12</th>\n",
       "      <td>40000000.0</td>\n",
       "      <td>243240178.0</td>\n",
       "      <td>44</td>\n",
       "    </tr>\n",
       "  </tbody>\n",
       "</table>\n",
       "</div>"
      ],
      "text/plain": [
       "                                           budget      revenue  id\n",
       "release_date_year release_date_month                              \n",
       "1990              1                    11000000.0   48572000.0  62\n",
       "                  2                    23000000.0   47410000.0  39\n",
       "                  3                    30000000.0  463000000.0  34\n",
       "                  4                    11000000.0   22424195.0  26\n",
       "                  5                    40000000.0  244527583.0  33\n",
       "                  6                    65000000.0  261317921.0  22\n",
       "                  7                    70000000.0  505000000.0  21\n",
       "                  8                    31000000.0   61489265.0  38\n",
       "                  9                    25000000.0   46836394.0  49\n",
       "                  10                   42000000.0  119946358.0  34\n",
       "                  11                   37931000.0  476684675.0  34\n",
       "                  12                   54000000.0  201957688.0  34\n",
       "1991              1                    35000000.0   34793160.0  60\n",
       "                  2                    40000000.0  272742922.0  25\n",
       "                  3                    38000000.0   78000000.0  34\n",
       "                  4                    35000000.0   39673161.0  21\n",
       "                  5                    75000000.0  152368585.0  45\n",
       "                  6                    48000000.0  390493908.0  20\n",
       "                  7                   100000000.0  520000000.0  30\n",
       "                  8                    23000000.0   38016380.0  31\n",
       "                  9                    34000000.0   41895491.0  46\n",
       "                  10                   28000000.0   22773535.0  41\n",
       "                  11                   48000000.0  377350553.0  38\n",
       "                  12                   70000000.0  300854823.0  35\n",
       "1992              1                    11700000.0   88036683.0  68\n",
       "                  2                    40000000.0  121697323.0  25\n",
       "                  3                    49000000.0  352927224.0  33\n",
       "                  4                    27000000.0  147214049.0  38\n",
       "                  5                    60000000.0  321731527.0  36\n",
       "                  6                    80000000.0  280000000.0  18\n",
       "                  7                    55000000.0  149022650.0  27\n",
       "                  8                    40000000.0  159157447.0  33\n",
       "                  9                    43000000.0  105232691.0  66\n",
       "                  10                   47000000.0  156563139.0  43\n",
       "                  11                   40000000.0  504050219.0  22\n",
       "                  12                   40000000.0  243240178.0  44"
      ]
     },
     "execution_count": 47,
     "metadata": {
      "tags": []
     },
     "output_type": "execute_result"
    }
   ],
   "source": [
    "x = movies_metadata[(movies_metadata['release_date_year'] >= 1990) & (movies_metadata['release_date_year'] <= 1992)]\n",
    "x.groupby(['release_date_year', 'release_date_month']).agg({'budget': 'max', 'revenue': 'max', 'id':'nunique'})"
   ]
  },
  {
   "cell_type": "markdown",
   "metadata": {
    "colab_type": "text",
    "id": "NewF1jsrH92W"
   },
   "source": [
    "Get the top 3 movies by revenue in each year starting from 2000"
   ]
  },
  {
   "cell_type": "markdown",
   "metadata": {
    "colab_type": "text",
    "id": "mpVo9LzpH92W"
   },
   "source": [
    "###  Get the avergae revenue generated by Paramount Pictures as a major producer in each year starting from 2005"
   ]
  },
  {
   "cell_type": "code",
   "execution_count": null,
   "metadata": {
    "colab": {},
    "colab_type": "code",
    "id": "rJdP9FjFH92Y",
    "outputId": "ca949b97-e72b-47c9-c9c9-dfcd01cb2be2"
   },
   "outputs": [
    {
     "data": {
      "text/plain": [
       "release_date_year\n",
       "2005    1.116600e+08\n",
       "2006    1.138680e+08\n",
       "2007    1.611102e+08\n",
       "2008    1.312311e+08\n",
       "2009    1.905850e+08\n",
       "2010    1.917189e+08\n",
       "2011    3.214956e+08\n",
       "2012    2.588801e+08\n",
       "2013    2.999458e+08\n",
       "2014    3.294865e+08\n",
       "2015    1.948181e+08\n",
       "2016    1.151716e+08\n",
       "2017    2.303049e+08\n",
       "Name: revenue, dtype: float64"
      ]
     },
     "execution_count": 48,
     "metadata": {
      "tags": []
     },
     "output_type": "execute_result"
    }
   ],
   "source": [
    "movies_metadata[(movies_metadata['production_companies_major'] == \"Paramount Pictures\") &\n",
    "               (movies_metadata['release_date_year'] >= 2005)].groupby('release_date_year')['revenue'].mean()"
   ]
  },
  {
   "cell_type": "markdown",
   "metadata": {
    "colab_type": "text",
    "id": "gchd6hq4H92b"
   },
   "source": [
    "### How many movies has Keanu Reeves, Ryan Renolds and Seth Rogen been the lead actor in ?\n",
    "Use the credits dataset"
   ]
  },
  {
   "cell_type": "code",
   "execution_count": null,
   "metadata": {
    "colab": {},
    "colab_type": "code",
    "id": "B0nUp_pfH92b",
    "outputId": "18a14749-6861-4f62-8194-2afbfb6222fd"
   },
   "outputs": [
    {
     "data": {
      "text/plain": [
       "lead_cast\n",
       "Keanu Reeves     34\n",
       "Ryan Reynolds    16\n",
       "Seth Rogen       12\n",
       "Name: id, dtype: int64"
      ]
     },
     "execution_count": 49,
     "metadata": {
      "tags": []
     },
     "output_type": "execute_result"
    }
   ],
   "source": [
    "credits[(credits['lead_cast'] == \"Keanu Reeves\") | (credits['lead_cast'] == \"Ryan Reynolds\") | \n",
    "(credits['lead_cast'] == \"Seth Rogen\")].groupby('lead_cast')['id'].nunique()"
   ]
  },
  {
   "cell_type": "markdown",
   "metadata": {
    "colab_type": "text",
    "id": "FCElP11oH92e"
   },
   "source": [
    "### Get the count of movies \"Sandra Bullock\", \"Kate Beckinsale\" and \"Bette Davis\" have acted as the lead in and sort them in decreasing number of movies\n",
    "Use the credits dataset"
   ]
  },
  {
   "cell_type": "code",
   "execution_count": null,
   "metadata": {
    "colab": {},
    "colab_type": "code",
    "id": "0lGnZJQ9H92f",
    "outputId": "88803082-83a0-4704-d749-675fa6c24c22"
   },
   "outputs": [
    {
     "data": {
      "text/plain": [
       "lead_cast\n",
       "Bette Davis        45\n",
       "Sandra Bullock     25\n",
       "Kate Beckinsale    18\n",
       "Name: id, dtype: int64"
      ]
     },
     "execution_count": 50,
     "metadata": {
      "tags": []
     },
     "output_type": "execute_result"
    }
   ],
   "source": [
    "credits[(credits['lead_cast'] == \"Sandra Bullock\") | (credits['lead_cast'] == \"Kate Beckinsale\") | \n",
    "(credits['lead_cast'] == \"Bette Davis\")].groupby('lead_cast')['id'].nunique().sort_values(ascending=False)"
   ]
  },
  {
   "cell_type": "markdown",
   "metadata": {
    "colab_type": "text",
    "id": "YN3JLYWLH92h"
   },
   "source": [
    "### Get the top 10 actors with the highest count of lead acting roles \n",
    "Use the credits dataset and ignore empty string"
   ]
  },
  {
   "cell_type": "code",
   "execution_count": null,
   "metadata": {
    "colab": {},
    "colab_type": "code",
    "id": "NpksJ6DTH92i",
    "outputId": "29563ea1-65a6-49bd-c426-a531a0abf99c"
   },
   "outputs": [
    {
     "data": {
      "text/plain": [
       "lead_cast\n",
       "John Wayne          92\n",
       "Jackie Chan         71\n",
       "Nicolas Cage        55\n",
       "Robert De Niro      53\n",
       "Michael Caine       50\n",
       "Gérard Depardieu    50\n",
       "Burt Lancaster      47\n",
       "Barbara Stanwyck    45\n",
       "Bette Davis         45\n",
       "Paul Newman         45\n",
       "Name: id, dtype: int64"
      ]
     },
     "execution_count": 51,
     "metadata": {
      "tags": []
     },
     "output_type": "execute_result"
    }
   ],
   "source": [
    "credits.groupby('lead_cast')['id'].nunique().sort_values(ascending=False)[1:11]"
   ]
  },
  {
   "cell_type": "markdown",
   "metadata": {
    "colab_type": "text",
    "id": "wPGUlpcvH92k"
   },
   "source": [
    "### Get the top 10 user ids who has rated the highest number of movies\n",
    "Use ratings dataset"
   ]
  },
  {
   "cell_type": "code",
   "execution_count": null,
   "metadata": {
    "colab": {},
    "colab_type": "code",
    "id": "EIecdCp4H92l",
    "outputId": "a2604366-d289-431d-f45a-f2fcc7db427f"
   },
   "outputs": [
    {
     "data": {
      "text/plain": [
       "userId\n",
       "45811     18276\n",
       "8659       9279\n",
       "270123     7638\n",
       "179792     7515\n",
       "228291     7410\n",
       "243443     6320\n",
       "98415      6094\n",
       "229879     6024\n",
       "98787      5814\n",
       "172224     5701\n",
       "Name: movieId, dtype: int64"
      ]
     },
     "execution_count": 52,
     "metadata": {
      "tags": []
     },
     "output_type": "execute_result"
    }
   ],
   "source": [
    "ratings.groupby('userId')['movieId'].nunique().sort_values(ascending=False)[0:10]"
   ]
  },
  {
   "cell_type": "markdown",
   "metadata": {
    "colab_type": "text",
    "id": "305O6suIH92n"
   },
   "source": [
    "### Get the top 3 movies (original_title and revenue) by revenue in each year between 2000 and 2003 (Optional)\n",
    "**Hint: Use apply, lambda, sorting and Groupby twice**"
   ]
  },
  {
   "cell_type": "code",
   "execution_count": null,
   "metadata": {
    "colab": {},
    "colab_type": "code",
    "id": "RDJpgDr2H92n",
    "outputId": "e51ab63a-eaf3-4620-ac7c-159c05b8a79a"
   },
   "outputs": [
    {
     "data": {
      "text/html": [
       "<div>\n",
       "<style scoped>\n",
       "    .dataframe tbody tr th:only-of-type {\n",
       "        vertical-align: middle;\n",
       "    }\n",
       "\n",
       "    .dataframe tbody tr th {\n",
       "        vertical-align: top;\n",
       "    }\n",
       "\n",
       "    .dataframe thead th {\n",
       "        text-align: right;\n",
       "    }\n",
       "</style>\n",
       "<table border=\"1\" class=\"dataframe\">\n",
       "  <thead>\n",
       "    <tr style=\"text-align: right;\">\n",
       "      <th></th>\n",
       "      <th></th>\n",
       "      <th>original_title</th>\n",
       "      <th>revenue</th>\n",
       "    </tr>\n",
       "    <tr>\n",
       "      <th>release_date_year</th>\n",
       "      <th></th>\n",
       "      <th></th>\n",
       "      <th></th>\n",
       "    </tr>\n",
       "  </thead>\n",
       "  <tbody>\n",
       "    <tr>\n",
       "      <th rowspan=\"3\" valign=\"top\">2000</th>\n",
       "      <th>3501</th>\n",
       "      <td>Mission: Impossible II</td>\n",
       "      <td>5.463881e+08</td>\n",
       "    </tr>\n",
       "    <tr>\n",
       "      <th>3456</th>\n",
       "      <td>Gladiator</td>\n",
       "      <td>4.576404e+08</td>\n",
       "    </tr>\n",
       "    <tr>\n",
       "      <th>3897</th>\n",
       "      <td>Cast Away</td>\n",
       "      <td>4.296321e+08</td>\n",
       "    </tr>\n",
       "    <tr>\n",
       "      <th rowspan=\"3\" valign=\"top\">2001</th>\n",
       "      <th>4766</th>\n",
       "      <td>Harry Potter and the Philosopher's Stone</td>\n",
       "      <td>9.764756e+08</td>\n",
       "    </tr>\n",
       "    <tr>\n",
       "      <th>4863</th>\n",
       "      <td>The Lord of the Rings: The Fellowship of the Ring</td>\n",
       "      <td>8.713684e+08</td>\n",
       "    </tr>\n",
       "    <tr>\n",
       "      <th>4756</th>\n",
       "      <td>Monsters, Inc.</td>\n",
       "      <td>5.628163e+08</td>\n",
       "    </tr>\n",
       "    <tr>\n",
       "      <th rowspan=\"3\" valign=\"top\">2002</th>\n",
       "      <th>5814</th>\n",
       "      <td>The Lord of the Rings: The Two Towers</td>\n",
       "      <td>9.262874e+08</td>\n",
       "    </tr>\n",
       "    <tr>\n",
       "      <th>5678</th>\n",
       "      <td>Harry Potter and the Chamber of Secrets</td>\n",
       "      <td>8.766885e+08</td>\n",
       "    </tr>\n",
       "    <tr>\n",
       "      <th>5215</th>\n",
       "      <td>Spider-Man</td>\n",
       "      <td>8.217086e+08</td>\n",
       "    </tr>\n",
       "    <tr>\n",
       "      <th rowspan=\"3\" valign=\"top\">2003</th>\n",
       "      <th>7000</th>\n",
       "      <td>The Lord of the Rings: The Return of the King</td>\n",
       "      <td>1.118889e+09</td>\n",
       "    </tr>\n",
       "    <tr>\n",
       "      <th>6232</th>\n",
       "      <td>Finding Nemo</td>\n",
       "      <td>9.403355e+08</td>\n",
       "    </tr>\n",
       "    <tr>\n",
       "      <th>6221</th>\n",
       "      <td>The Matrix Reloaded</td>\n",
       "      <td>7.385997e+08</td>\n",
       "    </tr>\n",
       "  </tbody>\n",
       "</table>\n",
       "</div>"
      ],
      "text/plain": [
       "                                                           original_title  \\\n",
       "release_date_year                                                           \n",
       "2000              3501                             Mission: Impossible II   \n",
       "                  3456                                          Gladiator   \n",
       "                  3897                                          Cast Away   \n",
       "2001              4766           Harry Potter and the Philosopher's Stone   \n",
       "                  4863  The Lord of the Rings: The Fellowship of the Ring   \n",
       "                  4756                                     Monsters, Inc.   \n",
       "2002              5814              The Lord of the Rings: The Two Towers   \n",
       "                  5678            Harry Potter and the Chamber of Secrets   \n",
       "                  5215                                         Spider-Man   \n",
       "2003              7000      The Lord of the Rings: The Return of the King   \n",
       "                  6232                                       Finding Nemo   \n",
       "                  6221                                The Matrix Reloaded   \n",
       "\n",
       "                             revenue  \n",
       "release_date_year                     \n",
       "2000              3501  5.463881e+08  \n",
       "                  3456  4.576404e+08  \n",
       "                  3897  4.296321e+08  \n",
       "2001              4766  9.764756e+08  \n",
       "                  4863  8.713684e+08  \n",
       "                  4756  5.628163e+08  \n",
       "2002              5814  9.262874e+08  \n",
       "                  5678  8.766885e+08  \n",
       "                  5215  8.217086e+08  \n",
       "2003              7000  1.118889e+09  \n",
       "                  6232  9.403355e+08  \n",
       "                  6221  7.385997e+08  "
      ]
     },
     "execution_count": 53,
     "metadata": {
      "tags": []
     },
     "output_type": "execute_result"
    }
   ],
   "source": [
    "x = movies_metadata[(movies_metadata['release_date_year'] >= 2000) & \n",
    "                (movies_metadata['release_date_year'] <= 2003)].groupby('release_date_year')\n",
    "\n",
    "x2 = x.apply(lambda x: x.sort_values('revenue', ascending=False))\n",
    "x2.groupby('release_date_year').head(3)[['original_title', 'revenue']]"
   ]
  },
  {
   "cell_type": "markdown",
   "metadata": {
    "colab_type": "text",
    "id": "UNB1b_q2H92p"
   },
   "source": [
    "### Get the most popular hindi ('hi') movie each year starting from 2005 (Optional)\n",
    "**Show release_date_year, title & popularity score; Hint: Get the ids and subset out from original dataframe**"
   ]
  },
  {
   "cell_type": "code",
   "execution_count": null,
   "metadata": {
    "colab": {},
    "colab_type": "code",
    "id": "n7R1fpjIH92q",
    "outputId": "efe4088b-f781-4d6b-da3a-2d455c463f13"
   },
   "outputs": [
    {
     "data": {
      "text/html": [
       "<div>\n",
       "<style scoped>\n",
       "    .dataframe tbody tr th:only-of-type {\n",
       "        vertical-align: middle;\n",
       "    }\n",
       "\n",
       "    .dataframe tbody tr th {\n",
       "        vertical-align: top;\n",
       "    }\n",
       "\n",
       "    .dataframe thead th {\n",
       "        text-align: right;\n",
       "    }\n",
       "</style>\n",
       "<table border=\"1\" class=\"dataframe\">\n",
       "  <thead>\n",
       "    <tr style=\"text-align: right;\">\n",
       "      <th></th>\n",
       "      <th>release_date_year</th>\n",
       "      <th>title</th>\n",
       "      <th>popularity</th>\n",
       "    </tr>\n",
       "  </thead>\n",
       "  <tbody>\n",
       "    <tr>\n",
       "      <th>10300</th>\n",
       "      <td>2005</td>\n",
       "      <td>Black</td>\n",
       "      <td>2.854219</td>\n",
       "    </tr>\n",
       "    <tr>\n",
       "      <th>20688</th>\n",
       "      <td>2006</td>\n",
       "      <td>Don : The Chase Begins Again</td>\n",
       "      <td>7.633636</td>\n",
       "    </tr>\n",
       "    <tr>\n",
       "      <th>12314</th>\n",
       "      <td>2007</td>\n",
       "      <td>Taare Zameen Par</td>\n",
       "      <td>6.093304</td>\n",
       "    </tr>\n",
       "    <tr>\n",
       "      <th>12418</th>\n",
       "      <td>2008</td>\n",
       "      <td>Jodhaa Akbar</td>\n",
       "      <td>12.237488</td>\n",
       "    </tr>\n",
       "    <tr>\n",
       "      <th>14732</th>\n",
       "      <td>2009</td>\n",
       "      <td>3 Idiots</td>\n",
       "      <td>7.675621</td>\n",
       "    </tr>\n",
       "    <tr>\n",
       "      <th>14891</th>\n",
       "      <td>2010</td>\n",
       "      <td>My Name Is Khan</td>\n",
       "      <td>11.264586</td>\n",
       "    </tr>\n",
       "    <tr>\n",
       "      <th>17771</th>\n",
       "      <td>2011</td>\n",
       "      <td>Zindagi Na Milegi Dobara</td>\n",
       "      <td>8.475505</td>\n",
       "    </tr>\n",
       "    <tr>\n",
       "      <th>19637</th>\n",
       "      <td>2012</td>\n",
       "      <td>Gangs of Wasseypur</td>\n",
       "      <td>9.777219</td>\n",
       "    </tr>\n",
       "    <tr>\n",
       "      <th>22080</th>\n",
       "      <td>2013</td>\n",
       "      <td>Krrish 3</td>\n",
       "      <td>11.114030</td>\n",
       "    </tr>\n",
       "    <tr>\n",
       "      <th>25721</th>\n",
       "      <td>2014</td>\n",
       "      <td>PK</td>\n",
       "      <td>12.587520</td>\n",
       "    </tr>\n",
       "    <tr>\n",
       "      <th>31796</th>\n",
       "      <td>2015</td>\n",
       "      <td>Bajrangi Bhaijaan</td>\n",
       "      <td>6.312240</td>\n",
       "    </tr>\n",
       "    <tr>\n",
       "      <th>41820</th>\n",
       "      <td>2016</td>\n",
       "      <td>Dangal</td>\n",
       "      <td>8.792104</td>\n",
       "    </tr>\n",
       "    <tr>\n",
       "      <th>42862</th>\n",
       "      <td>2017</td>\n",
       "      <td>Kaabil</td>\n",
       "      <td>7.404544</td>\n",
       "    </tr>\n",
       "  </tbody>\n",
       "</table>\n",
       "</div>"
      ],
      "text/plain": [
       "       release_date_year                         title  popularity\n",
       "10300               2005                         Black    2.854219\n",
       "20688               2006  Don : The Chase Begins Again    7.633636\n",
       "12314               2007              Taare Zameen Par    6.093304\n",
       "12418               2008                  Jodhaa Akbar   12.237488\n",
       "14732               2009                      3 Idiots    7.675621\n",
       "14891               2010               My Name Is Khan   11.264586\n",
       "17771               2011      Zindagi Na Milegi Dobara    8.475505\n",
       "19637               2012            Gangs of Wasseypur    9.777219\n",
       "22080               2013                      Krrish 3   11.114030\n",
       "25721               2014                            PK   12.587520\n",
       "31796               2015             Bajrangi Bhaijaan    6.312240\n",
       "41820               2016                        Dangal    8.792104\n",
       "42862               2017                        Kaabil    7.404544"
      ]
     },
     "execution_count": 54,
     "metadata": {
      "tags": []
     },
     "output_type": "execute_result"
    }
   ],
   "source": [
    "ids = movies_metadata[(movies_metadata['original_language']==\"hi\") &\n",
    "                (movies_metadata['release_date_year'] >= 2005)].groupby('release_date_year')['popularity'].idxmax().values\n",
    "movies_metadata.iloc[ids][['release_date_year', 'title', 'popularity']]"
   ]
  },
  {
   "cell_type": "markdown",
   "metadata": {
    "colab_type": "text",
    "id": "qZy-tZIPH92s"
   },
   "source": [
    "   "
   ]
  },
  {
   "cell_type": "markdown",
   "metadata": {
    "colab_type": "text",
    "id": "E36t8mfvH92s"
   },
   "source": [
    "    "
   ]
  },
  {
   "cell_type": "markdown",
   "metadata": {
    "colab_type": "text",
    "id": "GElBmiokH92t"
   },
   "source": [
    "# Joining\n",
    "\n",
    "<a href=\"https://pandas.pydata.org/pandas-docs/stable/user_guide/merging.html\"> Pandas Merging/Joining</a>"
   ]
  },
  {
   "cell_type": "markdown",
   "metadata": {
    "colab_type": "text",
    "id": "80LLK_eIH92t"
   },
   "source": [
    "### Join the \"movies_metadata\" dataset with the credits dataset and get only the \"lead_cast_cleaned\" column from the \"credits\" dataset. Show the first 3 rows of the result. What kind of a join will you perform and why?\n",
    "<a href=\"https://stackoverflow.com/questions/6294778/mysql-quick-breakdown-of-the-types-of-joins/6294854#6294854\"> Quick Look On the Different Types of Joins</a>"
   ]
  },
  {
   "cell_type": "code",
   "execution_count": null,
   "metadata": {
    "colab": {},
    "colab_type": "code",
    "id": "m39P31toH92u",
    "outputId": "64d2b674-437d-49f4-dc6a-19c055371181"
   },
   "outputs": [
    {
     "data": {
      "text/html": [
       "<div>\n",
       "<style scoped>\n",
       "    .dataframe tbody tr th:only-of-type {\n",
       "        vertical-align: middle;\n",
       "    }\n",
       "\n",
       "    .dataframe tbody tr th {\n",
       "        vertical-align: top;\n",
       "    }\n",
       "\n",
       "    .dataframe thead th {\n",
       "        text-align: right;\n",
       "    }\n",
       "</style>\n",
       "<table border=\"1\" class=\"dataframe\">\n",
       "  <thead>\n",
       "    <tr style=\"text-align: right;\">\n",
       "      <th></th>\n",
       "      <th>id</th>\n",
       "      <th>imdb_id</th>\n",
       "      <th>adult</th>\n",
       "      <th>budget</th>\n",
       "      <th>original_language</th>\n",
       "      <th>original_title</th>\n",
       "      <th>overview</th>\n",
       "      <th>popularity</th>\n",
       "      <th>release_date</th>\n",
       "      <th>revenue</th>\n",
       "      <th>runtime</th>\n",
       "      <th>status</th>\n",
       "      <th>tagline</th>\n",
       "      <th>title</th>\n",
       "      <th>vote_average</th>\n",
       "      <th>vote_count</th>\n",
       "      <th>genres_all</th>\n",
       "      <th>genres_major</th>\n",
       "      <th>production_companies_major</th>\n",
       "      <th>production_companies_all</th>\n",
       "      <th>production_countries_major</th>\n",
       "      <th>production_countries_all</th>\n",
       "      <th>spoken_languages_major</th>\n",
       "      <th>spoken_languages_all</th>\n",
       "      <th>belongs_to_collection</th>\n",
       "      <th>release_date_dt</th>\n",
       "      <th>release_date_year</th>\n",
       "      <th>release_date_month</th>\n",
       "      <th>lead_cast</th>\n",
       "    </tr>\n",
       "  </thead>\n",
       "  <tbody>\n",
       "    <tr>\n",
       "      <th>0</th>\n",
       "      <td>862</td>\n",
       "      <td>tt0114709</td>\n",
       "      <td>False</td>\n",
       "      <td>30000000.0</td>\n",
       "      <td>en</td>\n",
       "      <td>Toy Story</td>\n",
       "      <td>Led by Woody, Andy's toys live happily in his ...</td>\n",
       "      <td>21.946943</td>\n",
       "      <td>1995-10-30</td>\n",
       "      <td>373554033.0</td>\n",
       "      <td>81.0</td>\n",
       "      <td>Released</td>\n",
       "      <td></td>\n",
       "      <td>Toy Story</td>\n",
       "      <td>7.7</td>\n",
       "      <td>5415.0</td>\n",
       "      <td>Animation; Comedy; Family</td>\n",
       "      <td>Animation</td>\n",
       "      <td>Pixar Animation Studios</td>\n",
       "      <td>Pixar Animation Studios</td>\n",
       "      <td>United States of America</td>\n",
       "      <td>United States of America</td>\n",
       "      <td>English</td>\n",
       "      <td>English</td>\n",
       "      <td>Toy Story Collection</td>\n",
       "      <td>1995-10-30</td>\n",
       "      <td>1995</td>\n",
       "      <td>10</td>\n",
       "      <td>Tom Hanks</td>\n",
       "    </tr>\n",
       "    <tr>\n",
       "      <th>1</th>\n",
       "      <td>8844</td>\n",
       "      <td>tt0113497</td>\n",
       "      <td>False</td>\n",
       "      <td>65000000.0</td>\n",
       "      <td>en</td>\n",
       "      <td>Jumanji</td>\n",
       "      <td>When siblings Judy and Peter discover an encha...</td>\n",
       "      <td>17.015539</td>\n",
       "      <td>1995-12-15</td>\n",
       "      <td>262797249.0</td>\n",
       "      <td>104.0</td>\n",
       "      <td>Released</td>\n",
       "      <td>Roll the dice and unleash the excitement!</td>\n",
       "      <td>Jumanji</td>\n",
       "      <td>6.9</td>\n",
       "      <td>2413.0</td>\n",
       "      <td>Adventure; Fantasy; Family</td>\n",
       "      <td>Adventure</td>\n",
       "      <td>TriStar Pictures</td>\n",
       "      <td>TriStar Pictures; Teitler Film; Interscope Com...</td>\n",
       "      <td>United States of America</td>\n",
       "      <td>United States of America</td>\n",
       "      <td>English</td>\n",
       "      <td>English; Français</td>\n",
       "      <td></td>\n",
       "      <td>1995-12-15</td>\n",
       "      <td>1995</td>\n",
       "      <td>12</td>\n",
       "      <td>Robin Williams</td>\n",
       "    </tr>\n",
       "    <tr>\n",
       "      <th>2</th>\n",
       "      <td>15602</td>\n",
       "      <td>tt0113228</td>\n",
       "      <td>False</td>\n",
       "      <td>0.0</td>\n",
       "      <td>en</td>\n",
       "      <td>Grumpier Old Men</td>\n",
       "      <td>A family wedding reignites the ancient feud be...</td>\n",
       "      <td>11.712900</td>\n",
       "      <td>1995-12-22</td>\n",
       "      <td>0.0</td>\n",
       "      <td>101.0</td>\n",
       "      <td>Released</td>\n",
       "      <td>Still Yelling. Still Fighting. Still Ready for...</td>\n",
       "      <td>Grumpier Old Men</td>\n",
       "      <td>6.5</td>\n",
       "      <td>92.0</td>\n",
       "      <td>Romance; Comedy</td>\n",
       "      <td>Romance</td>\n",
       "      <td>Warner Bros.</td>\n",
       "      <td>Warner Bros.; Lancaster Gate</td>\n",
       "      <td>United States of America</td>\n",
       "      <td>United States of America</td>\n",
       "      <td>English</td>\n",
       "      <td>English</td>\n",
       "      <td>Grumpy Old Men Collection</td>\n",
       "      <td>1995-12-22</td>\n",
       "      <td>1995</td>\n",
       "      <td>12</td>\n",
       "      <td>Walter Matthau</td>\n",
       "    </tr>\n",
       "  </tbody>\n",
       "</table>\n",
       "</div>"
      ],
      "text/plain": [
       "      id    imdb_id  adult      budget original_language    original_title  \\\n",
       "0    862  tt0114709  False  30000000.0                en         Toy Story   \n",
       "1   8844  tt0113497  False  65000000.0                en           Jumanji   \n",
       "2  15602  tt0113228  False         0.0                en  Grumpier Old Men   \n",
       "\n",
       "                                            overview  popularity release_date  \\\n",
       "0  Led by Woody, Andy's toys live happily in his ...   21.946943   1995-10-30   \n",
       "1  When siblings Judy and Peter discover an encha...   17.015539   1995-12-15   \n",
       "2  A family wedding reignites the ancient feud be...   11.712900   1995-12-22   \n",
       "\n",
       "       revenue  runtime    status  \\\n",
       "0  373554033.0     81.0  Released   \n",
       "1  262797249.0    104.0  Released   \n",
       "2          0.0    101.0  Released   \n",
       "\n",
       "                                             tagline             title  \\\n",
       "0                                                            Toy Story   \n",
       "1          Roll the dice and unleash the excitement!           Jumanji   \n",
       "2  Still Yelling. Still Fighting. Still Ready for...  Grumpier Old Men   \n",
       "\n",
       "   vote_average  vote_count                  genres_all genres_major  \\\n",
       "0           7.7      5415.0   Animation; Comedy; Family    Animation   \n",
       "1           6.9      2413.0  Adventure; Fantasy; Family    Adventure   \n",
       "2           6.5        92.0             Romance; Comedy      Romance   \n",
       "\n",
       "  production_companies_major  \\\n",
       "0    Pixar Animation Studios   \n",
       "1           TriStar Pictures   \n",
       "2               Warner Bros.   \n",
       "\n",
       "                            production_companies_all  \\\n",
       "0                            Pixar Animation Studios   \n",
       "1  TriStar Pictures; Teitler Film; Interscope Com...   \n",
       "2                       Warner Bros.; Lancaster Gate   \n",
       "\n",
       "  production_countries_major  production_countries_all spoken_languages_major  \\\n",
       "0   United States of America  United States of America                English   \n",
       "1   United States of America  United States of America                English   \n",
       "2   United States of America  United States of America                English   \n",
       "\n",
       "  spoken_languages_all      belongs_to_collection release_date_dt  \\\n",
       "0              English       Toy Story Collection      1995-10-30   \n",
       "1    English; Français                                 1995-12-15   \n",
       "2              English  Grumpy Old Men Collection      1995-12-22   \n",
       "\n",
       "   release_date_year  release_date_month       lead_cast  \n",
       "0               1995                  10       Tom Hanks  \n",
       "1               1995                  12  Robin Williams  \n",
       "2               1995                  12  Walter Matthau  "
      ]
     },
     "execution_count": 55,
     "metadata": {
      "tags": []
     },
     "output_type": "execute_result"
    }
   ],
   "source": [
    "movies_metadata_credits = pd.merge(movies_metadata, credits, on='id', how=\"left\")\n",
    "movies_metadata_credits.head(3)"
   ]
  },
  {
   "cell_type": "markdown",
   "metadata": {
    "colab_type": "text",
    "id": "RGp5WhZrH92w"
   },
   "source": [
    "### What are the number of rows in the resultant dataframe and the number of rows in the left dataframe? What problems will we face if we join the two dataframes directly without any prior treatment?"
   ]
  },
  {
   "cell_type": "markdown",
   "metadata": {
    "colab_type": "raw",
    "id": "laJ8hLPvH92w"
   },
   "source": [
    "Credits table contains duplicate entries for a few ids which will lead to duplicates in the new resultant dataframe. 43 Duplicates need to be removed"
   ]
  },
  {
   "cell_type": "code",
   "execution_count": null,
   "metadata": {
    "colab": {},
    "colab_type": "code",
    "id": "NIToZ0QdH92y",
    "outputId": "e9521d04-1655-4529-e155-80e30cf84ff1"
   },
   "outputs": [
    {
     "data": {
      "text/plain": [
       "43"
      ]
     },
     "execution_count": 56,
     "metadata": {
      "tags": []
     },
     "output_type": "execute_result"
    }
   ],
   "source": [
    "(credits['id'].value_counts() > 1).sum()"
   ]
  },
  {
   "cell_type": "code",
   "execution_count": null,
   "metadata": {
    "colab": {},
    "colab_type": "code",
    "id": "HvUZ7oEWH920",
    "outputId": "957cd603-5541-435f-c609-c1b540b850f0"
   },
   "outputs": [
    {
     "data": {
      "text/html": [
       "<div>\n",
       "<style scoped>\n",
       "    .dataframe tbody tr th:only-of-type {\n",
       "        vertical-align: middle;\n",
       "    }\n",
       "\n",
       "    .dataframe tbody tr th {\n",
       "        vertical-align: top;\n",
       "    }\n",
       "\n",
       "    .dataframe thead th {\n",
       "        text-align: right;\n",
       "    }\n",
       "</style>\n",
       "<table border=\"1\" class=\"dataframe\">\n",
       "  <thead>\n",
       "    <tr style=\"text-align: right;\">\n",
       "      <th></th>\n",
       "      <th>id</th>\n",
       "      <th>lead_cast</th>\n",
       "    </tr>\n",
       "  </thead>\n",
       "  <tbody>\n",
       "    <tr>\n",
       "      <th>13261</th>\n",
       "      <td>141971</td>\n",
       "      <td>Petteri Summanen</td>\n",
       "    </tr>\n",
       "    <tr>\n",
       "      <th>13375</th>\n",
       "      <td>141971</td>\n",
       "      <td>Petteri Summanen</td>\n",
       "    </tr>\n",
       "    <tr>\n",
       "      <th>16764</th>\n",
       "      <td>141971</td>\n",
       "      <td>Petteri Summanen</td>\n",
       "    </tr>\n",
       "  </tbody>\n",
       "</table>\n",
       "</div>"
      ],
      "text/plain": [
       "           id         lead_cast\n",
       "13261  141971  Petteri Summanen\n",
       "13375  141971  Petteri Summanen\n",
       "16764  141971  Petteri Summanen"
      ]
     },
     "execution_count": 57,
     "metadata": {
      "tags": []
     },
     "output_type": "execute_result"
    }
   ],
   "source": [
    "credits[credits['id'] == 141971] # example"
   ]
  },
  {
   "cell_type": "markdown",
   "metadata": {
    "colab_type": "text",
    "id": "VNpoNAjxH923"
   },
   "source": [
    "### Join credits and movies_metadata again after the treatment."
   ]
  },
  {
   "cell_type": "code",
   "execution_count": null,
   "metadata": {
    "colab": {},
    "colab_type": "code",
    "id": "lxlk2fkXH923",
    "outputId": "e80bcec3-bb58-4220-9324-45748eda9f25"
   },
   "outputs": [
    {
     "data": {
      "text/html": [
       "<div>\n",
       "<style scoped>\n",
       "    .dataframe tbody tr th:only-of-type {\n",
       "        vertical-align: middle;\n",
       "    }\n",
       "\n",
       "    .dataframe tbody tr th {\n",
       "        vertical-align: top;\n",
       "    }\n",
       "\n",
       "    .dataframe thead th {\n",
       "        text-align: right;\n",
       "    }\n",
       "</style>\n",
       "<table border=\"1\" class=\"dataframe\">\n",
       "  <thead>\n",
       "    <tr style=\"text-align: right;\">\n",
       "      <th></th>\n",
       "      <th>id</th>\n",
       "      <th>lead_cast</th>\n",
       "    </tr>\n",
       "  </thead>\n",
       "  <tbody>\n",
       "    <tr>\n",
       "      <th>33178</th>\n",
       "      <td>141971</td>\n",
       "      <td>Petteri Summanen</td>\n",
       "    </tr>\n",
       "  </tbody>\n",
       "</table>\n",
       "</div>"
      ],
      "text/plain": [
       "           id         lead_cast\n",
       "33178  141971  Petteri Summanen"
      ]
     },
     "execution_count": 58,
     "metadata": {
      "tags": []
     },
     "output_type": "execute_result"
    }
   ],
   "source": [
    "credits_treated = credits.groupby('id')['lead_cast'].first().reset_index()\n",
    "credits_treated[credits_treated['id'] == 141971] #example"
   ]
  },
  {
   "cell_type": "code",
   "execution_count": null,
   "metadata": {
    "colab": {},
    "colab_type": "code",
    "id": "P8kW0pQ9H925",
    "outputId": "b61449f3-5375-4f41-e4da-fe6227c12dd2"
   },
   "outputs": [
    {
     "data": {
      "text/html": [
       "<div>\n",
       "<style scoped>\n",
       "    .dataframe tbody tr th:only-of-type {\n",
       "        vertical-align: middle;\n",
       "    }\n",
       "\n",
       "    .dataframe tbody tr th {\n",
       "        vertical-align: top;\n",
       "    }\n",
       "\n",
       "    .dataframe thead th {\n",
       "        text-align: right;\n",
       "    }\n",
       "</style>\n",
       "<table border=\"1\" class=\"dataframe\">\n",
       "  <thead>\n",
       "    <tr style=\"text-align: right;\">\n",
       "      <th></th>\n",
       "      <th>id</th>\n",
       "      <th>imdb_id</th>\n",
       "      <th>adult</th>\n",
       "      <th>budget</th>\n",
       "      <th>original_language</th>\n",
       "      <th>original_title</th>\n",
       "      <th>overview</th>\n",
       "      <th>popularity</th>\n",
       "      <th>release_date</th>\n",
       "      <th>revenue</th>\n",
       "      <th>runtime</th>\n",
       "      <th>status</th>\n",
       "      <th>tagline</th>\n",
       "      <th>title</th>\n",
       "      <th>vote_average</th>\n",
       "      <th>vote_count</th>\n",
       "      <th>genres_all</th>\n",
       "      <th>genres_major</th>\n",
       "      <th>production_companies_major</th>\n",
       "      <th>production_companies_all</th>\n",
       "      <th>production_countries_major</th>\n",
       "      <th>production_countries_all</th>\n",
       "      <th>spoken_languages_major</th>\n",
       "      <th>spoken_languages_all</th>\n",
       "      <th>belongs_to_collection</th>\n",
       "      <th>release_date_dt</th>\n",
       "      <th>release_date_year</th>\n",
       "      <th>release_date_month</th>\n",
       "      <th>lead_cast</th>\n",
       "    </tr>\n",
       "  </thead>\n",
       "  <tbody>\n",
       "    <tr>\n",
       "      <th>0</th>\n",
       "      <td>862</td>\n",
       "      <td>tt0114709</td>\n",
       "      <td>False</td>\n",
       "      <td>30000000.0</td>\n",
       "      <td>en</td>\n",
       "      <td>Toy Story</td>\n",
       "      <td>Led by Woody, Andy's toys live happily in his ...</td>\n",
       "      <td>21.946943</td>\n",
       "      <td>1995-10-30</td>\n",
       "      <td>373554033.0</td>\n",
       "      <td>81.0</td>\n",
       "      <td>Released</td>\n",
       "      <td></td>\n",
       "      <td>Toy Story</td>\n",
       "      <td>7.7</td>\n",
       "      <td>5415.0</td>\n",
       "      <td>Animation; Comedy; Family</td>\n",
       "      <td>Animation</td>\n",
       "      <td>Pixar Animation Studios</td>\n",
       "      <td>Pixar Animation Studios</td>\n",
       "      <td>United States of America</td>\n",
       "      <td>United States of America</td>\n",
       "      <td>English</td>\n",
       "      <td>English</td>\n",
       "      <td>Toy Story Collection</td>\n",
       "      <td>1995-10-30</td>\n",
       "      <td>1995</td>\n",
       "      <td>10</td>\n",
       "      <td>Tom Hanks</td>\n",
       "    </tr>\n",
       "    <tr>\n",
       "      <th>1</th>\n",
       "      <td>8844</td>\n",
       "      <td>tt0113497</td>\n",
       "      <td>False</td>\n",
       "      <td>65000000.0</td>\n",
       "      <td>en</td>\n",
       "      <td>Jumanji</td>\n",
       "      <td>When siblings Judy and Peter discover an encha...</td>\n",
       "      <td>17.015539</td>\n",
       "      <td>1995-12-15</td>\n",
       "      <td>262797249.0</td>\n",
       "      <td>104.0</td>\n",
       "      <td>Released</td>\n",
       "      <td>Roll the dice and unleash the excitement!</td>\n",
       "      <td>Jumanji</td>\n",
       "      <td>6.9</td>\n",
       "      <td>2413.0</td>\n",
       "      <td>Adventure; Fantasy; Family</td>\n",
       "      <td>Adventure</td>\n",
       "      <td>TriStar Pictures</td>\n",
       "      <td>TriStar Pictures; Teitler Film; Interscope Com...</td>\n",
       "      <td>United States of America</td>\n",
       "      <td>United States of America</td>\n",
       "      <td>English</td>\n",
       "      <td>English; Français</td>\n",
       "      <td></td>\n",
       "      <td>1995-12-15</td>\n",
       "      <td>1995</td>\n",
       "      <td>12</td>\n",
       "      <td>Robin Williams</td>\n",
       "    </tr>\n",
       "    <tr>\n",
       "      <th>2</th>\n",
       "      <td>15602</td>\n",
       "      <td>tt0113228</td>\n",
       "      <td>False</td>\n",
       "      <td>0.0</td>\n",
       "      <td>en</td>\n",
       "      <td>Grumpier Old Men</td>\n",
       "      <td>A family wedding reignites the ancient feud be...</td>\n",
       "      <td>11.712900</td>\n",
       "      <td>1995-12-22</td>\n",
       "      <td>0.0</td>\n",
       "      <td>101.0</td>\n",
       "      <td>Released</td>\n",
       "      <td>Still Yelling. Still Fighting. Still Ready for...</td>\n",
       "      <td>Grumpier Old Men</td>\n",
       "      <td>6.5</td>\n",
       "      <td>92.0</td>\n",
       "      <td>Romance; Comedy</td>\n",
       "      <td>Romance</td>\n",
       "      <td>Warner Bros.</td>\n",
       "      <td>Warner Bros.; Lancaster Gate</td>\n",
       "      <td>United States of America</td>\n",
       "      <td>United States of America</td>\n",
       "      <td>English</td>\n",
       "      <td>English</td>\n",
       "      <td>Grumpy Old Men Collection</td>\n",
       "      <td>1995-12-22</td>\n",
       "      <td>1995</td>\n",
       "      <td>12</td>\n",
       "      <td>Walter Matthau</td>\n",
       "    </tr>\n",
       "  </tbody>\n",
       "</table>\n",
       "</div>"
      ],
      "text/plain": [
       "      id    imdb_id  adult      budget original_language    original_title  \\\n",
       "0    862  tt0114709  False  30000000.0                en         Toy Story   \n",
       "1   8844  tt0113497  False  65000000.0                en           Jumanji   \n",
       "2  15602  tt0113228  False         0.0                en  Grumpier Old Men   \n",
       "\n",
       "                                            overview  popularity release_date  \\\n",
       "0  Led by Woody, Andy's toys live happily in his ...   21.946943   1995-10-30   \n",
       "1  When siblings Judy and Peter discover an encha...   17.015539   1995-12-15   \n",
       "2  A family wedding reignites the ancient feud be...   11.712900   1995-12-22   \n",
       "\n",
       "       revenue  runtime    status  \\\n",
       "0  373554033.0     81.0  Released   \n",
       "1  262797249.0    104.0  Released   \n",
       "2          0.0    101.0  Released   \n",
       "\n",
       "                                             tagline             title  \\\n",
       "0                                                            Toy Story   \n",
       "1          Roll the dice and unleash the excitement!           Jumanji   \n",
       "2  Still Yelling. Still Fighting. Still Ready for...  Grumpier Old Men   \n",
       "\n",
       "   vote_average  vote_count                  genres_all genres_major  \\\n",
       "0           7.7      5415.0   Animation; Comedy; Family    Animation   \n",
       "1           6.9      2413.0  Adventure; Fantasy; Family    Adventure   \n",
       "2           6.5        92.0             Romance; Comedy      Romance   \n",
       "\n",
       "  production_companies_major  \\\n",
       "0    Pixar Animation Studios   \n",
       "1           TriStar Pictures   \n",
       "2               Warner Bros.   \n",
       "\n",
       "                            production_companies_all  \\\n",
       "0                            Pixar Animation Studios   \n",
       "1  TriStar Pictures; Teitler Film; Interscope Com...   \n",
       "2                       Warner Bros.; Lancaster Gate   \n",
       "\n",
       "  production_countries_major  production_countries_all spoken_languages_major  \\\n",
       "0   United States of America  United States of America                English   \n",
       "1   United States of America  United States of America                English   \n",
       "2   United States of America  United States of America                English   \n",
       "\n",
       "  spoken_languages_all      belongs_to_collection release_date_dt  \\\n",
       "0              English       Toy Story Collection      1995-10-30   \n",
       "1    English; Français                                 1995-12-15   \n",
       "2              English  Grumpy Old Men Collection      1995-12-22   \n",
       "\n",
       "   release_date_year  release_date_month       lead_cast  \n",
       "0               1995                  10       Tom Hanks  \n",
       "1               1995                  12  Robin Williams  \n",
       "2               1995                  12  Walter Matthau  "
      ]
     },
     "execution_count": 59,
     "metadata": {
      "tags": []
     },
     "output_type": "execute_result"
    }
   ],
   "source": [
    "movies_metadata_credits = pd.merge(movies_metadata, credits_treated, on='id', how=\"left\")\n",
    "movies_metadata_credits.head(3)"
   ]
  },
  {
   "cell_type": "markdown",
   "metadata": {
    "colab_type": "text",
    "id": "E8ORMEDIH929"
   },
   "source": [
    "### There should be 4 NANs in the lead_cast column  of the resultant dataframe after performing the above join. Why are the nulls present ? Show all columns of these 4 rows containing nulls"
   ]
  },
  {
   "cell_type": "code",
   "execution_count": null,
   "metadata": {
    "colab": {},
    "colab_type": "code",
    "id": "ZU_vJytyH929",
    "outputId": "3bad6054-bf54-49ce-cc60-a36399761a72"
   },
   "outputs": [
    {
     "data": {
      "text/html": [
       "<div>\n",
       "<style scoped>\n",
       "    .dataframe tbody tr th:only-of-type {\n",
       "        vertical-align: middle;\n",
       "    }\n",
       "\n",
       "    .dataframe tbody tr th {\n",
       "        vertical-align: top;\n",
       "    }\n",
       "\n",
       "    .dataframe thead th {\n",
       "        text-align: right;\n",
       "    }\n",
       "</style>\n",
       "<table border=\"1\" class=\"dataframe\">\n",
       "  <thead>\n",
       "    <tr style=\"text-align: right;\">\n",
       "      <th></th>\n",
       "      <th>id</th>\n",
       "      <th>imdb_id</th>\n",
       "      <th>adult</th>\n",
       "      <th>budget</th>\n",
       "      <th>original_language</th>\n",
       "      <th>original_title</th>\n",
       "      <th>overview</th>\n",
       "      <th>popularity</th>\n",
       "      <th>release_date</th>\n",
       "      <th>revenue</th>\n",
       "      <th>runtime</th>\n",
       "      <th>status</th>\n",
       "      <th>tagline</th>\n",
       "      <th>title</th>\n",
       "      <th>vote_average</th>\n",
       "      <th>vote_count</th>\n",
       "      <th>genres_all</th>\n",
       "      <th>genres_major</th>\n",
       "      <th>production_companies_major</th>\n",
       "      <th>production_companies_all</th>\n",
       "      <th>production_countries_major</th>\n",
       "      <th>production_countries_all</th>\n",
       "      <th>spoken_languages_major</th>\n",
       "      <th>spoken_languages_all</th>\n",
       "      <th>belongs_to_collection</th>\n",
       "      <th>release_date_dt</th>\n",
       "      <th>release_date_year</th>\n",
       "      <th>release_date_month</th>\n",
       "      <th>lead_cast</th>\n",
       "    </tr>\n",
       "  </thead>\n",
       "  <tbody>\n",
       "    <tr>\n",
       "      <th>19730</th>\n",
       "      <td>0</td>\n",
       "      <td>0</td>\n",
       "      <td>False</td>\n",
       "      <td>0.0</td>\n",
       "      <td>104.0</td>\n",
       "      <td>[{'iso_639_1': 'en', 'name': 'English'}]</td>\n",
       "      <td>Released</td>\n",
       "      <td>0.000000</td>\n",
       "      <td>1</td>\n",
       "      <td>0.0</td>\n",
       "      <td>0.0</td>\n",
       "      <td></td>\n",
       "      <td></td>\n",
       "      <td></td>\n",
       "      <td>0.0</td>\n",
       "      <td>0.0</td>\n",
       "      <td>Carousel Productions; Vision View Entertainmen...</td>\n",
       "      <td>Carousel Productions</td>\n",
       "      <td></td>\n",
       "      <td></td>\n",
       "      <td></td>\n",
       "      <td></td>\n",
       "      <td></td>\n",
       "      <td></td>\n",
       "      <td></td>\n",
       "      <td>1000-01-01</td>\n",
       "      <td>1000</td>\n",
       "      <td>1</td>\n",
       "      <td>NaN</td>\n",
       "    </tr>\n",
       "    <tr>\n",
       "      <th>29503</th>\n",
       "      <td>0</td>\n",
       "      <td>0</td>\n",
       "      <td>False</td>\n",
       "      <td>0.0</td>\n",
       "      <td>68.0</td>\n",
       "      <td>[{'iso_639_1': 'ja', 'name': '日本語'}]</td>\n",
       "      <td>Released</td>\n",
       "      <td>0.000000</td>\n",
       "      <td>12</td>\n",
       "      <td>0.0</td>\n",
       "      <td>0.0</td>\n",
       "      <td></td>\n",
       "      <td></td>\n",
       "      <td></td>\n",
       "      <td>0.0</td>\n",
       "      <td>0.0</td>\n",
       "      <td>Aniplex; GoHands; BROSTA TV; Mardock Scramble ...</td>\n",
       "      <td>Aniplex</td>\n",
       "      <td></td>\n",
       "      <td></td>\n",
       "      <td></td>\n",
       "      <td></td>\n",
       "      <td></td>\n",
       "      <td></td>\n",
       "      <td></td>\n",
       "      <td>1000-01-01</td>\n",
       "      <td>1000</td>\n",
       "      <td>1</td>\n",
       "      <td>NaN</td>\n",
       "    </tr>\n",
       "    <tr>\n",
       "      <th>35587</th>\n",
       "      <td>0</td>\n",
       "      <td>0</td>\n",
       "      <td>False</td>\n",
       "      <td>0.0</td>\n",
       "      <td>82.0</td>\n",
       "      <td>[{'iso_639_1': 'en', 'name': 'English'}]</td>\n",
       "      <td>Released</td>\n",
       "      <td>0.000000</td>\n",
       "      <td>22</td>\n",
       "      <td>0.0</td>\n",
       "      <td>0.0</td>\n",
       "      <td></td>\n",
       "      <td></td>\n",
       "      <td></td>\n",
       "      <td>0.0</td>\n",
       "      <td>0.0</td>\n",
       "      <td>Odyssey Media; Pulser Productions; Rogue State...</td>\n",
       "      <td>Odyssey Media</td>\n",
       "      <td></td>\n",
       "      <td></td>\n",
       "      <td></td>\n",
       "      <td></td>\n",
       "      <td></td>\n",
       "      <td></td>\n",
       "      <td></td>\n",
       "      <td>1000-01-01</td>\n",
       "      <td>1000</td>\n",
       "      <td>1</td>\n",
       "      <td>NaN</td>\n",
       "    </tr>\n",
       "    <tr>\n",
       "      <th>42883</th>\n",
       "      <td>401840</td>\n",
       "      <td>tt3291632</td>\n",
       "      <td>False</td>\n",
       "      <td>0.0</td>\n",
       "      <td>es</td>\n",
       "      <td>School's out</td>\n",
       "      <td>Two high school kids mentored by a nightclub o...</td>\n",
       "      <td>0.207775</td>\n",
       "      <td>2017-05-30</td>\n",
       "      <td>0.0</td>\n",
       "      <td>0.0</td>\n",
       "      <td>Released</td>\n",
       "      <td></td>\n",
       "      <td>School's out</td>\n",
       "      <td>0.0</td>\n",
       "      <td>0.0</td>\n",
       "      <td></td>\n",
       "      <td></td>\n",
       "      <td></td>\n",
       "      <td></td>\n",
       "      <td></td>\n",
       "      <td></td>\n",
       "      <td></td>\n",
       "      <td></td>\n",
       "      <td></td>\n",
       "      <td>2017-05-30</td>\n",
       "      <td>2017</td>\n",
       "      <td>5</td>\n",
       "      <td>NaN</td>\n",
       "    </tr>\n",
       "  </tbody>\n",
       "</table>\n",
       "</div>"
      ],
      "text/plain": [
       "           id    imdb_id  adult  budget original_language  \\\n",
       "19730       0          0  False     0.0             104.0   \n",
       "29503       0          0  False     0.0              68.0   \n",
       "35587       0          0  False     0.0              82.0   \n",
       "42883  401840  tt3291632  False     0.0                es   \n",
       "\n",
       "                                 original_title  \\\n",
       "19730  [{'iso_639_1': 'en', 'name': 'English'}]   \n",
       "29503      [{'iso_639_1': 'ja', 'name': '日本語'}]   \n",
       "35587  [{'iso_639_1': 'en', 'name': 'English'}]   \n",
       "42883                              School's out   \n",
       "\n",
       "                                                overview  popularity  \\\n",
       "19730                                           Released    0.000000   \n",
       "29503                                           Released    0.000000   \n",
       "35587                                           Released    0.000000   \n",
       "42883  Two high school kids mentored by a nightclub o...    0.207775   \n",
       "\n",
       "      release_date  revenue  runtime    status tagline         title  \\\n",
       "19730            1      0.0      0.0                                   \n",
       "29503           12      0.0      0.0                                   \n",
       "35587           22      0.0      0.0                                   \n",
       "42883   2017-05-30      0.0      0.0  Released          School's out   \n",
       "\n",
       "       vote_average  vote_count  \\\n",
       "19730           0.0         0.0   \n",
       "29503           0.0         0.0   \n",
       "35587           0.0         0.0   \n",
       "42883           0.0         0.0   \n",
       "\n",
       "                                              genres_all  \\\n",
       "19730  Carousel Productions; Vision View Entertainmen...   \n",
       "29503  Aniplex; GoHands; BROSTA TV; Mardock Scramble ...   \n",
       "35587  Odyssey Media; Pulser Productions; Rogue State...   \n",
       "42883                                                      \n",
       "\n",
       "               genres_major production_companies_major  \\\n",
       "19730  Carousel Productions                              \n",
       "29503               Aniplex                              \n",
       "35587         Odyssey Media                              \n",
       "42883                                                    \n",
       "\n",
       "      production_companies_all production_countries_major  \\\n",
       "19730                                                       \n",
       "29503                                                       \n",
       "35587                                                       \n",
       "42883                                                       \n",
       "\n",
       "      production_countries_all spoken_languages_major spoken_languages_all  \\\n",
       "19730                                                                        \n",
       "29503                                                                        \n",
       "35587                                                                        \n",
       "42883                                                                        \n",
       "\n",
       "      belongs_to_collection release_date_dt  release_date_year  \\\n",
       "19730                            1000-01-01               1000   \n",
       "29503                            1000-01-01               1000   \n",
       "35587                            1000-01-01               1000   \n",
       "42883                            2017-05-30               2017   \n",
       "\n",
       "       release_date_month lead_cast  \n",
       "19730                   1       NaN  \n",
       "29503                   1       NaN  \n",
       "35587                   1       NaN  \n",
       "42883                   5       NaN  "
      ]
     },
     "execution_count": 60,
     "metadata": {
      "tags": []
     },
     "output_type": "execute_result"
    }
   ],
   "source": [
    "movies_metadata_credits[movies_metadata_credits['lead_cast'].isnull()]"
   ]
  },
  {
   "cell_type": "markdown",
   "metadata": {
    "colab_type": "text",
    "id": "wQOKH3I6H92_"
   },
   "source": [
    "### Get the lead actors and original_title of the movie from the top 10 most popular hindi movies with release date greater than 2005"
   ]
  },
  {
   "cell_type": "code",
   "execution_count": null,
   "metadata": {
    "colab": {},
    "colab_type": "code",
    "id": "7-Dju-eoH93A",
    "outputId": "9120ecde-22dc-4b8b-922a-461ac6245d9b"
   },
   "outputs": [
    {
     "data": {
      "text/html": [
       "<div>\n",
       "<style scoped>\n",
       "    .dataframe tbody tr th:only-of-type {\n",
       "        vertical-align: middle;\n",
       "    }\n",
       "\n",
       "    .dataframe tbody tr th {\n",
       "        vertical-align: top;\n",
       "    }\n",
       "\n",
       "    .dataframe thead th {\n",
       "        text-align: right;\n",
       "    }\n",
       "</style>\n",
       "<table border=\"1\" class=\"dataframe\">\n",
       "  <thead>\n",
       "    <tr style=\"text-align: right;\">\n",
       "      <th></th>\n",
       "      <th>original_title</th>\n",
       "      <th>lead_cast</th>\n",
       "    </tr>\n",
       "  </thead>\n",
       "  <tbody>\n",
       "    <tr>\n",
       "      <th>25721</th>\n",
       "      <td>PK</td>\n",
       "      <td>Aamir Khan</td>\n",
       "    </tr>\n",
       "    <tr>\n",
       "      <th>12418</th>\n",
       "      <td>Jodhaa Akbar</td>\n",
       "      <td>Hrithik Roshan</td>\n",
       "    </tr>\n",
       "    <tr>\n",
       "      <th>14891</th>\n",
       "      <td>My Name Is Khan</td>\n",
       "      <td>Shah Rukh Khan</td>\n",
       "    </tr>\n",
       "    <tr>\n",
       "      <th>22080</th>\n",
       "      <td>कृष ३</td>\n",
       "      <td>Hrithik Roshan</td>\n",
       "    </tr>\n",
       "    <tr>\n",
       "      <th>22437</th>\n",
       "      <td>Dabba</td>\n",
       "      <td>Irrfan Khan</td>\n",
       "    </tr>\n",
       "    <tr>\n",
       "      <th>19637</th>\n",
       "      <td>Gangs of वासेपुर</td>\n",
       "      <td>Manoj Bajpayee</td>\n",
       "    </tr>\n",
       "    <tr>\n",
       "      <th>41820</th>\n",
       "      <td>दंगल</td>\n",
       "      <td>Aamir Khan</td>\n",
       "    </tr>\n",
       "    <tr>\n",
       "      <th>17771</th>\n",
       "      <td>Zindagi Na Milegi Dobara</td>\n",
       "      <td>Hrithik Roshan</td>\n",
       "    </tr>\n",
       "    <tr>\n",
       "      <th>33005</th>\n",
       "      <td>Cocktail</td>\n",
       "      <td>Deepika Padukone</td>\n",
       "    </tr>\n",
       "    <tr>\n",
       "      <th>14732</th>\n",
       "      <td>3 Idiots</td>\n",
       "      <td>Aamir Khan</td>\n",
       "    </tr>\n",
       "  </tbody>\n",
       "</table>\n",
       "</div>"
      ],
      "text/plain": [
       "                 original_title         lead_cast\n",
       "25721                        PK        Aamir Khan\n",
       "12418              Jodhaa Akbar    Hrithik Roshan\n",
       "14891           My Name Is Khan    Shah Rukh Khan\n",
       "22080                     कृष ३    Hrithik Roshan\n",
       "22437                     Dabba       Irrfan Khan\n",
       "19637          Gangs of वासेपुर    Manoj Bajpayee\n",
       "41820                      दंगल        Aamir Khan\n",
       "17771  Zindagi Na Milegi Dobara    Hrithik Roshan\n",
       "33005                  Cocktail  Deepika Padukone\n",
       "14732                  3 Idiots        Aamir Khan"
      ]
     },
     "execution_count": 61,
     "metadata": {
      "tags": []
     },
     "output_type": "execute_result"
    }
   ],
   "source": [
    "movies_metadata_credits[(movies_metadata_credits['release_date_year'] > 2005) & \n",
    "                       (movies_metadata_credits['original_language'] == 'hi')].sort_values('popularity', \n",
    "                                                            ascending=False)[['original_title', 'lead_cast']][0:10]"
   ]
  },
  {
   "cell_type": "markdown",
   "metadata": {
    "colab_type": "text",
    "id": "WiY-xSXdH93C"
   },
   "source": [
    "### Get the lead_cast and original_title of the top 5 highest grossing movies ever"
   ]
  },
  {
   "cell_type": "code",
   "execution_count": null,
   "metadata": {
    "colab": {},
    "colab_type": "code",
    "id": "XB3K0N1oH93C",
    "outputId": "b860cab8-0eb0-4919-99d6-bf3bb1415773"
   },
   "outputs": [
    {
     "data": {
      "text/html": [
       "<div>\n",
       "<style scoped>\n",
       "    .dataframe tbody tr th:only-of-type {\n",
       "        vertical-align: middle;\n",
       "    }\n",
       "\n",
       "    .dataframe tbody tr th {\n",
       "        vertical-align: top;\n",
       "    }\n",
       "\n",
       "    .dataframe thead th {\n",
       "        text-align: right;\n",
       "    }\n",
       "</style>\n",
       "<table border=\"1\" class=\"dataframe\">\n",
       "  <thead>\n",
       "    <tr style=\"text-align: right;\">\n",
       "      <th></th>\n",
       "      <th>original_title</th>\n",
       "      <th>lead_cast</th>\n",
       "    </tr>\n",
       "  </thead>\n",
       "  <tbody>\n",
       "    <tr>\n",
       "      <th>14551</th>\n",
       "      <td>Avatar</td>\n",
       "      <td>Sam Worthington</td>\n",
       "    </tr>\n",
       "    <tr>\n",
       "      <th>26555</th>\n",
       "      <td>Star Wars: The Force Awakens</td>\n",
       "      <td>Daisy Ridley</td>\n",
       "    </tr>\n",
       "    <tr>\n",
       "      <th>1639</th>\n",
       "      <td>Titanic</td>\n",
       "      <td>Kate Winslet</td>\n",
       "    </tr>\n",
       "    <tr>\n",
       "      <th>17818</th>\n",
       "      <td>The Avengers</td>\n",
       "      <td>Robert Downey Jr.</td>\n",
       "    </tr>\n",
       "    <tr>\n",
       "      <th>25084</th>\n",
       "      <td>Jurassic World</td>\n",
       "      <td>Chris Pratt</td>\n",
       "    </tr>\n",
       "    <tr>\n",
       "      <th>28830</th>\n",
       "      <td>Furious 7</td>\n",
       "      <td>Vin Diesel</td>\n",
       "    </tr>\n",
       "    <tr>\n",
       "      <th>26558</th>\n",
       "      <td>Avengers: Age of Ultron</td>\n",
       "      <td>Robert Downey Jr.</td>\n",
       "    </tr>\n",
       "    <tr>\n",
       "      <th>17437</th>\n",
       "      <td>Harry Potter and the Deathly Hallows: Part 2</td>\n",
       "      <td>Daniel Radcliffe</td>\n",
       "    </tr>\n",
       "    <tr>\n",
       "      <th>22110</th>\n",
       "      <td>Frozen</td>\n",
       "      <td>Kristen Bell</td>\n",
       "    </tr>\n",
       "    <tr>\n",
       "      <th>42222</th>\n",
       "      <td>Beauty and the Beast</td>\n",
       "      <td>Emma Watson</td>\n",
       "    </tr>\n",
       "  </tbody>\n",
       "</table>\n",
       "</div>"
      ],
      "text/plain": [
       "                                     original_title          lead_cast\n",
       "14551                                        Avatar    Sam Worthington\n",
       "26555                  Star Wars: The Force Awakens       Daisy Ridley\n",
       "1639                                        Titanic       Kate Winslet\n",
       "17818                                  The Avengers  Robert Downey Jr.\n",
       "25084                                Jurassic World        Chris Pratt\n",
       "28830                                     Furious 7         Vin Diesel\n",
       "26558                       Avengers: Age of Ultron  Robert Downey Jr.\n",
       "17437  Harry Potter and the Deathly Hallows: Part 2   Daniel Radcliffe\n",
       "22110                                        Frozen       Kristen Bell\n",
       "42222                          Beauty and the Beast        Emma Watson"
      ]
     },
     "execution_count": 62,
     "metadata": {
      "tags": []
     },
     "output_type": "execute_result"
    }
   ],
   "source": [
    "movies_metadata_credits.sort_values('revenue', ascending=False)[['original_title', 'lead_cast']][0:10]"
   ]
  },
  {
   "cell_type": "markdown",
   "metadata": {
    "colab_type": "text",
    "id": "6UWRK7fWH93E"
   },
   "source": [
    "### Get the lead_cast, release_date_year, original_title and revenue of the highest grossing movies each year between 2005 and 2010 (Optional)"
   ]
  },
  {
   "cell_type": "code",
   "execution_count": null,
   "metadata": {
    "colab": {},
    "colab_type": "code",
    "id": "zMo-p2e0H93F",
    "outputId": "95e7b704-ff70-4808-d57a-7c8679aaa3bc"
   },
   "outputs": [
    {
     "data": {
      "text/html": [
       "<div>\n",
       "<style scoped>\n",
       "    .dataframe tbody tr th:only-of-type {\n",
       "        vertical-align: middle;\n",
       "    }\n",
       "\n",
       "    .dataframe tbody tr th {\n",
       "        vertical-align: top;\n",
       "    }\n",
       "\n",
       "    .dataframe thead th {\n",
       "        text-align: right;\n",
       "    }\n",
       "</style>\n",
       "<table border=\"1\" class=\"dataframe\">\n",
       "  <thead>\n",
       "    <tr style=\"text-align: right;\">\n",
       "      <th></th>\n",
       "      <th>release_date_year</th>\n",
       "      <th>lead_cast</th>\n",
       "      <th>original_title</th>\n",
       "      <th>revenue</th>\n",
       "    </tr>\n",
       "  </thead>\n",
       "  <tbody>\n",
       "    <tr>\n",
       "      <th>10554</th>\n",
       "      <td>2005</td>\n",
       "      <td>Daniel Radcliffe</td>\n",
       "      <td>Harry Potter and the Goblet of Fire</td>\n",
       "      <td>8.959210e+08</td>\n",
       "    </tr>\n",
       "    <tr>\n",
       "      <th>11008</th>\n",
       "      <td>2006</td>\n",
       "      <td>Johnny Depp</td>\n",
       "      <td>Pirates of the Caribbean: Dead Man's Chest</td>\n",
       "      <td>1.065660e+09</td>\n",
       "    </tr>\n",
       "    <tr>\n",
       "      <th>11827</th>\n",
       "      <td>2007</td>\n",
       "      <td>Johnny Depp</td>\n",
       "      <td>Pirates of the Caribbean: At World's End</td>\n",
       "      <td>9.610000e+08</td>\n",
       "    </tr>\n",
       "    <tr>\n",
       "      <th>12481</th>\n",
       "      <td>2008</td>\n",
       "      <td>Christian Bale</td>\n",
       "      <td>The Dark Knight</td>\n",
       "      <td>1.004558e+09</td>\n",
       "    </tr>\n",
       "    <tr>\n",
       "      <th>14551</th>\n",
       "      <td>2009</td>\n",
       "      <td>Sam Worthington</td>\n",
       "      <td>Avatar</td>\n",
       "      <td>2.787965e+09</td>\n",
       "    </tr>\n",
       "    <tr>\n",
       "      <th>15348</th>\n",
       "      <td>2010</td>\n",
       "      <td>Tom Hanks</td>\n",
       "      <td>Toy Story 3</td>\n",
       "      <td>1.066970e+09</td>\n",
       "    </tr>\n",
       "  </tbody>\n",
       "</table>\n",
       "</div>"
      ],
      "text/plain": [
       "       release_date_year         lead_cast  \\\n",
       "10554               2005  Daniel Radcliffe   \n",
       "11008               2006       Johnny Depp   \n",
       "11827               2007       Johnny Depp   \n",
       "12481               2008    Christian Bale   \n",
       "14551               2009   Sam Worthington   \n",
       "15348               2010         Tom Hanks   \n",
       "\n",
       "                                   original_title       revenue  \n",
       "10554         Harry Potter and the Goblet of Fire  8.959210e+08  \n",
       "11008  Pirates of the Caribbean: Dead Man's Chest  1.065660e+09  \n",
       "11827    Pirates of the Caribbean: At World's End  9.610000e+08  \n",
       "12481                             The Dark Knight  1.004558e+09  \n",
       "14551                                      Avatar  2.787965e+09  \n",
       "15348                                 Toy Story 3  1.066970e+09  "
      ]
     },
     "execution_count": 63,
     "metadata": {
      "tags": []
     },
     "output_type": "execute_result"
    }
   ],
   "source": [
    "ids = movies_metadata_credits[(movies_metadata_credits['release_date_year'] >= 2005) \n",
    "        & (movies_metadata_credits['release_date_year'] <= 2010) ].groupby('release_date_year')['revenue'].idxmax()\n",
    "movies_metadata_credits.loc[ids, ['release_date_year', 'lead_cast', 'original_title', 'revenue']]"
   ]
  },
  {
   "cell_type": "markdown",
   "metadata": {
    "colab_type": "text",
    "id": "s5Dhe56yH93G"
   },
   "source": [
    "### List some problems that will be faced while directly joining the ratings dataset with the movies_metadata dataset. "
   ]
  },
  {
   "cell_type": "markdown",
   "metadata": {
    "colab_type": "raw",
    "id": "MZgnecuMH93H"
   },
   "source": [
    "Ratings dataset has multiple rows for each movie which pertains to the rating provided by a user for that particular movie.\n",
    "Directly joining it will create duplicated rows to be created"
   ]
  },
  {
   "cell_type": "markdown",
   "metadata": {
    "colab_type": "text",
    "id": "ChnwxiXjH93H"
   },
   "source": [
    "### How will you address the above problems?"
   ]
  },
  {
   "cell_type": "markdown",
   "metadata": {
    "colab_type": "raw",
    "id": "PBCB5AX_H93H"
   },
   "source": [
    "Ratings dataset needs to be first aggregated to \"movieId\" level and the average of ratings provided by each user should be taken before joining it to the movies_metadata dataset"
   ]
  },
  {
   "cell_type": "markdown",
   "metadata": {
    "colab_type": "text",
    "id": "w-9vyE4SH93I"
   },
   "source": [
    "### Address the above problems and join \"movies_metadata\" with the \"ratings\" dataset keeping \"movies_metadata\" as the left table. Also add a count of distinct users who gave ratings for a specific movie (rename it as \"number_of_users_who_rated\")"
   ]
  },
  {
   "cell_type": "code",
   "execution_count": null,
   "metadata": {
    "colab": {},
    "colab_type": "code",
    "id": "PyCGuNm9H93I"
   },
   "outputs": [],
   "source": [
    "ratings_average = ratings.groupby('movieId').agg({'rating':'mean', 'userId':'nunique'}).reset_index()"
   ]
  },
  {
   "cell_type": "code",
   "execution_count": null,
   "metadata": {
    "colab": {},
    "colab_type": "code",
    "id": "v-8S0fFLH93J",
    "outputId": "fb6fa1ac-6743-4805-87a1-9d7f409f0adc"
   },
   "outputs": [
    {
     "data": {
      "text/html": [
       "<div>\n",
       "<style scoped>\n",
       "    .dataframe tbody tr th:only-of-type {\n",
       "        vertical-align: middle;\n",
       "    }\n",
       "\n",
       "    .dataframe tbody tr th {\n",
       "        vertical-align: top;\n",
       "    }\n",
       "\n",
       "    .dataframe thead th {\n",
       "        text-align: right;\n",
       "    }\n",
       "</style>\n",
       "<table border=\"1\" class=\"dataframe\">\n",
       "  <thead>\n",
       "    <tr style=\"text-align: right;\">\n",
       "      <th></th>\n",
       "      <th>movieId</th>\n",
       "      <th>rating</th>\n",
       "      <th>number_of_users_who_rated</th>\n",
       "    </tr>\n",
       "  </thead>\n",
       "  <tbody>\n",
       "    <tr>\n",
       "      <th>0</th>\n",
       "      <td>1</td>\n",
       "      <td>3.888157</td>\n",
       "      <td>66008</td>\n",
       "    </tr>\n",
       "    <tr>\n",
       "      <th>1</th>\n",
       "      <td>2</td>\n",
       "      <td>3.236953</td>\n",
       "      <td>26060</td>\n",
       "    </tr>\n",
       "    <tr>\n",
       "      <th>2</th>\n",
       "      <td>3</td>\n",
       "      <td>3.175550</td>\n",
       "      <td>15497</td>\n",
       "    </tr>\n",
       "    <tr>\n",
       "      <th>3</th>\n",
       "      <td>4</td>\n",
       "      <td>2.875713</td>\n",
       "      <td>2981</td>\n",
       "    </tr>\n",
       "    <tr>\n",
       "      <th>4</th>\n",
       "      <td>5</td>\n",
       "      <td>3.079565</td>\n",
       "      <td>15258</td>\n",
       "    </tr>\n",
       "  </tbody>\n",
       "</table>\n",
       "</div>"
      ],
      "text/plain": [
       "   movieId    rating  number_of_users_who_rated\n",
       "0        1  3.888157                      66008\n",
       "1        2  3.236953                      26060\n",
       "2        3  3.175550                      15497\n",
       "3        4  2.875713                       2981\n",
       "4        5  3.079565                      15258"
      ]
     },
     "execution_count": 65,
     "metadata": {
      "tags": []
     },
     "output_type": "execute_result"
    }
   ],
   "source": [
    "ratings_average.columns = ['movieId', 'rating', 'number_of_users_who_rated']\n",
    "ratings_average.head()"
   ]
  },
  {
   "cell_type": "code",
   "execution_count": null,
   "metadata": {
    "colab": {},
    "colab_type": "code",
    "id": "jcta-JdVH93L"
   },
   "outputs": [],
   "source": [
    "movies_metadata_ratings = pd.merge(movies_metadata, ratings_average, left_on='id', right_on='movieId', how=\"left\")"
   ]
  },
  {
   "cell_type": "code",
   "execution_count": null,
   "metadata": {
    "colab": {},
    "colab_type": "code",
    "id": "DgFV0yicH93N",
    "outputId": "a63142b3-cdbe-4d33-881d-17ddbcf6484d"
   },
   "outputs": [
    {
     "data": {
      "text/plain": [
       "(45466, 31)"
      ]
     },
     "execution_count": 67,
     "metadata": {
      "tags": []
     },
     "output_type": "execute_result"
    }
   ],
   "source": [
    "movies_metadata_ratings.shape"
   ]
  },
  {
   "cell_type": "code",
   "execution_count": null,
   "metadata": {
    "colab": {},
    "colab_type": "code",
    "id": "z-tdi7iNH93P",
    "outputId": "6e3be469-9422-499c-dd49-80d95e34b8ee"
   },
   "outputs": [
    {
     "data": {
      "text/plain": [
       "(45466, 28)"
      ]
     },
     "execution_count": 68,
     "metadata": {
      "tags": []
     },
     "output_type": "execute_result"
    }
   ],
   "source": [
    "movies_metadata.shape"
   ]
  },
  {
   "cell_type": "markdown",
   "metadata": {
    "colab_type": "text",
    "id": "uO_eoxeYH93Q"
   },
   "source": [
    "### Join the treated credits dataset too to the dataframe created in the above question"
   ]
  },
  {
   "cell_type": "code",
   "execution_count": null,
   "metadata": {
    "colab": {},
    "colab_type": "code",
    "id": "9q5c4iH0H93R"
   },
   "outputs": [],
   "source": [
    "movies_metadata_ratings_credits = pd.merge(movies_metadata_ratings, credits_treated, how=\"left\", on=\"id\")"
   ]
  },
  {
   "cell_type": "code",
   "execution_count": null,
   "metadata": {
    "colab": {},
    "colab_type": "code",
    "id": "AdrdmhqYH93S",
    "outputId": "51837fca-1b90-4717-83e3-f5c17668c75e"
   },
   "outputs": [
    {
     "data": {
      "text/plain": [
       "(45466, 32)"
      ]
     },
     "execution_count": 70,
     "metadata": {
      "tags": []
     },
     "output_type": "execute_result"
    }
   ],
   "source": [
    "movies_metadata_ratings_credits.shape"
   ]
  },
  {
   "cell_type": "markdown",
   "metadata": {
    "colab_type": "text",
    "id": "C7lVTraaH93T"
   },
   "source": [
    "### How many movies don't have a rating ?"
   ]
  },
  {
   "cell_type": "code",
   "execution_count": null,
   "metadata": {
    "colab": {},
    "colab_type": "code",
    "id": "buXxGbCQH93T",
    "outputId": "6755883f-93fe-4da7-e998-84f80104526c"
   },
   "outputs": [
    {
     "data": {
      "text/plain": [
       "37869"
      ]
     },
     "execution_count": 71,
     "metadata": {
      "tags": []
     },
     "output_type": "execute_result"
    }
   ],
   "source": [
    "movies_metadata_ratings_credits[movies_metadata_ratings_credits['rating'].isnull()].id.nunique()"
   ]
  },
  {
   "cell_type": "markdown",
   "metadata": {
    "colab_type": "text",
    "id": "11FUZW5qH93V"
   },
   "source": [
    "### Fill the NaNs in the \"rating\" and \"movieId\", \"number_od_users_who_rated\" column in the new joined dataset with 0s. Also fill the NaNs in the \"lead_cast\" column with empty string ''"
   ]
  },
  {
   "cell_type": "code",
   "execution_count": null,
   "metadata": {
    "colab": {},
    "colab_type": "code",
    "id": "rHvP8kdqH93V"
   },
   "outputs": [],
   "source": [
    "movies_metadata_ratings_credits['rating'].fillna(0, inplace=True)\n",
    "movies_metadata_ratings_credits['movieId'].fillna(0, inplace=True)\n",
    "movies_metadata_ratings_credits['lead_cast'].fillna('', inplace=True)\n",
    "movies_metadata_ratings_credits['number_of_users_who_rated'].fillna(0, inplace=True)"
   ]
  },
  {
   "cell_type": "code",
   "execution_count": null,
   "metadata": {
    "colab": {},
    "colab_type": "code",
    "id": "6wmqU--iH93W",
    "outputId": "6af5b457-1e65-47ec-eb93-a466cea8fa8b"
   },
   "outputs": [
    {
     "data": {
      "text/plain": [
       "id                            0\n",
       "imdb_id                       0\n",
       "adult                         0\n",
       "budget                        0\n",
       "original_language             0\n",
       "original_title                0\n",
       "overview                      0\n",
       "popularity                    0\n",
       "release_date                  0\n",
       "revenue                       0\n",
       "runtime                       0\n",
       "status                        0\n",
       "tagline                       0\n",
       "title                         0\n",
       "vote_average                  0\n",
       "vote_count                    0\n",
       "genres_all                    0\n",
       "genres_major                  0\n",
       "production_companies_major    0\n",
       "production_companies_all      0\n",
       "production_countries_major    0\n",
       "production_countries_all      0\n",
       "spoken_languages_major        0\n",
       "spoken_languages_all          0\n",
       "belongs_to_collection         0\n",
       "release_date_dt               0\n",
       "release_date_year             0\n",
       "release_date_month            0\n",
       "movieId                       0\n",
       "rating                        0\n",
       "number_of_users_who_rated     0\n",
       "lead_cast                     0\n",
       "dtype: int64"
      ]
     },
     "execution_count": 73,
     "metadata": {
      "tags": []
     },
     "output_type": "execute_result"
    }
   ],
   "source": [
    "movies_metadata_ratings_credits.isnull().sum()"
   ]
  },
  {
   "cell_type": "markdown",
   "metadata": {
    "colab_type": "text",
    "id": "OrJ4KUFSH93Y"
   },
   "source": [
    "### Get the movie title and lead cast of the highest rated english and french movies in the years 2008. Consider only the movies where \"number_of_users_who_rated\" > 1000"
   ]
  },
  {
   "cell_type": "code",
   "execution_count": null,
   "metadata": {
    "colab": {},
    "colab_type": "code",
    "id": "M7OllKDOH93Y",
    "outputId": "cbf51742-ff86-4e53-b926-b00b024341e2"
   },
   "outputs": [
    {
     "data": {
      "text/html": [
       "<div>\n",
       "<style scoped>\n",
       "    .dataframe tbody tr th:only-of-type {\n",
       "        vertical-align: middle;\n",
       "    }\n",
       "\n",
       "    .dataframe tbody tr th {\n",
       "        vertical-align: top;\n",
       "    }\n",
       "\n",
       "    .dataframe thead th {\n",
       "        text-align: right;\n",
       "    }\n",
       "</style>\n",
       "<table border=\"1\" class=\"dataframe\">\n",
       "  <thead>\n",
       "    <tr style=\"text-align: right;\">\n",
       "      <th></th>\n",
       "      <th>original_title</th>\n",
       "      <th>lead_cast</th>\n",
       "    </tr>\n",
       "  </thead>\n",
       "  <tbody>\n",
       "    <tr>\n",
       "      <th>12543</th>\n",
       "      <td>Street Kings</td>\n",
       "      <td>Keanu Reeves</td>\n",
       "    </tr>\n",
       "  </tbody>\n",
       "</table>\n",
       "</div>"
      ],
      "text/plain": [
       "      original_title     lead_cast\n",
       "12543   Street Kings  Keanu Reeves"
      ]
     },
     "execution_count": 74,
     "metadata": {
      "tags": []
     },
     "output_type": "execute_result"
    }
   ],
   "source": [
    "movies_metadata_ratings_credits[(movies_metadata_ratings_credits['release_date_year'] == 2008) &\n",
    "        (movies_metadata_ratings_credits['original_language'] == 'en') &\n",
    "    (movies_metadata_ratings_credits['number_of_users_who_rated'] > 1000) ].sort_values('rating', \n",
    "                                                        ascending=False)[0:1][['original_title', 'lead_cast']]"
   ]
  },
  {
   "cell_type": "code",
   "execution_count": null,
   "metadata": {
    "colab": {},
    "colab_type": "code",
    "id": "e-tf2oGXH93c",
    "outputId": "53feb2d7-db21-49a0-bf7d-192aef80cdad"
   },
   "outputs": [
    {
     "data": {
      "text/html": [
       "<div>\n",
       "<style scoped>\n",
       "    .dataframe tbody tr th:only-of-type {\n",
       "        vertical-align: middle;\n",
       "    }\n",
       "\n",
       "    .dataframe tbody tr th {\n",
       "        vertical-align: top;\n",
       "    }\n",
       "\n",
       "    .dataframe thead th {\n",
       "        text-align: right;\n",
       "    }\n",
       "</style>\n",
       "<table border=\"1\" class=\"dataframe\">\n",
       "  <thead>\n",
       "    <tr style=\"text-align: right;\">\n",
       "      <th></th>\n",
       "      <th>original_title</th>\n",
       "      <th>lead_cast</th>\n",
       "    </tr>\n",
       "  </thead>\n",
       "  <tbody>\n",
       "    <tr>\n",
       "      <th>14710</th>\n",
       "      <td>Astérix aux Jeux Olympiques</td>\n",
       "      <td>Clovis Cornillac</td>\n",
       "    </tr>\n",
       "  </tbody>\n",
       "</table>\n",
       "</div>"
      ],
      "text/plain": [
       "                    original_title         lead_cast\n",
       "14710  Astérix aux Jeux Olympiques  Clovis Cornillac"
      ]
     },
     "execution_count": 75,
     "metadata": {
      "tags": []
     },
     "output_type": "execute_result"
    }
   ],
   "source": [
    "movies_metadata_ratings_credits[(movies_metadata_ratings_credits['release_date_year'] == 2008) &\n",
    "        (movies_metadata_ratings_credits['original_language'] == 'fr') &\n",
    "    (movies_metadata_ratings_credits['number_of_users_who_rated'] > 1000)].sort_values('rating', \n",
    "                                                        ascending=False)[0:1][['original_title', 'lead_cast']]"
   ]
  },
  {
   "cell_type": "markdown",
   "metadata": {
    "colab_type": "text",
    "id": "nlOFFPTsH93e"
   },
   "source": [
    "### Show the top 20 actors who have the highest average rating for all their movies. Consider only those actors who have acted as leads in 20 or more movies"
   ]
  },
  {
   "cell_type": "code",
   "execution_count": null,
   "metadata": {
    "colab": {},
    "colab_type": "code",
    "id": "lyJQkIMfH93f",
    "outputId": "dba93146-a7b8-4e8a-f7d2-c9c8b18baa0d"
   },
   "outputs": [
    {
     "data": {
      "text/html": [
       "<div>\n",
       "<style scoped>\n",
       "    .dataframe tbody tr th:only-of-type {\n",
       "        vertical-align: middle;\n",
       "    }\n",
       "\n",
       "    .dataframe tbody tr th {\n",
       "        vertical-align: top;\n",
       "    }\n",
       "\n",
       "    .dataframe thead th {\n",
       "        text-align: right;\n",
       "    }\n",
       "</style>\n",
       "<table border=\"1\" class=\"dataframe\">\n",
       "  <thead>\n",
       "    <tr style=\"text-align: right;\">\n",
       "      <th></th>\n",
       "      <th>lead_cast</th>\n",
       "      <th>id</th>\n",
       "      <th>rating</th>\n",
       "    </tr>\n",
       "  </thead>\n",
       "  <tbody>\n",
       "    <tr>\n",
       "      <th>4721</th>\n",
       "      <td>George Clooney</td>\n",
       "      <td>24</td>\n",
       "      <td>2.004834</td>\n",
       "    </tr>\n",
       "    <tr>\n",
       "      <th>5770</th>\n",
       "      <td>Jack Nicholson</td>\n",
       "      <td>27</td>\n",
       "      <td>1.692849</td>\n",
       "    </tr>\n",
       "    <tr>\n",
       "      <th>1897</th>\n",
       "      <td>Bruce Willis</td>\n",
       "      <td>43</td>\n",
       "      <td>1.618571</td>\n",
       "    </tr>\n",
       "    <tr>\n",
       "      <th>6889</th>\n",
       "      <td>Johnny Depp</td>\n",
       "      <td>39</td>\n",
       "      <td>1.615327</td>\n",
       "    </tr>\n",
       "    <tr>\n",
       "      <th>9490</th>\n",
       "      <td>Matt Dillon</td>\n",
       "      <td>23</td>\n",
       "      <td>1.601967</td>\n",
       "    </tr>\n",
       "    <tr>\n",
       "      <th>9658</th>\n",
       "      <td>Mel Gibson</td>\n",
       "      <td>32</td>\n",
       "      <td>1.540708</td>\n",
       "    </tr>\n",
       "    <tr>\n",
       "      <th>10523</th>\n",
       "      <td>Nicolas Cage</td>\n",
       "      <td>55</td>\n",
       "      <td>1.488924</td>\n",
       "    </tr>\n",
       "    <tr>\n",
       "      <th>13739</th>\n",
       "      <td>Til Schweiger</td>\n",
       "      <td>21</td>\n",
       "      <td>1.475430</td>\n",
       "    </tr>\n",
       "    <tr>\n",
       "      <th>2534</th>\n",
       "      <td>Christopher Lambert</td>\n",
       "      <td>24</td>\n",
       "      <td>1.464314</td>\n",
       "    </tr>\n",
       "    <tr>\n",
       "      <th>13875</th>\n",
       "      <td>Tom Hanks</td>\n",
       "      <td>41</td>\n",
       "      <td>1.418876</td>\n",
       "    </tr>\n",
       "    <tr>\n",
       "      <th>4687</th>\n",
       "      <td>Gene Hackman</td>\n",
       "      <td>32</td>\n",
       "      <td>1.389346</td>\n",
       "    </tr>\n",
       "    <tr>\n",
       "      <th>10537</th>\n",
       "      <td>Nicole Kidman</td>\n",
       "      <td>25</td>\n",
       "      <td>1.377468</td>\n",
       "    </tr>\n",
       "    <tr>\n",
       "      <th>1728</th>\n",
       "      <td>Brad Pitt</td>\n",
       "      <td>23</td>\n",
       "      <td>1.374541</td>\n",
       "    </tr>\n",
       "    <tr>\n",
       "      <th>11202</th>\n",
       "      <td>Peter Cushing</td>\n",
       "      <td>25</td>\n",
       "      <td>1.372581</td>\n",
       "    </tr>\n",
       "    <tr>\n",
       "      <th>13860</th>\n",
       "      <td>Tom Cruise</td>\n",
       "      <td>33</td>\n",
       "      <td>1.359227</td>\n",
       "    </tr>\n",
       "    <tr>\n",
       "      <th>11986</th>\n",
       "      <td>Robert Mitchum</td>\n",
       "      <td>31</td>\n",
       "      <td>1.352481</td>\n",
       "    </tr>\n",
       "    <tr>\n",
       "      <th>1109</th>\n",
       "      <td>Arnold Schwarzenegger</td>\n",
       "      <td>31</td>\n",
       "      <td>1.343209</td>\n",
       "    </tr>\n",
       "    <tr>\n",
       "      <th>9767</th>\n",
       "      <td>Michael Douglas</td>\n",
       "      <td>29</td>\n",
       "      <td>1.334106</td>\n",
       "    </tr>\n",
       "    <tr>\n",
       "      <th>12483</th>\n",
       "      <td>Sandra Bullock</td>\n",
       "      <td>25</td>\n",
       "      <td>1.279153</td>\n",
       "    </tr>\n",
       "    <tr>\n",
       "      <th>1413</th>\n",
       "      <td>Ben Stiller</td>\n",
       "      <td>28</td>\n",
       "      <td>1.272535</td>\n",
       "    </tr>\n",
       "  </tbody>\n",
       "</table>\n",
       "</div>"
      ],
      "text/plain": [
       "                   lead_cast  id    rating\n",
       "4721          George Clooney  24  2.004834\n",
       "5770          Jack Nicholson  27  1.692849\n",
       "1897            Bruce Willis  43  1.618571\n",
       "6889             Johnny Depp  39  1.615327\n",
       "9490             Matt Dillon  23  1.601967\n",
       "9658              Mel Gibson  32  1.540708\n",
       "10523           Nicolas Cage  55  1.488924\n",
       "13739          Til Schweiger  21  1.475430\n",
       "2534     Christopher Lambert  24  1.464314\n",
       "13875              Tom Hanks  41  1.418876\n",
       "4687            Gene Hackman  32  1.389346\n",
       "10537          Nicole Kidman  25  1.377468\n",
       "1728               Brad Pitt  23  1.374541\n",
       "11202          Peter Cushing  25  1.372581\n",
       "13860             Tom Cruise  33  1.359227\n",
       "11986         Robert Mitchum  31  1.352481\n",
       "1109   Arnold Schwarzenegger  31  1.343209\n",
       "9767         Michael Douglas  29  1.334106\n",
       "12483         Sandra Bullock  25  1.279153\n",
       "1413             Ben Stiller  28  1.272535"
      ]
     },
     "execution_count": 76,
     "metadata": {
      "tags": []
     },
     "output_type": "execute_result"
    }
   ],
   "source": [
    "x = movies_metadata_ratings_credits.groupby('lead_cast').agg({'id':'nunique', 'rating':'mean'}).reset_index()\n",
    "x[x['id'] > 20].sort_values('rating', ascending=False)[0:20]"
   ]
  },
  {
   "cell_type": "markdown",
   "metadata": {
    "colab_type": "text",
    "id": "vJTF7WIiH93h"
   },
   "source": [
    "### Get the rating, original_title and lead_cast of the highest rates english movies in each year released between 2000 and 2005. Consider only the movies where \"number_of_users_who_rated\" > 1000 (Optional)"
   ]
  },
  {
   "cell_type": "code",
   "execution_count": null,
   "metadata": {
    "colab": {},
    "colab_type": "code",
    "id": "vCrUAI9QH93h",
    "outputId": "26405181-c76a-4a1e-9eae-7e1425d32ad0"
   },
   "outputs": [
    {
     "data": {
      "text/html": [
       "<div>\n",
       "<style scoped>\n",
       "    .dataframe tbody tr th:only-of-type {\n",
       "        vertical-align: middle;\n",
       "    }\n",
       "\n",
       "    .dataframe tbody tr th {\n",
       "        vertical-align: top;\n",
       "    }\n",
       "\n",
       "    .dataframe thead th {\n",
       "        text-align: right;\n",
       "    }\n",
       "</style>\n",
       "<table border=\"1\" class=\"dataframe\">\n",
       "  <thead>\n",
       "    <tr style=\"text-align: right;\">\n",
       "      <th></th>\n",
       "      <th>release_date_year</th>\n",
       "      <th>original_title</th>\n",
       "      <th>lead_cast</th>\n",
       "      <th>rating</th>\n",
       "    </tr>\n",
       "  </thead>\n",
       "  <tbody>\n",
       "    <tr>\n",
       "      <th>4020</th>\n",
       "      <td>2000</td>\n",
       "      <td>The Million Dollar Hotel</td>\n",
       "      <td>Mel Gibson</td>\n",
       "      <td>4.429015</td>\n",
       "    </tr>\n",
       "    <tr>\n",
       "      <th>43836</th>\n",
       "      <td>2001</td>\n",
       "      <td>Totally Blonde</td>\n",
       "      <td>Krista Allen</td>\n",
       "      <td>4.033480</td>\n",
       "    </tr>\n",
       "    <tr>\n",
       "      <th>5325</th>\n",
       "      <td>2002</td>\n",
       "      <td>Men in Black II</td>\n",
       "      <td>Tommy Lee Jones</td>\n",
       "      <td>4.105347</td>\n",
       "    </tr>\n",
       "    <tr>\n",
       "      <th>6141</th>\n",
       "      <td>2003</td>\n",
       "      <td>The Good Thief</td>\n",
       "      <td>Nick Nolte</td>\n",
       "      <td>4.187873</td>\n",
       "    </tr>\n",
       "    <tr>\n",
       "      <th>7938</th>\n",
       "      <td>2004</td>\n",
       "      <td>The Bourne Supremacy</td>\n",
       "      <td>Matt Damon</td>\n",
       "      <td>3.978199</td>\n",
       "    </tr>\n",
       "    <tr>\n",
       "      <th>10089</th>\n",
       "      <td>2005</td>\n",
       "      <td>Madagascar</td>\n",
       "      <td>Ben Stiller</td>\n",
       "      <td>4.016309</td>\n",
       "    </tr>\n",
       "  </tbody>\n",
       "</table>\n",
       "</div>"
      ],
      "text/plain": [
       "       release_date_year            original_title        lead_cast    rating\n",
       "4020                2000  The Million Dollar Hotel       Mel Gibson  4.429015\n",
       "43836               2001            Totally Blonde     Krista Allen  4.033480\n",
       "5325                2002           Men in Black II  Tommy Lee Jones  4.105347\n",
       "6141                2003            The Good Thief       Nick Nolte  4.187873\n",
       "7938                2004      The Bourne Supremacy       Matt Damon  3.978199\n",
       "10089               2005                Madagascar      Ben Stiller  4.016309"
      ]
     },
     "execution_count": 77,
     "metadata": {
      "tags": []
     },
     "output_type": "execute_result"
    }
   ],
   "source": [
    "g = movies_metadata_ratings_credits[(movies_metadata_ratings_credits['release_date_year'] >= 2000) &\n",
    "                    (movies_metadata_ratings_credits['release_date_year'] <= 2005) &\n",
    "        (movies_metadata_ratings_credits['original_language'] == 'en') &\n",
    "            (movies_metadata_ratings_credits['number_of_users_who_rated'] > 1000)].groupby('release_date_year')\n",
    "\n",
    "movies_metadata_ratings_credits.iloc[g['rating'].idxmax()][['release_date_year', \n",
    "                                                            'original_title', 'lead_cast', 'rating']]"
   ]
  },
  {
   "cell_type": "markdown",
   "metadata": {
    "colab_type": "text",
    "id": "rbzPjDQEH93j"
   },
   "source": [
    "   "
   ]
  },
  {
   "cell_type": "markdown",
   "metadata": {
    "colab_type": "text",
    "id": "Kb_7b6PxH93k"
   },
   "source": [
    "   "
   ]
  },
  {
   "cell_type": "markdown",
   "metadata": {
    "colab_type": "text",
    "id": "PtAoBvSuH93k"
   },
   "source": [
    "# Plotting techniques\n",
    "**<a href=\"https://pythonspot.com/matplotlib/\">Reference for Plotting with Matplotlib</a> <br>**\n",
    "**Keep all plot sizes at 5x10 unless specified otherwise**"
   ]
  },
  {
   "cell_type": "markdown",
   "metadata": {
    "colab_type": "text",
    "id": "eCnIQYW0H93k"
   },
   "source": [
    "### List & Plot bar graph of 10 biggest production companies by Revenue\n",
    "Use 'production_companies_major' variable"
   ]
  },
  {
   "cell_type": "code",
   "execution_count": null,
   "metadata": {
    "colab": {},
    "colab_type": "code",
    "id": "nviD5WVYH93k",
    "outputId": "fa424e63-86ed-4224-f52d-25841fc35cca"
   },
   "outputs": [
    {
     "data": {
      "image/png": "[encoded data removed]",
      "text/plain": [
       "<Figure size 720x360 with 1 Axes>"
      ]
     },
     "metadata": {
      "needs_background": "light",
      "tags": []
     },
     "output_type": "display_data"
    }
   ],
   "source": [
    "x = movies_metadata.groupby('production_companies_major')['revenue'].sum().sort_values(ascending=False)[0:10]\n",
    "plt.figure(figsize=(10, 5))\n",
    "x.plot(kind='bar')\n",
    "plt.show()"
   ]
  },
  {
   "cell_type": "markdown",
   "metadata": {
    "colab_type": "text",
    "id": "lAJ9f-WxH93m"
   },
   "source": [
    "### Plot pie chart for the percentage of major spoken language of the movies  \n",
    "**Make figure size 6 x 6** <br>\n",
    "**Mark Languages other than 'English', 'Español', 'Italiano' as 'Others'** <br>\n",
    "**Add labels for the pies to the chart**"
   ]
  },
  {
   "cell_type": "code",
   "execution_count": null,
   "metadata": {
    "colab": {},
    "colab_type": "code",
    "id": "LWb6tkWgH93n",
    "outputId": "abfd524a-444b-46a1-bf6e-e78480b26015"
   },
   "outputs": [
    {
     "data": {
      "image/png": "[encoded data removed]",
      "text/plain": [
       "<Figure size 432x432 with 1 Axes>"
      ]
     },
     "metadata": {
      "tags": []
     },
     "output_type": "display_data"
    }
   ],
   "source": [
    "plt.figure(figsize=(6,6))\n",
    "\n",
    "x = movies_metadata[['id', 'spoken_languages_major']]\n",
    "x['spoken_languages_major'] = x['spoken_languages_major'].apply(lambda x: x if x in ('English', \n",
    "                                                                                     'Español', 'Italiano') else 'Others')\n",
    "y = x.groupby('spoken_languages_major')['id'].nunique()\n",
    "plt.pie(y.values, \n",
    "        labels=y.index)\n",
    "plt.show()"
   ]
  },
  {
   "cell_type": "markdown",
   "metadata": {
    "colab_type": "text",
    "id": "t51X2unjH93p"
   },
   "source": [
    "### Plot pie chart for the number of movies in each genre using major genre column \n",
    "**Make chart size as 10x10**<br>\n",
    "**Add plot titles**"
   ]
  },
  {
   "cell_type": "code",
   "execution_count": null,
   "metadata": {
    "colab": {},
    "colab_type": "code",
    "id": "UD3APai2H93q",
    "outputId": "f98f04a0-1592-4754-f549-f408a621e497"
   },
   "outputs": [
    {
     "data": {
      "image/png": "[encoded data removed]",
      "text/plain": [
       "<Figure size 720x720 with 1 Axes>"
      ]
     },
     "metadata": {
      "tags": []
     },
     "output_type": "display_data"
    }
   ],
   "source": [
    "plt.figure(figsize=(10,10))\n",
    "\n",
    "x = movies_metadata.groupby('genres_major')['id'].nunique()\n",
    "plt.pie(x, labels=x.index, rotatelabels=True, labeldistance=1)\n",
    "plt.show()"
   ]
  },
  {
   "cell_type": "markdown",
   "metadata": {
    "colab_type": "text",
    "id": "73qXkmUBH93t"
   },
   "source": [
    "### Plot bar chart for the number of movies produced in each country for the top 10 major countries\n",
    "**Add title and axis labels to the plot (set fontsize to 14). Exclude nulls and empty strings and use production_countries_major**"
   ]
  },
  {
   "cell_type": "code",
   "execution_count": null,
   "metadata": {
    "colab": {},
    "colab_type": "code",
    "id": "5xJU-JUgH93t",
    "outputId": "51cdbc1f-3a84-4483-d13b-6ee580f8534f"
   },
   "outputs": [
    {
     "data": {
      "image/png": "[encoded data removed]",
      "text/plain": [
       "<Figure size 720x360 with 1 Axes>"
      ]
     },
     "metadata": {
      "needs_background": "light",
      "tags": []
     },
     "output_type": "display_data"
    }
   ],
   "source": [
    "x = movies_metadata[movies_metadata['production_countries_major']!=''].groupby(\n",
    "    'production_countries_major')['id'].nunique().sort_values(ascending=False)[0:10]\n",
    "plt.figure(figsize=(10,5))\n",
    "x.plot(kind='bar')\n",
    "plt.title('Number of Movies Produced by Country', fontsize=14)\n",
    "plt.xlabel('Country', fontsize=14)\n",
    "plt.ylabel('Count of Movies', fontsize=14)\n",
    "plt.show()"
   ]
  },
  {
   "cell_type": "markdown",
   "metadata": {
    "colab_type": "text",
    "id": "ss2tnVukH93v"
   },
   "source": [
    "### Add annotation i.e. the values for each bar in the above chart (Optional)"
   ]
  },
  {
   "cell_type": "code",
   "execution_count": null,
   "metadata": {
    "colab": {},
    "colab_type": "code",
    "id": "Fh1S6a8DH93w",
    "outputId": "61485f87-e2de-4b0d-b447-e30086620060"
   },
   "outputs": [
    {
     "data": {
      "image/png": "[encoded data removed]",
      "text/plain": [
       "<Figure size 864x432 with 1 Axes>"
      ]
     },
     "metadata": {
      "needs_background": "light",
      "tags": []
     },
     "output_type": "display_data"
    }
   ],
   "source": [
    "x = movies_metadata[movies_metadata['production_countries_major']!=''].groupby(\n",
    "    'production_countries_major')['id'].nunique().sort_values(ascending=False)[0:10]\n",
    "plt.figure(figsize=(12,6))\n",
    "ax = x.plot(kind='bar')\n",
    "plt.title('Number of Movies Produced by Country', fontsize=14)\n",
    "plt.xlabel('Country', fontsize=14)\n",
    "plt.ylabel('Count of Movies', fontsize=14)\n",
    "i = 0\n",
    "for val in x.values:\n",
    "    ax.text(s=val, y=val+300, x =i-0.22)\n",
    "    i+=1\n",
    "plt.show()"
   ]
  },
  {
   "cell_type": "markdown",
   "metadata": {
    "colab_type": "text",
    "id": "6UEVYt15H93y"
   },
   "source": [
    "### Plot two histograms showing distribution of rating and vote_average. Use Subplot.\n",
    "**Use 5 bins for rating and 10 bins for vote_average**"
   ]
  },
  {
   "cell_type": "code",
   "execution_count": null,
   "metadata": {
    "colab": {},
    "colab_type": "code",
    "id": "1hlc_8COH93y",
    "outputId": "9dd09a16-3ced-4925-ab4b-cc35032d0238"
   },
   "outputs": [
    {
     "data": {
      "image/png": "[encoded data removed]",
      "text/plain": [
       "<Figure size 576x720 with 2 Axes>"
      ]
     },
     "metadata": {
      "needs_background": "light",
      "tags": []
     },
     "output_type": "display_data"
    }
   ],
   "source": [
    "plt.figure(figsize=(8, 10))\n",
    "\n",
    "plt.subplot(2,1,1)\n",
    "plt.title('Rating')\n",
    "plt.hist(movies_metadata_ratings_credits['rating'], bins=5, density=True)\n",
    "\n",
    "plt.subplot(2,1,2)\n",
    "plt.title('Vote Average')\n",
    "plt.hist(movies_metadata_ratings_credits['vote_average'], bins=10, density=True)\n",
    "\n",
    "plt.show()"
   ]
  },
  {
   "cell_type": "markdown",
   "metadata": {
    "colab_type": "text",
    "id": "3GMsnbVxH930"
   },
   "source": [
    "### Plot a scatter plot between budget and revenue \n",
    "**Add axis labels and titles**"
   ]
  },
  {
   "cell_type": "code",
   "execution_count": null,
   "metadata": {
    "colab": {},
    "colab_type": "code",
    "id": "LqzpyvaBH930",
    "outputId": "07a7dd99-e132-46ef-fb10-8167ece477a3"
   },
   "outputs": [
    {
     "data": {
      "image/png": "[encoded data removed]",
      "text/plain": [
       "<Figure size 864x432 with 1 Axes>"
      ]
     },
     "metadata": {
      "needs_background": "light",
      "tags": []
     },
     "output_type": "display_data"
    }
   ],
   "source": [
    "plt.figure(figsize=(12, 6))\n",
    "plt.scatter(movies_metadata['budget'], movies_metadata['revenue'])\n",
    "plt.title('Budget vs Revenue', fontsize=14)\n",
    "plt.xlabel('Budget', fontsize=14)\n",
    "plt.ylabel('Revenue', fontsize=14)\n",
    "plt.show()"
   ]
  },
  {
   "cell_type": "markdown",
   "metadata": {
    "colab_type": "text",
    "id": "EAhx8vFRH932"
   },
   "source": [
    "### Remove outliers from both budget and revenue and plot again \n",
    "**Use mean + (2 * sigma) and mean - (2 * sigma) for outlier thresholding**\n",
    "\n",
    "**<a href=\"https://machinelearningmastery.com/how-to-use-statistics-to-identify-outliers-in-data/\">Outliers Based on Mean and SD</a>**"
   ]
  },
  {
   "cell_type": "code",
   "execution_count": null,
   "metadata": {
    "colab": {},
    "colab_type": "code",
    "id": "2ydlvVhPH932",
    "outputId": "d5f91b66-1367-48db-ffb9-4bc2001522e5"
   },
   "outputs": [
    {
     "data": {
      "image/png": "[encoded data removed]",
      "text/plain": [
       "<Figure size 864x432 with 1 Axes>"
      ]
     },
     "metadata": {
      "needs_background": "light",
      "tags": []
     },
     "output_type": "display_data"
    }
   ],
   "source": [
    "x = movies_metadata['budget']\n",
    "y = movies_metadata['revenue']\n",
    "\n",
    "x_pos_thresh = np.mean(x) + (2* np.std(x))\n",
    "x_neg_thresh = np.mean(x) - (2* np.std(x))\n",
    "\n",
    "y_pos_thresh = np.mean(y) + (2* np.std(y))\n",
    "y_neg_thresh = np.mean(y) - (2* np.std(y))\n",
    "\n",
    "temp1 = movies_metadata[['budget', 'revenue']][(movies_metadata['budget'] < x_pos_thresh) & \n",
    "                                       (movies_metadata['budget'] > x_neg_thresh) &\n",
    "                                       (movies_metadata['revenue'] < y_pos_thresh) & \n",
    "                                       (movies_metadata['revenue'] > y_neg_thresh)]\n",
    "\n",
    "plt.figure(figsize=(12, 6))\n",
    "plt.scatter(temp1['budget'], temp1['revenue'])\n",
    "plt.title('Budget vs Revenue', fontsize=14)\n",
    "plt.xlabel('Budget', fontsize=14)\n",
    "plt.ylabel('Revenue', fontsize=14)\n",
    "plt.show()"
   ]
  },
  {
   "cell_type": "markdown",
   "metadata": {
    "colab_type": "text",
    "id": "J18aWFOoH934"
   },
   "source": [
    "### Add trend line to the above plot and calculate correlation (Optional)\n",
    "**Hint: Use Seaborn**"
   ]
  },
  {
   "cell_type": "code",
   "execution_count": null,
   "metadata": {
    "colab": {},
    "colab_type": "code",
    "id": "DDUyH6uPH934",
    "outputId": "d842ce1a-8598-4147-9419-a4f108a6f2f7"
   },
   "outputs": [
    {
     "data": {
      "image/png": "[encoded data removed]",
      "text/plain": [
       "<Figure size 864x432 with 1 Axes>"
      ]
     },
     "metadata": {
      "needs_background": "light",
      "tags": []
     },
     "output_type": "display_data"
    }
   ],
   "source": [
    "plt.figure(figsize=(12, 6))\n",
    "sns.regplot(temp1['budget'], temp1['revenue'])\n",
    "plt.title('Budget vs Revenue', fontsize=14)\n",
    "plt.xlabel('Budget', fontsize=14)\n",
    "plt.ylabel('Revenue', fontsize=14)\n",
    "plt.show()"
   ]
  },
  {
   "cell_type": "code",
   "execution_count": null,
   "metadata": {
    "colab": {},
    "colab_type": "code",
    "id": "2Ph-SUxuH937",
    "outputId": "5ea228a5-dd0d-4c90-a69c-bf7a97c20ca3"
   },
   "outputs": [
    {
     "data": {
      "text/html": [
       "<div>\n",
       "<style scoped>\n",
       "    .dataframe tbody tr th:only-of-type {\n",
       "        vertical-align: middle;\n",
       "    }\n",
       "\n",
       "    .dataframe tbody tr th {\n",
       "        vertical-align: top;\n",
       "    }\n",
       "\n",
       "    .dataframe thead th {\n",
       "        text-align: right;\n",
       "    }\n",
       "</style>\n",
       "<table border=\"1\" class=\"dataframe\">\n",
       "  <thead>\n",
       "    <tr style=\"text-align: right;\">\n",
       "      <th></th>\n",
       "      <th>budget</th>\n",
       "      <th>revenue</th>\n",
       "    </tr>\n",
       "  </thead>\n",
       "  <tbody>\n",
       "    <tr>\n",
       "      <th>budget</th>\n",
       "      <td>1.000000</td>\n",
       "      <td>0.558717</td>\n",
       "    </tr>\n",
       "    <tr>\n",
       "      <th>revenue</th>\n",
       "      <td>0.558717</td>\n",
       "      <td>1.000000</td>\n",
       "    </tr>\n",
       "  </tbody>\n",
       "</table>\n",
       "</div>"
      ],
      "text/plain": [
       "           budget   revenue\n",
       "budget   1.000000  0.558717\n",
       "revenue  0.558717  1.000000"
      ]
     },
     "execution_count": 93,
     "metadata": {
      "tags": []
     },
     "output_type": "execute_result"
    }
   ],
   "source": [
    "temp1.corr()"
   ]
  },
  {
   "cell_type": "markdown",
   "metadata": {
    "colab_type": "text",
    "id": "c3EbSWBdH938"
   },
   "source": [
    "### Plot the Mean Revenue vs Date and Mean Budget vs Date using Subplots (Subset only for 2012)\n",
    "**Add titles for both plots. Make plot size as 16*10**"
   ]
  },
  {
   "cell_type": "code",
   "execution_count": null,
   "metadata": {
    "colab": {},
    "colab_type": "code",
    "id": "5GLjXZJfH939",
    "outputId": "ceee4b7a-c7ea-4883-e33a-997a10ec4a39"
   },
   "outputs": [
    {
     "data": {
      "image/png": "[encoded data removed]",
      "text/plain": [
       "<Figure size 1152x720 with 2 Axes>"
      ]
     },
     "metadata": {
      "needs_background": "light",
      "tags": []
     },
     "output_type": "display_data"
    }
   ],
   "source": [
    "plt.figure(figsize=(16, 10))\n",
    "plt.subplot(2,1,1)\n",
    "plt.title('Revenue vs Date')\n",
    "r = movies_metadata[(movies_metadata['release_date_year'] == 2012)][['release_date_dt', \n",
    "                                'revenue']].groupby('release_date_dt')['revenue'].mean()\n",
    "plt.plot(r)\n",
    "\n",
    "\n",
    "plt.subplot(2,1,2)\n",
    "plt.title('Budget vs Date')\n",
    "b = movies_metadata[(movies_metadata['release_date_year'] == 2012)][['release_date_dt', \n",
    "                                'budget']].groupby('release_date_dt')['budget'].mean()\n",
    "plt.plot(b)\n",
    "\n",
    "\n",
    "plt.tight_layout()\n",
    "plt.show()"
   ]
  },
  {
   "cell_type": "markdown",
   "metadata": {
    "colab_type": "text",
    "id": "xUapUSuTH93_"
   },
   "source": [
    "### Create the same plot as above without subplots and overlap in the same plot and add legends\n",
    "**Make budget color as green and revenue color as red. Also make the revenue line style as dashed. Make plot sizes as 16*10**"
   ]
  },
  {
   "cell_type": "code",
   "execution_count": null,
   "metadata": {
    "colab": {},
    "colab_type": "code",
    "id": "zLOlgxwNH93_",
    "outputId": "0a870492-c30e-432f-c7d8-f3a10ddf2aa5"
   },
   "outputs": [
    {
     "data": {
      "image/png": "[encoded data removed]",
      "text/plain": [
       "<Figure size 1152x576 with 1 Axes>"
      ]
     },
     "metadata": {
      "needs_background": "light",
      "tags": []
     },
     "output_type": "display_data"
    }
   ],
   "source": [
    "plt.figure(figsize=(16, 8))\n",
    "plt.title('Revenue/Budget vs Date', fontsize=14)\n",
    "r = movies_metadata[(movies_metadata['release_date_year'] == 2012)][['release_date_dt', \n",
    "                                'revenue']].groupby('release_date_dt')['revenue'].mean()\n",
    "b = movies_metadata[(movies_metadata['release_date_year'] == 2012)][['release_date_dt', \n",
    "                                'budget']].groupby('release_date_dt')['budget'].mean()\n",
    "\n",
    "plt.plot(b, color=\"green\")\n",
    "plt.plot(r, color=\"red\", linestyle=\"--\")\n",
    "plt.legend()\n",
    "plt.xlabel('Date')\n",
    "plt.ylabel('Revenue/Budget')\n",
    "plt.tight_layout()\n",
    "plt.show()"
   ]
  },
  {
   "cell_type": "markdown",
   "metadata": {
    "colab_type": "text",
    "id": "tAojyByuH94A"
   },
   "source": [
    "### Create Box-plot for revenue, budget, popularity, rating and vote_average\n",
    "**Make 4 subplots. Keep revenue and budget box plots in the same subplot and the rest in different subplots**<br>\n",
    "**Add subtitles for each subplot**"
   ]
  },
  {
   "cell_type": "code",
   "execution_count": null,
   "metadata": {
    "colab": {},
    "colab_type": "code",
    "id": "mCs8OjuRH94A",
    "outputId": "9341ca2a-6f8e-41aa-fa38-bab20b631b78"
   },
   "outputs": [
    {
     "data": {
      "image/png": "[encoded data removed]",
      "text/plain": [
       "<Figure size 1152x864 with 4 Axes>"
      ]
     },
     "metadata": {
      "needs_background": "light",
      "tags": []
     },
     "output_type": "display_data"
    }
   ],
   "source": [
    "plt.figure(figsize=(16, 12))\n",
    "\n",
    "plt.subplot(2,2,1)\n",
    "plt.title('Popularity')\n",
    "movies_metadata_ratings_credits[['popularity']].boxplot()\n",
    "\n",
    "\n",
    "plt.subplot(2,2,2)\n",
    "plt.title('Budget & Revenue')\n",
    "movies_metadata_ratings_credits[['budget', 'revenue']].boxplot()\n",
    "\n",
    "plt.subplot(2,2,3)\n",
    "plt.title('Rating')\n",
    "movies_metadata_ratings_credits[['rating']].boxplot()\n",
    "\n",
    "plt.subplot(2,2,4)\n",
    "plt.title('Vote Average')\n",
    "movies_metadata_ratings_credits[['vote_average']].boxplot()\n",
    "\n",
    "plt.show()"
   ]
  },
  {
   "cell_type": "markdown",
   "metadata": {
    "colab_type": "text",
    "id": "8QK5aI58H94C"
   },
   "source": [
    "###  Remove or treat outliers and create the Box-plots created above again  (Optional)\n",
    "**Use Interquartile Range to remove outliers**<br>\n",
    "**<a href=\"https://www.khanacademy.org/math/statistics-probability/summarizing-quantitative-data/box-whisker-plots/a/identifying-outliers-iqr-rule\">IQR</a>**"
   ]
  },
  {
   "cell_type": "code",
   "execution_count": null,
   "metadata": {
    "colab": {},
    "colab_type": "code",
    "id": "BX0o-_lMH94C"
   },
   "outputs": [],
   "source": []
  },
  {
   "cell_type": "markdown",
   "metadata": {
    "colab_type": "text",
    "id": "0EXQmPKyH94E"
   },
   "source": [
    "### Create Correlation plot for all the numeric variables in movies_metadata\n",
    "**Hint: Use Seaborn Heatmap and Make plot size 14x10**"
   ]
  },
  {
   "cell_type": "code",
   "execution_count": null,
   "metadata": {
    "colab": {},
    "colab_type": "code",
    "id": "DEU5GP_YH94E",
    "outputId": "b2c47e46-36d2-4e59-9af4-98a8968030ac"
   },
   "outputs": [
    {
     "data": {
      "image/png": "[encoded data removed]",
      "text/plain": [
       "<Figure size 1008x720 with 2 Axes>"
      ]
     },
     "metadata": {
      "needs_background": "light",
      "tags": []
     },
     "output_type": "display_data"
    }
   ],
   "source": [
    "plt.figure(figsize=(14,10))\n",
    "sns.heatmap(movies_metadata_ratings_credits[['revenue', 'budget', 'rating', 'popularity', 'vote_average']].corr(), \n",
    "            annot=True, linewidths=1)\n",
    "plt.show()"
   ]
  }
 ],
 "metadata": {
  "colab": {
   "name": "Dataset Notebook with Solutions - Loading, Subsetting, Grouping, Joining, Plotting.ipynb",
   "provenance": [],
   "version": "0.3.2"
  },
  "kernelspec": {
   "display_name": "Python 3",
   "language": "python",
   "name": "python3"
  },
  "language_info": {
   "codemirror_mode": {
    "name": "ipython",
    "version": 3
   },
   "file_extension": ".py",
   "mimetype": "text/x-python",
   "name": "python",
   "nbconvert_exporter": "python",
   "pygments_lexer": "ipython3",
   "version": "3.8.2"
  }
 },
 "nbformat": 4,
 "nbformat_minor": 4
}
