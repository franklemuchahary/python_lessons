{
 "cells": [
  {
   "cell_type": "markdown",
   "metadata": {},
   "source": [
    "## How to Speed Up your Python Code using Concurrent Programming\n",
    "\n",
    "Concurrency in python can be achieved in three ways: <br>     \n",
    "<li> Multiprocessing \n",
    "<li> Multithreading \n",
    "<li> Asyncio (Asynchornous Code) \n",
    "\n",
    "<br>    \n",
    "Concurrency in programming terms means being able to carry out multiple operations at once. This can be achieved using any of the three ways mentioned above with each having its own caveats. \n",
    "\n",
    "Concurrency is generally useful for solving two types of problems: `I/O Bound Problems` and `CPU Bound Problems`. Comparison of the two:\n",
    "\n",
    "<img src=\"data/2.PNG\" height=100 width=800 /> \n",
    "<br>\n",
    "\n",
    "We need to choose different types of solutions for solving these problems. Multiprocessing is the solution which obtains true parallelism by spreading the tasks across the different cores of the computer. Threading and Asyncio still use only one process but intelligently finds ways to take turns and speed up the entire process.\n",
    "\n",
    "<img src=\"data/1.PNG\" height=100 width=800 />\n",
    "<br>"
   ]
  },
  {
   "cell_type": "code",
   "execution_count": 29,
   "metadata": {},
   "outputs": [],
   "source": [
    "import requests\n",
    "import time\n",
    "\n",
    "import threading\n",
    "import concurrent.futures\n",
    "\n",
    "import asyncio\n",
    "import aiohttp\n",
    "\n",
    "import multiprocessing as mp\n",
    "from itertools import product\n",
    "\n",
    "import pandas as pd\n",
    "import numpy as np\n",
    "\n",
    "from mp_imports import *"
   ]
  },
  {
   "cell_type": "raw",
   "metadata": {},
   "source": [
    "from importlib import reload  \n",
    "import mp_imports\n",
    "\n",
    "reload(mp_imports)"
   ]
  },
  {
   "cell_type": "markdown",
   "metadata": {},
   "source": [
    "\n",
    "### We will run through two examples to understand these three approaches:\n",
    "- We will try to hit multiple websites concurrently and get data from these websites (Kind of like what we do in scraping) -> This is an I/O bound task   \n",
    "- We will try to do some calculations on a large dataset which will take time because of the dataset size -> This is a CPU bound task\n"
   ]
  },
  {
   "cell_type": "markdown",
   "metadata": {},
   "source": [
    "# Example 1: I/O Bound Task\n"
   ]
  },
  {
   "cell_type": "code",
   "execution_count": 3,
   "metadata": {},
   "outputs": [
    {
     "name": "stdout",
     "output_type": "stream",
     "text": [
      "['https://heeeeeeeey.com/', 'https://hooooooooo.com/', 'https://heeeeeeeey.com/', 'https://hooooooooo.com/', 'https://heeeeeeeey.com/', 'https://hooooooooo.com/', 'https://heeeeeeeey.com/', 'https://hooooooooo.com/', 'https://heeeeeeeey.com/', 'https://hooooooooo.com/', 'https://heeeeeeeey.com/', 'https://hooooooooo.com/', 'https://heeeeeeeey.com/', 'https://hooooooooo.com/', 'https://heeeeeeeey.com/', 'https://hooooooooo.com/', 'https://heeeeeeeey.com/', 'https://hooooooooo.com/', 'https://heeeeeeeey.com/', 'https://hooooooooo.com/']\n"
     ]
    }
   ],
   "source": [
    "### Initialize URL List\n",
    "url_list = ['https://heeeeeeeey.com/', 'https://hooooooooo.com/'] * 10\n",
    "\n",
    "print(url_list)"
   ]
  },
  {
   "cell_type": "markdown",
   "metadata": {},
   "source": [
    "### Synchronous Example\n",
    "\n",
    "We will try to hit the 20 urls in the list mentioned above one after ther other and measure the time taken"
   ]
  },
  {
   "cell_type": "code",
   "execution_count": 4,
   "metadata": {},
   "outputs": [],
   "source": [
    "def download_single_page(url, index):\n",
    "    status = requests.get(url)\n",
    "    print(status)\n",
    "    return (index, status)\n",
    "\n",
    "def download_web_pages(url_list):\n",
    "    result = []\n",
    "    for index, url in enumerate(url_list):\n",
    "        index, status = download_single_page(url, index)\n",
    "        result.append((index, status))\n",
    "    return result"
   ]
  },
  {
   "cell_type": "code",
   "execution_count": 5,
   "metadata": {},
   "outputs": [
    {
     "name": "stdout",
     "output_type": "stream",
     "text": [
      "<Response [200]>\n",
      "<Response [200]>\n",
      "<Response [200]>\n",
      "<Response [200]>\n",
      "<Response [200]>\n",
      "<Response [200]>\n",
      "<Response [200]>\n",
      "<Response [200]>\n",
      "<Response [200]>\n",
      "<Response [200]>\n",
      "<Response [200]>\n",
      "<Response [200]>\n",
      "<Response [200]>\n",
      "<Response [200]>\n",
      "<Response [200]>\n",
      "<Response [200]>\n",
      "<Response [200]>\n",
      "<Response [200]>\n",
      "<Response [200]>\n",
      "<Response [200]>\n",
      "Time Taken:  5.823001146316528\n",
      "[(0, <Response [200]>), (1, <Response [200]>), (2, <Response [200]>), (3, <Response [200]>), (4, <Response [200]>), (5, <Response [200]>), (6, <Response [200]>), (7, <Response [200]>), (8, <Response [200]>), (9, <Response [200]>), (10, <Response [200]>), (11, <Response [200]>), (12, <Response [200]>), (13, <Response [200]>), (14, <Response [200]>), (15, <Response [200]>), (16, <Response [200]>), (17, <Response [200]>), (18, <Response [200]>), (19, <Response [200]>)]\n"
     ]
    }
   ],
   "source": [
    "start = time.time()\n",
    "\n",
    "result = download_web_pages(url_list)\n",
    "end = time.time()\n",
    "\n",
    "print(\"Time Taken: \", end-start)\n",
    "print(result)"
   ]
  },
  {
   "cell_type": "markdown",
   "metadata": {},
   "source": [
    "**How the Synchornous version is working**\n",
    "\n",
    "<img src=\"data/Synchronous_Executions.jpg\" height=100 width=800 />"
   ]
  },
  {
   "cell_type": "markdown",
   "metadata": {},
   "source": [
    "###  Threading Example \n",
    "We will try to hit the same 20 urls but using threading this time"
   ]
  },
  {
   "cell_type": "code",
   "execution_count": 7,
   "metadata": {},
   "outputs": [
    {
     "name": "stdout",
     "output_type": "stream",
     "text": [
      "<Response [200]>\n",
      "<Response [200]>\n",
      "<Response [200]>\n",
      "<Response [200]>\n",
      "<Response [200]>\n",
      "<Response [200]><Response [200]>\n",
      "\n",
      "<Response [200]>\n",
      "<Response [200]>\n",
      "<Response [200]><Response [200]><Response [200]><Response [200]>\n",
      "\n",
      "<Response [200]>\n",
      "\n",
      "<Response [200]>\n",
      "<Response [200]>\n",
      "\n",
      "<Response [200]>\n",
      "<Response [200]>\n",
      "<Response [200]>\n",
      "<Response [200]>\n",
      "Time Taken:  0.3823277950286865\n"
     ]
    }
   ],
   "source": [
    "### using the inbuilt threading library\n",
    "\n",
    "start = time.time()\n",
    "\n",
    "threads = [threading.Thread(target = download_single_page, \n",
    "                            args=(url,index)) for index, url in enumerate(url_list)]\n",
    "\n",
    "for thread in threads:\n",
    "    thread.start()\n",
    "\n",
    "for thread in threads:\n",
    "    thread.join()\n",
    "    \n",
    "end = time.time()\n",
    "\n",
    "print(\"Time Taken: \", end-start)"
   ]
  },
  {
   "cell_type": "markdown",
   "metadata": {},
   "source": [
    "Alternate and cleaner implementation of Threading - Use this implemention"
   ]
  },
  {
   "cell_type": "code",
   "execution_count": 8,
   "metadata": {},
   "outputs": [
    {
     "name": "stdout",
     "output_type": "stream",
     "text": [
      "Time Taken:  0.5087528228759766\n"
     ]
    }
   ],
   "source": [
    "def download_single_page_threads(url):\n",
    "    status = requests.get(url)\n",
    "    return (status)\n",
    "\n",
    "start = time.time()\n",
    "\n",
    "with concurrent.futures.ThreadPoolExecutor(max_workers=30) as executor:\n",
    "    results = executor.map(download_single_page_threads, url_list)\n",
    "    result_values = []\n",
    "    for i in results:\n",
    "        result_values.append(i)\n",
    "        \n",
    "end = time.time()\n",
    "print(\"Time Taken: \", end-start)"
   ]
  },
  {
   "cell_type": "code",
   "execution_count": 9,
   "metadata": {},
   "outputs": [
    {
     "name": "stdout",
     "output_type": "stream",
     "text": [
      "[<Response [200]>, <Response [200]>, <Response [200]>, <Response [200]>, <Response [200]>, <Response [200]>, <Response [200]>, <Response [200]>, <Response [200]>, <Response [200]>, <Response [200]>, <Response [200]>, <Response [200]>, <Response [200]>, <Response [200]>, <Response [200]>, <Response [200]>, <Response [200]>, <Response [200]>, <Response [200]>]\n"
     ]
    }
   ],
   "source": [
    "print(result_values)"
   ]
  },
  {
   "cell_type": "markdown",
   "metadata": {},
   "source": [
    "**How the Multithreading version is working**\n",
    "\n",
    "<img src=\"data/Threading.jpg\" width=800 />"
   ]
  },
  {
   "cell_type": "markdown",
   "metadata": {},
   "source": [
    "### AsyncIO Example \n",
    "The same example mentioned above will be implemented below using AsyncIO (Asynchronous Programming)\n",
    "\n"
   ]
  },
  {
   "cell_type": "markdown",
   "metadata": {},
   "source": [
    "**More About AsyncIO and How it Works**  \n",
    "It is made up of the following three main constructs\n",
    "\n",
    "- `Coroutine:` Unlike a conventional function with a single point of exit, a coroutine can pause and resume its execution. Creation of coroutine is as simple as using async keyword before declaring a function.\n",
    "- `Event Loop Or Coordinator:` Coroutine that manages other coroutines. You can think of it as a scheduler or master.\n",
    "- `Futures:` Futures are objects that have the __await__() method implemented, and their job is to hold a certain state and result. The state can be one of the following:  \n",
    "PENDING - future does not have any result or exception set.  \n",
    "CANCELLED - future was cancelled  \n",
    "FINISHED - future was finished, either by a result or by an exception. The result, can either be a Python object, that will be returned, or an exception which may be raised.  \n",
    "\n",
    "<br><br>\n",
    "<img src=\"data/asyncio1.png\" width=800 height=50 />\n",
    "\n",
    "**[Read More Here](https://stackoverflow.com/a/51177895/6267086)**"
   ]
  },
  {
   "cell_type": "markdown",
   "metadata": {},
   "source": [
    "### Example\n",
    "You are cooking in a restaurant. An order comes in for eggs and toast. <br>\n",
    "**Synchronous:** you cook the eggs, then you cook the toast. <br>\n",
    "**Asynchronous:** you start the eggs cooking and set a timer. You start the toast cooking, and set a timer. While they are both cooking, you clean the kitchen. When the timers go off you take the eggs off the heat and the toast out of the toaster and serve them. <br>\n",
    "**Multiprocessing:** you hire two more cooks, one to cook eggs and one to cook toast. Now you have the problem of coordinating the cooks so that they do not conflict with each other in the kitchen when sharing resources. And you have to pay them."
   ]
  },
  {
   "cell_type": "raw",
   "metadata": {},
   "source": [
    "asyncio.set_event_loop(asyncio.new_event_loop())\n",
    "asyncio.get_event_loop().close()"
   ]
  },
  {
   "cell_type": "code",
   "execution_count": 10,
   "metadata": {},
   "outputs": [
    {
     "name": "stdout",
     "output_type": "stream",
     "text": [
      "Time Taken:  0.4359569549560547\n"
     ]
    }
   ],
   "source": [
    "start = time.time()\n",
    "\n",
    "async def download_single_page_async(url, index): \n",
    "    req = aiohttp.request(method='get', url=url)\n",
    "    async with req as response:\n",
    "        status = response.status\n",
    "        return (index, status)  \n",
    "\n",
    "tasks = []\n",
    "\n",
    "for index, url in enumerate(url_list):\n",
    "    task = asyncio.create_task(download_single_page_async(url, index))\n",
    "    tasks.append(task)\n",
    "    \n",
    "await asyncio.wait(tasks)\n",
    "\n",
    "end = time.time()\n",
    "print(\"Time Taken: \", end-start)"
   ]
  },
  {
   "cell_type": "code",
   "execution_count": 11,
   "metadata": {},
   "outputs": [
    {
     "data": {
      "text/plain": [
       "<Task finished name='Task-2' coro=<download_single_page_async() done, defined at <ipython-input-10-2ab1fc22e84f>:3> result=(0, 200)>"
      ]
     },
     "execution_count": 11,
     "metadata": {},
     "output_type": "execute_result"
    }
   ],
   "source": [
    "tasks[0]"
   ]
  },
  {
   "cell_type": "code",
   "execution_count": 12,
   "metadata": {},
   "outputs": [
    {
     "name": "stdout",
     "output_type": "stream",
     "text": [
      "[(0, 200), (1, 200), (2, 200), (3, 200), (4, 200), (5, 200), (6, 200), (7, 200), (8, 200), (9, 200), (10, 200), (11, 200), (12, 200), (13, 200), (14, 200), (15, 200), (16, 200), (17, 200), (18, 200), (19, 200)]\n"
     ]
    }
   ],
   "source": [
    "results = [i.result() for i in tasks]\n",
    "print(results)"
   ]
  },
  {
   "cell_type": "markdown",
   "metadata": {},
   "source": [
    "### **Important concept to check when working with AsyncIO: `Blocking` and `Non-Blocking` Functions**\n",
    "\n",
    "A function is blocking if it has to wait for something to complete. \n",
    "\n",
    "If the function is blocking because it is doing some CPU task, well then we cannot do much. But if it is blocking because of I/O, we know that the CPU is idle and can be used for starting another task that needs CPU.\n",
    "\n",
    "A lot of inbuilt functions available in python will be blocking in nature and not asyncio compatible. Using those functions inside a async function will render the async block useless as it will work in a similar fashion to sequential execution.  \n",
    "\n",
    "Always prefer to use functions that are asyncio compatible or if it is not possible to do that for some long running operations, we can combine `threading` or `multiprocessing` with `asyncio`"
   ]
  },
  {
   "cell_type": "code",
   "execution_count": 13,
   "metadata": {},
   "outputs": [
    {
     "name": "stdout",
     "output_type": "stream",
     "text": [
      "Time Taken:  5.449560880661011\n"
     ]
    }
   ],
   "source": [
    "start = time.time()\n",
    "\n",
    "async def download_single_page_async_v2(url, index): \n",
    "    req = requests.get(url)\n",
    "    return req\n",
    "\n",
    "tasks = []\n",
    "\n",
    "for index, url in enumerate(url_list):\n",
    "    task = asyncio.create_task(download_single_page_async_v2(url, index))\n",
    "    tasks.append(task)\n",
    "    \n",
    "await asyncio.wait(tasks)\n",
    "\n",
    "end = time.time()\n",
    "print(\"Time Taken: \", end-start)"
   ]
  },
  {
   "cell_type": "markdown",
   "metadata": {},
   "source": [
    "\n",
    "The above code block works sequentially instead of utilizing the async method because `requests` is not asyncio compatible   \n",
    "\n",
    "How can we solve issues like this??? By combining `threading` and `asyncio`"
   ]
  },
  {
   "cell_type": "code",
   "execution_count": 14,
   "metadata": {},
   "outputs": [
    {
     "name": "stdout",
     "output_type": "stream",
     "text": [
      "[<Response [200]>, <Response [200]>, <Response [200]>, <Response [200]>, <Response [200]>, <Response [200]>, <Response [200]>, <Response [200]>, <Response [200]>, <Response [200]>, <Response [200]>, <Response [200]>, <Response [200]>, <Response [200]>, <Response [200]>, <Response [200]>, <Response [200]>, <Response [200]>, <Response [200]>, <Response [200]>]\n",
      "\n",
      "Time Taken:  0.38820457458496094\n"
     ]
    }
   ],
   "source": [
    "def download_single_page_async_v2(url): \n",
    "    req = requests.get(url)\n",
    "    return req\n",
    "\n",
    "\n",
    "async def RunBlockingFunction(func, url, n_workers=1):\n",
    "    Loop = asyncio.get_event_loop()\n",
    "    \n",
    "    Thread_Executor = concurrent.futures.ThreadPoolExecutor(max_workers=n_workers)\n",
    "    \n",
    "    Results = await Loop.run_in_executor(Thread_Executor, func, url)\n",
    "\n",
    "    return Results\n",
    "\n",
    "\n",
    "start = time.time()\n",
    "\n",
    "tasks = []\n",
    "\n",
    "for index, url in enumerate(url_list):\n",
    "    task = asyncio.create_task(RunBlockingFunction(download_single_page_async_v2, url, n_workers=1))\n",
    "    tasks.append(task)\n",
    "    \n",
    "await asyncio.wait(tasks)\n",
    "\n",
    "result = [task.result() for task in tasks]\n",
    "print(result, end=\"\\n\\n\")\n",
    "\n",
    "end = time.time()\n",
    "print(\"Time Taken: \", end-start)"
   ]
  },
  {
   "cell_type": "markdown",
   "metadata": {},
   "source": [
    "### Multiprocessing Example\n",
    "I/O Bound Example 1 implemented using multiprocessing. How do you think this will fare compared to the other methods?"
   ]
  },
  {
   "cell_type": "code",
   "execution_count": 15,
   "metadata": {},
   "outputs": [
    {
     "data": {
      "text/plain": [
       "4"
      ]
     },
     "execution_count": 15,
     "metadata": {},
     "output_type": "execute_result"
    }
   ],
   "source": [
    "mp.cpu_count()"
   ]
  },
  {
   "cell_type": "code",
   "execution_count": 16,
   "metadata": {},
   "outputs": [
    {
     "name": "stdout",
     "output_type": "stream",
     "text": [
      "[(0, <Response [200]>), (1, <Response [200]>), (2, <Response [200]>), (3, <Response [200]>), (4, <Response [200]>), (5, <Response [200]>), (6, <Response [200]>), (7, <Response [200]>), (8, <Response [200]>), (9, <Response [200]>), (10, <Response [200]>), (11, <Response [200]>), (12, <Response [200]>), (13, <Response [200]>), (14, <Response [200]>), (15, <Response [200]>), (16, <Response [200]>), (17, <Response [200]>), (18, <Response [200]>), (19, <Response [200]>)]\n",
      "2.6833620071411133\n"
     ]
    }
   ],
   "source": [
    "start = time.time()\n",
    "\n",
    "with mp.Pool(processes = mp.cpu_count()) as pool:\n",
    "    result = pool.starmap(download_single_page_mp,  iterable = [(j,i) for i,j in enumerate(url_list)])\n",
    "    print(result)\n",
    "    \n",
    "end = time.time()\n",
    "print(end-start)"
   ]
  },
  {
   "cell_type": "code",
   "execution_count": 30,
   "metadata": {},
   "outputs": [
    {
     "name": "stdout",
     "output_type": "stream",
     "text": [
      "[2, 4, 6, 8]\n",
      "5.230348110198975\n"
     ]
    }
   ],
   "source": [
    "### Sleep Example\n",
    "\n",
    "start = time.time()\n",
    "\n",
    "with mp.Pool(processes = mp.cpu_count()) as pool:\n",
    "    result = pool.map(sleep_test_mp,  iterable = [1,2,3,4])\n",
    "    print(result)\n",
    "    \n",
    "end = time.time()\n",
    "print(end-start)"
   ]
  },
  {
   "cell_type": "markdown",
   "metadata": {},
   "source": [
    "* Is this a good use of multiprocessing?\n",
    "* What is a good example of using multiprocessing?\n",
    "\n",
    "\n",
    "- This works worse than expected because the CPU is not really doing any intensive task. It's just waiting. Finally, there is also an overhead associated with creating multiple processes."
   ]
  },
  {
   "cell_type": "markdown",
   "metadata": {},
   "source": [
    "**How is the multiprocessing version working???**\n",
    "\n",
    "<img src=\"data/mp_1.jpeg\" height=80 width=800 />"
   ]
  },
  {
   "cell_type": "markdown",
   "metadata": {},
   "source": [
    "# Example 2: CPU Bound Task\n",
    "    \n",
    "**Testing out Data Processing Performance on a Large Dataset using Multiprocessing and Comparing with other methods**"
   ]
  },
  {
   "cell_type": "markdown",
   "metadata": {},
   "source": [
    "### Sequential Implementation"
   ]
  },
  {
   "cell_type": "code",
   "execution_count": 19,
   "metadata": {},
   "outputs": [
    {
     "name": "stdout",
     "output_type": "stream",
     "text": [
      "25.25039792060852\n"
     ]
    },
    {
     "data": {
      "text/plain": [
       "reservation_id                                object\n",
       "booking_date                          datetime64[ns]\n",
       "checkin_date                          datetime64[ns]\n",
       "checkout_date                                 object\n",
       "channel_code                                   int64\n",
       "main_product_code                              int64\n",
       "numberofadults                                 int64\n",
       "numberofchildren                               int64\n",
       "persontravellingid                             int64\n",
       "resort_region_code                             int64\n",
       "resort_type_code                               int64\n",
       "room_type_booked_code                          int64\n",
       "roomnights                                     int64\n",
       "season_holidayed_code                        float64\n",
       "state_code_residence                         float64\n",
       "state_code_resort                              int64\n",
       "total_pax                                      int64\n",
       "member_age_buckets                            object\n",
       "booking_type_code                              int64\n",
       "memberid                                      object\n",
       "cluster_code                                  object\n",
       "reservationstatusid_code                      object\n",
       "resort_id                                     object\n",
       "amount_spent_per_room_night_scaled           float64\n",
       "dtype: object"
      ]
     },
     "execution_count": 19,
     "metadata": {},
     "output_type": "execute_result"
    }
   ],
   "source": [
    "### Sequential Implementation\n",
    "train_df = pd.read_csv('data/Data_For_Multiprocessing.csv')\n",
    "\n",
    "start = time.time()\n",
    "\n",
    "train_df['booking_date'] = pd.to_datetime(train_df['booking_date'])\n",
    "train_df['checkin_date'] = pd.to_datetime(train_df['checkin_date'])\n",
    "#train_df['checkout_date'] = pd.to_datetime(train_df['checkout_date'])\n",
    "\n",
    "end = time.time()\n",
    "print(end-start)\n",
    "\n",
    "train_df.dtypes"
   ]
  },
  {
   "cell_type": "code",
   "execution_count": 20,
   "metadata": {},
   "outputs": [
    {
     "data": {
      "text/html": [
       "<div>\n",
       "<style scoped>\n",
       "    .dataframe tbody tr th:only-of-type {\n",
       "        vertical-align: middle;\n",
       "    }\n",
       "\n",
       "    .dataframe tbody tr th {\n",
       "        vertical-align: top;\n",
       "    }\n",
       "\n",
       "    .dataframe thead th {\n",
       "        text-align: right;\n",
       "    }\n",
       "</style>\n",
       "<table border=\"1\" class=\"dataframe\">\n",
       "  <thead>\n",
       "    <tr style=\"text-align: right;\">\n",
       "      <th></th>\n",
       "      <th>reservation_id</th>\n",
       "      <th>booking_date</th>\n",
       "      <th>checkin_date</th>\n",
       "      <th>checkout_date</th>\n",
       "      <th>channel_code</th>\n",
       "      <th>main_product_code</th>\n",
       "      <th>numberofadults</th>\n",
       "      <th>numberofchildren</th>\n",
       "      <th>persontravellingid</th>\n",
       "      <th>resort_region_code</th>\n",
       "      <th>...</th>\n",
       "      <th>state_code_residence</th>\n",
       "      <th>state_code_resort</th>\n",
       "      <th>total_pax</th>\n",
       "      <th>member_age_buckets</th>\n",
       "      <th>booking_type_code</th>\n",
       "      <th>memberid</th>\n",
       "      <th>cluster_code</th>\n",
       "      <th>reservationstatusid_code</th>\n",
       "      <th>resort_id</th>\n",
       "      <th>amount_spent_per_room_night_scaled</th>\n",
       "    </tr>\n",
       "  </thead>\n",
       "  <tbody>\n",
       "    <tr>\n",
       "      <th>0</th>\n",
       "      <td>07659f3758d8aee27f5a7e2887adeacb67021cb95ada1b...</td>\n",
       "      <td>2018-05-04</td>\n",
       "      <td>2018-05-04</td>\n",
       "      <td>06/04/18</td>\n",
       "      <td>3</td>\n",
       "      <td>1</td>\n",
       "      <td>2</td>\n",
       "      <td>0</td>\n",
       "      <td>46</td>\n",
       "      <td>3</td>\n",
       "      <td>...</td>\n",
       "      <td>7.0</td>\n",
       "      <td>3</td>\n",
       "      <td>3</td>\n",
       "      <td>F</td>\n",
       "      <td>1</td>\n",
       "      <td>3d1539e56495b6991f0a3ef5a61ca3d03ce4fff7380e9a...</td>\n",
       "      <td>F</td>\n",
       "      <td>C</td>\n",
       "      <td>4e07408562bedb8b60ce05c1decfe3ad16b72230967de0...</td>\n",
       "      <td>7.706428</td>\n",
       "    </tr>\n",
       "    <tr>\n",
       "      <th>1</th>\n",
       "      <td>03930f033646d073462b35d411616323597715ac4fc398...</td>\n",
       "      <td>2015-01-23</td>\n",
       "      <td>2015-11-04</td>\n",
       "      <td>16/04/15</td>\n",
       "      <td>1</td>\n",
       "      <td>1</td>\n",
       "      <td>2</td>\n",
       "      <td>0</td>\n",
       "      <td>46</td>\n",
       "      <td>3</td>\n",
       "      <td>...</td>\n",
       "      <td>7.0</td>\n",
       "      <td>5</td>\n",
       "      <td>2</td>\n",
       "      <td>F</td>\n",
       "      <td>1</td>\n",
       "      <td>3d1539e56495b6991f0a3ef5a61ca3d03ce4fff7380e9a...</td>\n",
       "      <td>F</td>\n",
       "      <td>A</td>\n",
       "      <td>39fa9ec190eee7b6f4dff1100d6343e10918d044c75eac...</td>\n",
       "      <td>6.662563</td>\n",
       "    </tr>\n",
       "    <tr>\n",
       "      <th>2</th>\n",
       "      <td>d145a32920e6587ad95bfe299d80c0affa268220535aaf...</td>\n",
       "      <td>2015-01-28</td>\n",
       "      <td>2015-01-02</td>\n",
       "      <td>05/02/15</td>\n",
       "      <td>1</td>\n",
       "      <td>1</td>\n",
       "      <td>2</td>\n",
       "      <td>0</td>\n",
       "      <td>47</td>\n",
       "      <td>1</td>\n",
       "      <td>...</td>\n",
       "      <td>7.0</td>\n",
       "      <td>1</td>\n",
       "      <td>2</td>\n",
       "      <td>F</td>\n",
       "      <td>1</td>\n",
       "      <td>3d1539e56495b6991f0a3ef5a61ca3d03ce4fff7380e9a...</td>\n",
       "      <td>E</td>\n",
       "      <td>A</td>\n",
       "      <td>535fa30d7e25dd8a49f1536779734ec8286108d115da50...</td>\n",
       "      <td>7.871602</td>\n",
       "    </tr>\n",
       "  </tbody>\n",
       "</table>\n",
       "<p>3 rows × 24 columns</p>\n",
       "</div>"
      ],
      "text/plain": [
       "                                      reservation_id booking_date  \\\n",
       "0  07659f3758d8aee27f5a7e2887adeacb67021cb95ada1b...   2018-05-04   \n",
       "1  03930f033646d073462b35d411616323597715ac4fc398...   2015-01-23   \n",
       "2  d145a32920e6587ad95bfe299d80c0affa268220535aaf...   2015-01-28   \n",
       "\n",
       "  checkin_date checkout_date  channel_code  main_product_code  numberofadults  \\\n",
       "0   2018-05-04      06/04/18             3                  1               2   \n",
       "1   2015-11-04      16/04/15             1                  1               2   \n",
       "2   2015-01-02      05/02/15             1                  1               2   \n",
       "\n",
       "   numberofchildren  persontravellingid  resort_region_code  ...  \\\n",
       "0                 0                  46                   3  ...   \n",
       "1                 0                  46                   3  ...   \n",
       "2                 0                  47                   1  ...   \n",
       "\n",
       "   state_code_residence  state_code_resort  total_pax  member_age_buckets  \\\n",
       "0                   7.0                  3          3                   F   \n",
       "1                   7.0                  5          2                   F   \n",
       "2                   7.0                  1          2                   F   \n",
       "\n",
       "   booking_type_code                                           memberid  \\\n",
       "0                  1  3d1539e56495b6991f0a3ef5a61ca3d03ce4fff7380e9a...   \n",
       "1                  1  3d1539e56495b6991f0a3ef5a61ca3d03ce4fff7380e9a...   \n",
       "2                  1  3d1539e56495b6991f0a3ef5a61ca3d03ce4fff7380e9a...   \n",
       "\n",
       "   cluster_code reservationstatusid_code  \\\n",
       "0             F                        C   \n",
       "1             F                        A   \n",
       "2             E                        A   \n",
       "\n",
       "                                           resort_id  \\\n",
       "0  4e07408562bedb8b60ce05c1decfe3ad16b72230967de0...   \n",
       "1  39fa9ec190eee7b6f4dff1100d6343e10918d044c75eac...   \n",
       "2  535fa30d7e25dd8a49f1536779734ec8286108d115da50...   \n",
       "\n",
       "  amount_spent_per_room_night_scaled  \n",
       "0                           7.706428  \n",
       "1                           6.662563  \n",
       "2                           7.871602  \n",
       "\n",
       "[3 rows x 24 columns]"
      ]
     },
     "execution_count": 20,
     "metadata": {},
     "output_type": "execute_result"
    }
   ],
   "source": [
    "train_df.head(3)"
   ]
  },
  {
   "cell_type": "markdown",
   "metadata": {},
   "source": [
    "### Parallelized using MP"
   ]
  },
  {
   "cell_type": "code",
   "execution_count": 21,
   "metadata": {},
   "outputs": [
    {
     "data": {
      "text/plain": [
       "21339.0"
      ]
     },
     "execution_count": 21,
     "metadata": {},
     "output_type": "execute_result"
    }
   ],
   "source": [
    "train_df = pd.read_csv('data/Data_For_Multiprocessing.csv')\n",
    "\n",
    "train_df.shape[0]/16"
   ]
  },
  {
   "cell_type": "code",
   "execution_count": 22,
   "metadata": {},
   "outputs": [
    {
     "name": "stdout",
     "output_type": "stream",
     "text": [
      "11.121872186660767\n"
     ]
    }
   ],
   "source": [
    "start = time.time()\n",
    "\n",
    "list_of_dfs = np.array_split(train_df, 16)\n",
    "\n",
    "with mp.Pool(processes = mp.cpu_count()) as pool:\n",
    "    result = pool.starmap(convert_to_date_mp,  \n",
    "                          iterable = [(i,['booking_date', 'checkin_date']) for i in list_of_dfs])\n",
    "    \n",
    "result = pd.concat(result)\n",
    "    \n",
    "end = time.time()\n",
    "print(end-start)"
   ]
  },
  {
   "cell_type": "code",
   "execution_count": 23,
   "metadata": {},
   "outputs": [
    {
     "data": {
      "text/plain": [
       "reservation_id                                object\n",
       "booking_date                          datetime64[ns]\n",
       "checkin_date                          datetime64[ns]\n",
       "checkout_date                                 object\n",
       "channel_code                                   int64\n",
       "main_product_code                              int64\n",
       "numberofadults                                 int64\n",
       "numberofchildren                               int64\n",
       "persontravellingid                             int64\n",
       "resort_region_code                             int64\n",
       "resort_type_code                               int64\n",
       "room_type_booked_code                          int64\n",
       "roomnights                                     int64\n",
       "season_holidayed_code                        float64\n",
       "state_code_residence                         float64\n",
       "state_code_resort                              int64\n",
       "total_pax                                      int64\n",
       "member_age_buckets                            object\n",
       "booking_type_code                              int64\n",
       "memberid                                      object\n",
       "cluster_code                                  object\n",
       "reservationstatusid_code                      object\n",
       "resort_id                                     object\n",
       "amount_spent_per_room_night_scaled           float64\n",
       "dtype: object"
      ]
     },
     "execution_count": 23,
     "metadata": {},
     "output_type": "execute_result"
    }
   ],
   "source": [
    "result.dtypes"
   ]
  },
  {
   "cell_type": "markdown",
   "metadata": {},
   "source": [
    "### Implementation using Threading"
   ]
  },
  {
   "cell_type": "code",
   "execution_count": 24,
   "metadata": {},
   "outputs": [],
   "source": [
    "train_df = pd.read_csv('data/Data_For_Multiprocessing.csv')"
   ]
  },
  {
   "cell_type": "code",
   "execution_count": 25,
   "metadata": {},
   "outputs": [],
   "source": [
    "list_of_dfs = np.array_split(train_df, 16)\n",
    "\n",
    "iters_list = ((i,['booking_date', 'checkin_date']) for i in list_of_dfs)"
   ]
  },
  {
   "cell_type": "code",
   "execution_count": 26,
   "metadata": {},
   "outputs": [],
   "source": [
    "def convert_to_date(df, columns_list):\n",
    "    for col in columns_list:\n",
    "        df[col] = pd.to_datetime(df[col])\n",
    "    return df"
   ]
  },
  {
   "cell_type": "code",
   "execution_count": 27,
   "metadata": {},
   "outputs": [
    {
     "name": "stdout",
     "output_type": "stream",
     "text": [
      "30.23114013671875\n"
     ]
    },
    {
     "data": {
      "text/plain": [
       "reservation_id                                object\n",
       "booking_date                          datetime64[ns]\n",
       "checkin_date                          datetime64[ns]\n",
       "checkout_date                                 object\n",
       "channel_code                                   int64\n",
       "main_product_code                              int64\n",
       "numberofadults                                 int64\n",
       "numberofchildren                               int64\n",
       "persontravellingid                             int64\n",
       "resort_region_code                             int64\n",
       "resort_type_code                               int64\n",
       "room_type_booked_code                          int64\n",
       "roomnights                                     int64\n",
       "season_holidayed_code                        float64\n",
       "state_code_residence                         float64\n",
       "state_code_resort                              int64\n",
       "total_pax                                      int64\n",
       "member_age_buckets                            object\n",
       "booking_type_code                              int64\n",
       "memberid                                      object\n",
       "cluster_code                                  object\n",
       "reservationstatusid_code                      object\n",
       "resort_id                                     object\n",
       "amount_spent_per_room_night_scaled           float64\n",
       "dtype: object"
      ]
     },
     "execution_count": 27,
     "metadata": {},
     "output_type": "execute_result"
    }
   ],
   "source": [
    "start = time.time()\n",
    "\n",
    "with concurrent.futures.ThreadPoolExecutor(max_workers=20) as executor:\n",
    "    results = executor.map(lambda x: convert_to_date(*x), iters_list)\n",
    "    result_values = []\n",
    "    for i in results:\n",
    "        result_values.append(i)\n",
    "        \n",
    "result_values = pd.concat(result_values)\n",
    "        \n",
    "end = time.time()\n",
    "print(end-start)\n",
    "\n",
    "result_values.dtypes"
   ]
  },
  {
   "cell_type": "markdown",
   "metadata": {},
   "source": [
    "**Why does threading not improve performance???**"
   ]
  }
 ],
 "metadata": {
  "kernelspec": {
   "display_name": "Python 3",
   "language": "python",
   "name": "python3"
  },
  "language_info": {
   "codemirror_mode": {
    "name": "ipython",
    "version": 3
   },
   "file_extension": ".py",
   "mimetype": "text/x-python",
   "name": "python",
   "nbconvert_exporter": "python",
   "pygments_lexer": "ipython3",
   "version": "3.8.2"
  }
 },
 "nbformat": 4,
 "nbformat_minor": 4
}
